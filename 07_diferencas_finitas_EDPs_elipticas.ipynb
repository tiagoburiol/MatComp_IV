{
 "cells": [
  {
   "cell_type": "markdown",
   "id": "8d4c73c9",
   "metadata": {
    "id": "8d4c73c9"
   },
   "source": [
    "## 7. Diferenças finitas para EDPs elípticas\n",
    "\n",
    "O método de diferenças finitas é uma abordagem numérica que aproxima as derivadas de uma equação diferencial parcial através de diferenças entre os valores discretos das variáveis ao longo de uma malha espacial e temporal, transformando a equação contínua em um sistema de equações algébricas solucionáveis. \n",
    "\n",
    "Uma equação diferencial parcial (EDP) elíptica é caracterizada por não depender explicitamente do tempo e estar associada a problemas estacionários. A forma geral de uma EDP elíptica em 2D é:\n",
    "\n",
    "$$\n",
    "A(x, y) u_{x x}+2 B(x, y) u_{x y}+C(x, y) u_{y y}+(\\text { termos de ordem menor })=0\n",
    "$$\n",
    "\n",
    "\n",
    "com\n",
    "\n",
    "$$\n",
    "B^2-A C<0\n",
    "$$"
   ]
  },
  {
   "cell_type": "markdown",
   "id": "7dc03631-f8c2-41cb-8d7c-245e01e10912",
   "metadata": {},
   "source": [
    "Exemplos clássicos de EDPs elípticas são:\n",
    "\n",
    "**Equação de Laplace 2D:** Usada em problemas envolvendo potenciais elétricos, temperatura em regime estacionário, fluxo de fluidos incompressíveis, etc.\n",
    "\n",
    "$$\n",
    "\\nabla^2 u=0 \\quad \\text { ou } \\quad \\frac{\\partial^2 u}{\\partial x^2}+\\frac{\\partial^2 u}{\\partial y^2}=0\n",
    "$$"
   ]
  },
  {
   "cell_type": "markdown",
   "id": "0d022aee-368e-4034-9589-1e25347a788b",
   "metadata": {},
   "source": [
    "**Equação de Poisson 2D:** Parecida com a de Laplace, mas com fonte interna $f(x, y)$. Usada, por exemplo, em problemas envolvendo distribuiçāo de carga elétrica.\n",
    "\n",
    "$$\n",
    "\\nabla^2 u=f(x, y) \\quad \\text { ou } \\quad \\frac{\\partial^2 u}{\\partial x^2}+\\frac{\\partial^2 u}{\\partial y^2}=f(x, y)\n",
    "$$\n"
   ]
  },
  {
   "cell_type": "markdown",
   "id": "06134ba4-2988-4e9f-bf7d-7f4fba4fe661",
   "metadata": {},
   "source": [
    "**Equação de Helmholtz:** Forma estacionária da onda. Surge em problemas de acústica, vibraçōes estacionárias e óptica.\n",
    "\n",
    "$$\n",
    "\\nabla^2 u+k^2 u=0\n",
    "$$\n",
    "\n"
   ]
  },
  {
   "cell_type": "markdown",
   "id": "4fbe7d15-bd7e-4a55-b734-2e94529c48cf",
   "metadata": {},
   "source": [
    "**Equação de biharmônica:** Importante na teoria da elasticidade e deflexāo de placas finas.\n",
    "\n",
    "$$\n",
    "\\nabla^4 u=0\n",
    "$$\n",
    "\n"
   ]
  },
  {
   "cell_type": "markdown",
   "id": "b2439cec-51a1-42e8-90c6-52461515a6c3",
   "metadata": {},
   "source": [
    "**Procedimento de resolução numérica por diferenças initas**\n",
    "\n",
    "*Escolhendo a malha*\n",
    "\n",
    "A primeira etapa para a resolução numérica pelo método das diferenças finitas é gerar uma malha discretizando a região $R$ do domínio do problema. No caso de uma região retangular $a<=x<=b$ e $c<=y<=d$, devemos escolher o número de subintervalos $m$ e $n$, nas direções $x$ e $y$, e obter os tamanhos dos passos em cada direção fazendo $h_x=(b-a) / n$ e $h_y=(d-c) / m$. Então dividimos o intervalo $[a,b]$ em $n$ partes iguais de largura $h$ e o intervalo $[c,d]$ em $m$ partes iguais de tamanho $k$"
   ]
  },
  {
   "cell_type": "code",
   "execution_count": 1,
   "id": "bde7d8f7-f188-4170-ad55-284a98e0d982",
   "metadata": {},
   "outputs": [],
   "source": [
    "import numpy as np\n",
    "import matplotlib.pyplot as plt"
   ]
  },
  {
   "cell_type": "markdown",
   "id": "88f410ee-9dfb-47c2-b979-9082aacda2ae",
   "metadata": {},
   "source": [
    "**Exemplo 1:** Discretização de uma região retangular.\n",
    "\n",
    "Considere a região $R=\\{(x, y) \\mid -1 \\leq x \\leq 3, -2 \\leq y \\leq 4 \\}$ e dividida em $8$ subintervalos na direção $x$ e $10$ subintervalos na direção $y$. Então, o tamanho dos passos serão $h_x=0.5$ e $h_y=0.6$ nas direções $x$ e $y$ respectivamente. Obtenha as coodenadas dos pontos da malha retangular."
   ]
  },
  {
   "cell_type": "code",
   "execution_count": 2,
   "id": "29177599-9bc7-4346-b9b4-e43c6b203b20",
   "metadata": {},
   "outputs": [
    {
     "name": "stdout",
     "output_type": "stream",
     "text": [
      "[-1.  -0.5  0.   0.5  1.   1.5  2.   2.5  3. ]\n"
     ]
    }
   ],
   "source": [
    "hx = 0.5\n",
    "xi = np.arange(-1, 3+hx, hx)\n",
    "print(xi)"
   ]
  },
  {
   "cell_type": "code",
   "execution_count": 3,
   "id": "ff720d44-8fa0-42a9-9ee2-8e7c088fb1b1",
   "metadata": {},
   "outputs": [
    {
     "name": "stdout",
     "output_type": "stream",
     "text": [
      "[-2.  -1.4 -0.8 -0.2  0.4  1.   1.6  2.2  2.8  3.4  4. ]\n"
     ]
    }
   ],
   "source": [
    "hy = 0.6\n",
    "yi = np.arange(-2, 4+hy, hy)\n",
    "print(yi)"
   ]
  },
  {
   "cell_type": "code",
   "execution_count": 4,
   "id": "ecf62d90-1f1b-4a55-a610-a78f02a88a45",
   "metadata": {},
   "outputs": [
    {
     "name": "stdout",
     "output_type": "stream",
     "text": [
      "[[-1.  -0.5  0.   0.5  1.   1.5  2.   2.5  3. ]\n",
      " [-1.  -0.5  0.   0.5  1.   1.5  2.   2.5  3. ]\n",
      " [-1.  -0.5  0.   0.5  1.   1.5  2.   2.5  3. ]\n",
      " [-1.  -0.5  0.   0.5  1.   1.5  2.   2.5  3. ]\n",
      " [-1.  -0.5  0.   0.5  1.   1.5  2.   2.5  3. ]\n",
      " [-1.  -0.5  0.   0.5  1.   1.5  2.   2.5  3. ]\n",
      " [-1.  -0.5  0.   0.5  1.   1.5  2.   2.5  3. ]\n",
      " [-1.  -0.5  0.   0.5  1.   1.5  2.   2.5  3. ]\n",
      " [-1.  -0.5  0.   0.5  1.   1.5  2.   2.5  3. ]\n",
      " [-1.  -0.5  0.   0.5  1.   1.5  2.   2.5  3. ]\n",
      " [-1.  -0.5  0.   0.5  1.   1.5  2.   2.5  3. ]]\n"
     ]
    }
   ],
   "source": [
    "x, y = np.meshgrid(xi,yi)\n",
    "print(x)"
   ]
  },
  {
   "cell_type": "code",
   "execution_count": 5,
   "id": "1498a313-e5e1-4f29-a588-fff82045e00d",
   "metadata": {},
   "outputs": [
    {
     "name": "stdout",
     "output_type": "stream",
     "text": [
      "[[-2.  -2.  -2.  -2.  -2.  -2.  -2.  -2.  -2. ]\n",
      " [-1.4 -1.4 -1.4 -1.4 -1.4 -1.4 -1.4 -1.4 -1.4]\n",
      " [-0.8 -0.8 -0.8 -0.8 -0.8 -0.8 -0.8 -0.8 -0.8]\n",
      " [-0.2 -0.2 -0.2 -0.2 -0.2 -0.2 -0.2 -0.2 -0.2]\n",
      " [ 0.4  0.4  0.4  0.4  0.4  0.4  0.4  0.4  0.4]\n",
      " [ 1.   1.   1.   1.   1.   1.   1.   1.   1. ]\n",
      " [ 1.6  1.6  1.6  1.6  1.6  1.6  1.6  1.6  1.6]\n",
      " [ 2.2  2.2  2.2  2.2  2.2  2.2  2.2  2.2  2.2]\n",
      " [ 2.8  2.8  2.8  2.8  2.8  2.8  2.8  2.8  2.8]\n",
      " [ 3.4  3.4  3.4  3.4  3.4  3.4  3.4  3.4  3.4]\n",
      " [ 4.   4.   4.   4.   4.   4.   4.   4.   4. ]]\n"
     ]
    }
   ],
   "source": [
    "print(y)"
   ]
  },
  {
   "cell_type": "code",
   "execution_count": 6,
   "id": "60ce2d22-c865-48c1-8d57-0429efb18d85",
   "metadata": {},
   "outputs": [
    {
     "data": {
      "image/png": "[encoded data removed]",
      "text/plain": [
       "<Figure size 600x400 with 1 Axes>"
      ]
     },
     "metadata": {},
     "output_type": "display_data"
    }
   ],
   "source": [
    "plt.figure(figsize=(6, 4))\n",
    "plt.scatter(x,y, s = 3)\n",
    "plt.gca().set_aspect('equal')"
   ]
  },
  {
   "cell_type": "markdown",
   "id": "43b6648d-5f76-4f22-b702-fee05da0abb4",
   "metadata": {},
   "source": [
    "**Exemplo 2:** Discretização de um setor circular.\n",
    "\n",
    "Considere um setor circular $R=\\{(r, t) \\mid 0 \\leq r \\leq 3, 0 \\leq  \\theta \\leq \\pi/2 \\}$, em coordenadas polares, dividido em $15$ subintervalos na direção do raio $r$ e $18$ subintervalos na direção do ângulo $\\theta$. "
   ]
  },
  {
   "cell_type": "code",
   "execution_count": 7,
   "id": "6d777fbc-3167-44d8-aa95-c41e64e76641",
   "metadata": {},
   "outputs": [
    {
     "data": {
      "image/png": "[encoded data removed]",
      "text/plain": [
       "<Figure size 300x300 with 1 Axes>"
      ]
     },
     "metadata": {},
     "output_type": "display_data"
    }
   ],
   "source": [
    "ri = np.linspace(0,3, 16)\n",
    "ti = np.linspace(0, np.pi/2, 18)\n",
    "\n",
    "# usando a função meshgrid\n",
    "r, t = np.meshgrid(ri, ti)\n",
    "\n",
    "plt.figure(figsize=(3, 3))\n",
    "plt.scatter(r*np.cos(t), r*np.sin(t), s = 3)\n",
    "plt.show()"
   ]
  },
  {
   "cell_type": "markdown",
   "id": "c173d666-09e3-4062-bdc4-1fcf9815e8af",
   "metadata": {},
   "source": [
    "*Obtendo as equações de diferenças finitas*\n",
    "\n",
    "Usamos a série de Taylor na variável $x$ em torno de $x_i$ para gerar a fórmula de diferenças centradas\n",
    "\n",
    "$$\n",
    "\\frac{\\partial^2 u}{\\partial x^2}\\left(x_i, y_j\\right) \\approx\n",
    "\\frac{u\\left(x_{i+1}, y_j\\right)-2 u\\left(x_i, y_j\\right)+u\\left(x_{i-1}, y_j\\right)}{h_x^2}\n",
    "$$\n",
    "\n",
    "e na variável $y$ em torno de $y_j$ para gerar a fórmula \n",
    "\n",
    "$$\n",
    "\\frac{\\partial^2 u}{\\partial y^2}\\left(x_i, y_j\\right)\n",
    "\\approx\n",
    "\\frac{u\\left(x_i, y_{j+1}\\right)-2 u\\left(x_i, y_j\\right)+u\\left(x_i, y_{j-1}\\right)}{h_y^2}\n",
    "$$\n",
    "\n",
    "\n",
    "A utilização destas fórmulas nos permite expressar a EDO em termos de equações algébricas de diferenças, por exemplo, substituindo na na equação de Poisson \n",
    "\n",
    "$$\\frac{\\partial^2 u}{\\partial x^2}+\\frac{\\partial^2 u}{\\partial y^2}=f$$\n",
    "\n",
    "\n",
    "obtém-se para cada ponto $\\left(x_i, y_j\\right)$ da malha uma equação como\n",
    "\n",
    "$$\n",
    "\\frac{u_{i-1,j}-2 u_{i,j}+u_{i+1,j}}{h_x^2}+\n",
    "\\frac{u_{i,j-1}-2 u_{i,j}+u_{i,j+1}}{h_y^2}\n",
    "\\approx\n",
    "f_{i,j}\n",
    "$$\n",
    "\n",
    "\n",
    "em que $u_{i,j}=u(x_i, y_j)$ e $f_{i,j}= f(x_i, y_j)$, com $i=0,...,n$ e $j=0,...,m$ \n",
    "\n",
    "\n",
    "Note que, conhecidas as condições de contorno, ou seja os valores para $u(x_0,y_j)$, $u(x_n,y_j)$, $u(x_i,y_0)$ e $u(x_i,y_m)$, as equações para cada ponto interno da malha fornecem um sistema linear cuja solução é a resolução numérica do problema.\n",
    "\n",
    "Note também que cada equação envolve o valor da função em um ponto interno da malha e os quatro pontos vizinhos a ele, em cima, em baixo, à direita e à esquerda."
   ]
  },
  {
   "cell_type": "markdown",
   "id": "203c77fd-9d3d-44ca-9abd-2f92e7e9a9c6",
   "metadata": {},
   "source": [
    "<img src=\"https://github.com/tiagoburiol/MatComp_IV/blob/main/imagens/stenil.png?raw=true\" width=\"280\">"
   ]
  },
  {
   "cell_type": "markdown",
   "id": "c6f09060-efc0-46eb-bcc7-e836bea249f2",
   "metadata": {},
   "source": [
    "Assim, a forma matricial dos coeficientes é obtida usando as equações\n",
    "\n",
    "$$\n",
    "-2\\left(\\frac{1}{h_x^2}+\\frac{1}{h_y^2}\\right) u_{i, j}+\\frac{1}{h_x^2}\\left(u_{i-1, j}+u_{i+1, j}\\right)+\\frac{1}{h_y^2}\\left(u_{i, j-1}+u_{i, j+1}\\right)=f_{i,j}\n",
    "$$\n",
    "\n",
    "\n",
    "Em que o coeficiente central $u_{i, j}$ é\n",
    "\n",
    "$$\n",
    "A_{i, j}=-2\\left(\\frac{1}{h_x^2}+\\frac{1}{h_y^2}\\right)\n",
    "$$\n",
    "\n",
    "Os vizinhos em $x$ e $y$ são, respectivamente $\\frac{1}{h_x^2}$ e $\\frac{1}{h_y^2}$.\n",
    "\n",
    "Usando condições de contorno nos pontos da fronteira da malha obtemos um sistema linear $(n-1)(m-1) \\times(n-1)$ $(m-1)$ com as incógnitas sendo as aproximações para $u_{i, j}$ nos pontos interiores da malha."
   ]
  },
  {
   "cell_type": "markdown",
   "id": "320f5e36-0187-4df5-8f65-f607046bfc5e",
   "metadata": {},
   "source": [
    "Observe que no caso em que $h_x=h_y=h$ a equação fica\n",
    "\n",
    "$$u_{i-1,j}+u_{i+1,j}-4u_{i,j}+ u_{i,j-1}+u_{i,j+1} = h^2 f_{i,j}$$\n",
    "\n",
    "e, ainda, se $f_{i,j}=0$ (equação de Laplace), a equação fica \n",
    "\n",
    "$$u_{i-1,j}+u_{i+1,j}-4u_{i,j}+ u_{i,j-1}+u_{i,j+1} = 0.$$"
   ]
  },
  {
   "cell_type": "markdown",
   "id": "0b943085-4d6a-480f-b5b4-b71751ce63e6",
   "metadata": {},
   "source": [
    "A solução do sistema linear obtido a partir das equações de diferenças será a solução numérica da EDP sob as condições de contorno fornecidas. "
   ]
  },
  {
   "cell_type": "markdown",
   "id": "641251a8-c79b-43d5-abb3-be74c46f4e62",
   "metadata": {},
   "source": [
    "**Exemplo 3:** (Fonte: [Burden(2016](https://integrada.minhabiblioteca.com.br/reader/books/9788522123414/pageid/823))\n",
    "Determine a distribuição de calor estacionária em uma placa de metal fina com dimensões $0,5 \\mathrm{~m}$ por $0,5 \\mathrm{~m}$ usando, inicialmente, $n=m=4$. Dois lados adjacentes são mantidos a $0^{\\circ} \\mathrm{C}$ e o calor nos outros lados aumenta linearmente de $0{ }^{\\circ} \\mathrm{C}$ em um canto a $100{ }^{\\circ} \\mathrm{C}$ onde os lados se encontram. Coloque os lados com condições de contorno nulas ao longo dos eixos $x$ e $y$.\n",
    "\n",
    "*Solução:* Nesse caso o problema será expresso como\n",
    "\n",
    "$$\n",
    "\\frac{\\partial^2 u}{\\partial x^2}(x, y)+\\frac{\\partial^2 u}{\\partial y^2}(x, y)=0,\n",
    "$$\n",
    "\n",
    "para $(x, y)$ no conjunto $R=\\{(x, y) \\mid 0<x<0,5,0<y<0,5\\}$, com as condições de contorno\n",
    "\n",
    "$$\n",
    "u(0, y)=0, u(x, 0)=0, u(x, 0,5)=200 x \\text { e } u(0,5, y)=200 y .\n",
    "$$\n",
    "\n",
    "Se $n=m=4$  a equação diferença  é\n",
    "\n",
    "$$u_{i-1,j}+u_{i+1,j}-4u_{i,j}+ u_{i,j-1}+u_{i,j+1} = 0$$\n",
    "\n",
    "para cada $i=1,2,3$ e $j=1,2,3$."
   ]
  },
  {
   "cell_type": "markdown",
   "id": "e5e5cab6-52da-45a4-8189-991b71134ed2",
   "metadata": {},
   "source": [
    "É conveniente numerarmos os pontos internos da grade como é mostrado na figura abaixo para reduzir a necessidade de subíndice duplo\n",
    "\n",
    "<img src=\"https://github.com/tiagoburiol/MatComp_IV/blob/main/imagens/numeracao.png?raw=true\" width=\"380\">"
   ]
  },
  {
   "cell_type": "markdown",
   "id": "f8150a80-a3f2-41d2-86a2-866f8e33630d",
   "metadata": {},
   "source": [
    "Expressar isto em termos dos pontos interiores da grade, com a enumeração descrita acima, $u_i=u\\left(P_i\\right)$, implica que as equações nos pontos $P_i$ serão:\n",
    "$$\n",
    "\\begin{array}{rrrl}\n",
    "P_1: & 4 u_1-u_2-u_4 & =u_{0,3}+u_{1,4}, \\\\\n",
    "P_2: & 4 u_2-u_3-u_1-u_5 & =u_{2,4}, \\\\\n",
    "P_3: & 4 u_3-u_2-u_6 & =u_{4,3}+u_{3,4}, \\\\\n",
    "P_4: & 4 u_4-u_5-u_1-u_7 & =u_{0,2}, \\\\\n",
    "P_5: & 4 u_5-u_6-u_4-u_2-u_8 & =0, \\\\\n",
    "P_6: & 4 u_6-u_5-u_3-u_9 & =u_{4,2}, \\\\\n",
    "P_7: & 4 u_7-u_8-u_4 & =u_{0,1}+u_{1,0}, \\\\\n",
    "P_8: & 4 u_8-u_9-u_7-u_5 & =u_{2,0}, \\\\\n",
    "P_9: & 4 u_9-u_8-u_6 & =u_{3,0}+u_{4,1},\n",
    "\\end{array}\n",
    "$$"
   ]
  },
  {
   "cell_type": "markdown",
   "id": "bde9fc70-f256-4fcf-b512-f719701f413d",
   "metadata": {},
   "source": [
    "em que os lados direitos das equações são obtidos a partir das condições de contorno.\n",
    "De fato, as condições de contorno implicam que\n",
    "\n",
    "$$\n",
    "\\begin{aligned}\n",
    "& u_{1,0}=u_{2,0}=u_{3,0}=u_{0,1}=u_{0,2}=u_{0,3}=0, \\\\\n",
    "& u_{1,4}=u_{4,1}=25, \\quad u_{2,4}=u_{4,2}=50 \\quad\\text{e}\\quad u_{3,4}=u_{4,3}=75 .\n",
    "\\end{aligned}\n",
    "$$"
   ]
  },
  {
   "cell_type": "code",
   "execution_count": 347,
   "id": "09c6bed0-71ab-4faa-9590-6e5adfddc637",
   "metadata": {},
   "outputs": [],
   "source": [
    "A = np.array([[4 , -1 , 0 , -1 , 0 , 0 , 0 , 0 , 0],\n",
    "              [-1 , 4 , -1 , 0 , -1 , 0 , 0 , 0 , 0],\n",
    "              [0 , -1 , 4 , 0 , 0 , -1 , 0 , 0 , 0],\n",
    "              [-1 , 0 , 0 , 4 , -1 , 0 , -1 , 0 , 0],\n",
    "              [0 , -1 , 0 , -1 , 4 , -1 , 0 , -1 , 0],\n",
    "              [0 , 0 , -1 , 0 , -1 , 4 , 0 , 0 , -1],\n",
    "              [0 , 0 , 0 , -1 , 0 , 0 , 4 , -1 , 0],\n",
    "              [0 , 0 , 0 , 0 , -1 , 0 , -1 , 4 , -1],\n",
    "              [0 , 0 , 0 , 0 , 0 , -1 , 0 , -1 , 4]])\n",
    "b = np.array([25,50,150,0,0,50,0,0,25])"
   ]
  },
  {
   "cell_type": "code",
   "execution_count": 348,
   "id": "548e21b1-f563-4536-b46d-a48204c6eecb",
   "metadata": {},
   "outputs": [
    {
     "name": "stdout",
     "output_type": "stream",
     "text": [
      "[18.75 37.5  56.25 12.5  25.   37.5   6.25 12.5  18.75]\n"
     ]
    }
   ],
   "source": [
    "S = np.linalg.solve(A,b)\n",
    "print (S)"
   ]
  },
  {
   "cell_type": "code",
   "execution_count": 349,
   "id": "b1d8c9f8-0381-4c2b-956f-ea2e3e41f404",
   "metadata": {},
   "outputs": [
    {
     "name": "stdout",
     "output_type": "stream",
     "text": [
      "[[18.75 37.5  56.25]\n",
      " [12.5  25.   37.5 ]\n",
      " [ 6.25 12.5  18.75]]\n"
     ]
    }
   ],
   "source": [
    "S = S.reshape(3,3)\n",
    "print (S)"
   ]
  },
  {
   "cell_type": "code",
   "execution_count": 350,
   "id": "ce36b4af-3b0c-4e48-98ab-7a92d0fe0408",
   "metadata": {},
   "outputs": [
    {
     "name": "stdout",
     "output_type": "stream",
     "text": [
      "[[  0.    25.    50.    75.   100.  ]\n",
      " [  0.    18.75  37.5   56.25  75.  ]\n",
      " [  0.    12.5   25.    37.5   50.  ]\n",
      " [  0.     6.25  12.5   18.75  25.  ]\n",
      " [  0.     0.     0.     0.     0.  ]]\n"
     ]
    }
   ],
   "source": [
    "T = np.zeros((5,5))\n",
    "T[:,-1] = np.array([100,75,50,25,0])\n",
    "T[0] = np.array([0,25,50,75,100])\n",
    "T[1:-1, 1:-1] = S\n",
    "print (T)"
   ]
  },
  {
   "cell_type": "code",
   "execution_count": 351,
   "id": "21f3051f-3d4d-4d1c-92e1-7f555e4046e6",
   "metadata": {},
   "outputs": [
    {
     "data": {
      "image/png": "[encoded data removed]",
      "text/plain": [
       "<Figure size 300x300 with 2 Axes>"
      ]
     },
     "metadata": {},
     "output_type": "display_data"
    }
   ],
   "source": [
    "fig, ax = plt.subplots(figsize=(3, 3))\n",
    "plt.pcolor(T, cmap='jet')\n",
    "plt.colorbar()\n",
    "ax.invert_yaxis()\n",
    "ax.set_aspect('equal')\n",
    "plt.show()"
   ]
  },
  {
   "cell_type": "markdown",
   "id": "2e6ae246-8a10-48b3-b381-5c37452405b0",
   "metadata": {},
   "source": [
    "**Algoritmo parametrizado:** \n",
    "A seguir é mostrado um exemplo de algoritmo parametrizado para montar o sistema linear de equações de diferenças e resolução desse exemplo com diferentes configurações de malhas inclusive para $h_x \\neq h_y$."
   ]
  },
  {
   "cell_type": "code",
   "execution_count": 604,
   "id": "570f886e-ccb2-4868-9c10-67a6728251b4",
   "metadata": {},
   "outputs": [],
   "source": [
    "Lx= 0.5\n",
    "Ly= 0.5\n",
    "nx= 30\n",
    "ny= 20"
   ]
  },
  {
   "cell_type": "code",
   "execution_count": 605,
   "id": "fa78ebb5-44e5-4aa9-a4bc-f49378ef06da",
   "metadata": {},
   "outputs": [],
   "source": [
    "hx = Lx/nx\n",
    "hy = Ly/ny\n",
    "\n",
    "N = (nx-1) * (ny-1)\n",
    "A = np.zeros((N, N), dtype=float)\n",
    "b = np.zeros(N, dtype=float)"
   ]
  },
  {
   "cell_type": "code",
   "execution_count": 606,
   "id": "b33a76f5-1747-4989-a18a-a1cb13644a0b",
   "metadata": {},
   "outputs": [],
   "source": [
    "def idx(i, j):\n",
    "    return (i-1)*(ny-1) + (j-1)"
   ]
  },
  {
   "cell_type": "code",
   "execution_count": 607,
   "id": "5e3f5882-8762-4fa2-9669-a61df43fbc0d",
   "metadata": {},
   "outputs": [],
   "source": [
    "# Montagem do sistema\n",
    "ax = (1/hx**2)\n",
    "ay = 1.0 / hy**2\n",
    "ac = -2.0 * (ax + ay)\n",
    "\n",
    "for i in range(1, nx):        # i = 1 .. nx-1 (internos em x)\n",
    "    for j in range(1, ny):    # j = 1 .. ny-1 (internos em y)\n",
    "        k = idx(i, j)\n",
    "        A[k, k] = ac\n",
    "\n",
    "        if i > 1:\n",
    "            A[k, idx(i-1, j)] = (1/hx**2)\n",
    "        else:\n",
    "            b[k] -= ax * 0.0\n",
    "\n",
    "        if i < nx-1:\n",
    "            A[k, idx(i+1, j)] = ax\n",
    "        else:\n",
    "            b[k] -= ax * (200.0 * (j * hy))\n",
    "\n",
    "        # vizinho abaixo (i, j-1)\n",
    "        if j > 1:\n",
    "            A[k, idx(i, j-1)] = ay\n",
    "        else:\n",
    "            b[k] -= ay * 0.0\n",
    "\n",
    "        if j < ny-1:\n",
    "            A[k, idx(i, j+1)] = ay\n",
    "        else:\n",
    "            b[k] -= ay * (200.0 * (i * hx))\n"
   ]
  },
  {
   "cell_type": "code",
   "execution_count": 608,
   "id": "df01e0e4-b7a6-4812-9fe4-0a57e99a754d",
   "metadata": {},
   "outputs": [],
   "source": [
    "# Resolve o sistema\n",
    "u_vec = np.linalg.solve(A, b)\n",
    "U_internal = u_vec.reshape((nx-1, ny-1))  # shape (nx-1, ny-1)\n",
    "\n",
    "# Reconstrução da matriz completa (inclui bordas)\n",
    "U = np.zeros((nx+1, ny+1), dtype=float)\n",
    "x_coords = np.linspace(0.0, Lx, nx+1)\n",
    "y_coords = np.linspace(0.0, Ly, ny+1)\n",
    "\n",
    "# borda superior: u(x,Ly) = 200*x\n",
    "for i in range(nx+1):\n",
    "    U[i, ny] = 200.0 * x_coords[i]\n",
    "# borda direita: u(Lx,y) = 200*y\n",
    "for j in range(ny+1):\n",
    "    U[nx, j] = 200.0 * y_coords[j]\n",
    "\n",
    "# internos\n",
    "U[1:nx, 1:ny] = U_internal"
   ]
  },
  {
   "cell_type": "code",
   "execution_count": 611,
   "id": "94682c53-a34f-42e4-b97d-d1cd458b40c3",
   "metadata": {},
   "outputs": [
    {
     "data": {
      "image/png": "[encoded data removed]",
      "text/plain": [
       "<Figure size 400x300 with 2 Axes>"
      ]
     },
     "metadata": {},
     "output_type": "display_data"
    }
   ],
   "source": [
    "fig, ax = plt.subplots(figsize=(4, 3))\n",
    "p = ax.pcolor(U, cmap='jet')\n",
    "fig.colorbar(p,ax=ax)\n",
    "ax.axis('off')\n",
    "plt.show()"
   ]
  },
  {
   "cell_type": "markdown",
   "id": "d6ae0230-34d4-42e9-835a-62d54692f8b3",
   "metadata": {},
   "source": [
    "##### **Exercício 1.** Determine uma solução aproximada da equação diferencial parcial elíptica\n",
    "$$\n",
    "\\begin{array}{cl}\n",
    "\\frac{\\partial^2 u}{\\partial x^2}+\\frac{\\partial^2 u}{\\partial y^2}=0, & 1<x<2, \\quad 0<y<1 ; \\\\\n",
    "u(x, 0)=2 \\ln x, & u(x, 1)=\\ln \\left(x^2+1\\right), \\quad 1 \\leq x \\leq 2 ; \\\\\n",
    "u(1, y)=\\ln \\left(y^2+1\\right), & u(2, y)=\\ln \\left(y^2+4\\right), \\quad 0 \\leq y \\leq 1 .\n",
    "\\end{array}\n",
    "$$\n",
    "\n",
    "Use $h=k=\\frac{1}{3}$ e compare os resultados com a solução real $u(x, y)=\\ln \\left(x^2+y^2\\right)$."
   ]
  },
  {
   "cell_type": "code",
   "execution_count": null,
   "id": "6c032865-87c5-4f30-8aaa-da06b13ef407",
   "metadata": {},
   "outputs": [],
   "source": []
  },
  {
   "cell_type": "markdown",
   "id": "LjaNY8NLJuq2",
   "metadata": {
    "id": "LjaNY8NLJuq2"
   },
   "source": [
    "### Resolução iterativa de Gauss-Seidel (ou Liebmann)\n",
    "\n",
    "À medida que o tamanho da malha estudada aumenta, as dimensões do sistema associado aumenta <u>quadraticamente</u> (para uma malha $n\\times n$ obtemos um sistema $(n-2)\\times(n-2)$). Assim, resolver diretamente o sistema pode se tornar pouco eficiente.\n",
    "\n",
    "Em vista disso, vejamos como utilizar um método iterativo. No contexto de problemas de condução térmica (como o anterior, da equação de Laplace), o método pode ser interpretado como **inicializando uma região plana em temperatura zero e vendo como a condução do calor obtida pelo método das diferenças finitas reagem às condições de fronteira dadas**."
   ]
  },
  {
   "cell_type": "markdown",
   "id": "Z2s3qsblub09",
   "metadata": {
    "id": "Z2s3qsblub09"
   },
   "source": [
    "Por exemplo, aplicando o método das diferenças finitas à equação de Laplace $\\frac{\\partial^2 T}{\\partial x^2} + \\frac{\\partial^2 T}{\\partial y^2 = 0}$ obtemos\n",
    "\n",
    "$$\n",
    "T_{i-1,j} + T_{i+1,j} - 4T_{i,j} + T_{i,j-1} + T_{i,j+1} = 0,\n",
    "$$\n",
    "\n",
    "que pode ser reescrita como\n",
    "\n",
    "$$\n",
    "T_{i,j} = \\frac{T_{i-1,j} + T_{i+1,j} + T_{i,j-1} + T_{i,j+1}}{4}.\n",
    "$$"
   ]
  },
  {
   "cell_type": "markdown",
   "id": "dgd6v-dwcqD_",
   "metadata": {
    "id": "dgd6v-dwcqD_"
   },
   "source": [
    "Assim, vejamos como computar os valores da malha após 100 iterações para o mesmo problema do Exemplo 3,"
   ]
  },
  {
   "cell_type": "code",
   "execution_count": 630,
   "id": "58637acf-bf58-480f-9b6f-dfb646ad5c40",
   "metadata": {},
   "outputs": [],
   "source": [
    "nx, ny = 12, 12\n",
    "# Reconstrói a solução completa (nx+1, ny+1)\n",
    "T = np.zeros((nx+1, ny+1), dtype=float)\n",
    "\n",
    "# bordas: esquerda (x=0) e baixo (y=0) -> zero por enunciado\n",
    "# borda superior y = Ly: u(x,Ly) = 200 * x\n",
    "x_coords = np.linspace(0.0, Lx, nx+1)\n",
    "y_coords = np.linspace(0.0, Ly, ny+1)\n",
    "for i in range(nx+1):\n",
    "    T[i, ny] = 200.0 * x_coords[i]\n",
    "# borda direita x = Lx: u(Lx,y) = 200 * y\n",
    "for j in range(ny+1):\n",
    "    T[nx, j] = 200.0 * y_coords[j]"
   ]
  },
  {
   "cell_type": "code",
   "execution_count": 631,
   "id": "qVuqfrT_EWik",
   "metadata": {
    "colab": {
     "base_uri": "https://localhost:8080/",
     "height": 435
    },
    "executionInfo": {
     "elapsed": 373,
     "status": "ok",
     "timestamp": 1718298793426,
     "user": {
      "displayName": "LEONARDO GUERINI DE SOUZA",
      "userId": "04831275307445626296"
     },
     "user_tz": 120
    },
    "id": "qVuqfrT_EWik",
    "outputId": "2a7b2bea-cfcb-4225-9396-bb71ad4475d7"
   },
   "outputs": [
    {
     "data": {
      "image/png": "[encoded data removed]",
      "text/plain": [
       "<Figure size 400x300 with 2 Axes>"
      ]
     },
     "metadata": {},
     "output_type": "display_data"
    }
   ],
   "source": [
    "# rodando a fórmula de diferenças finitas 100 vezes\n",
    "for _ in range(100):\n",
    "    for i in range(1, len(T)-1):\n",
    "        for j in range(1, len(T)-1):\n",
    "            T[i, j] = (T[i-1, j] + T[i+1, j] + T[i, j-1] + T[i, j+1]) / 4\n",
    "\n",
    "# plotando (exceto as fronteiras)\n",
    "fig, ax = plt.subplots(figsize=(4, 3))\n",
    "plt.pcolor(T, cmap='jet')\n",
    "plt.gca().set_aspect('equal')\n",
    "plt.colorbar()\n",
    "plt.show()"
   ]
  },
  {
   "cell_type": "markdown",
   "id": "ZViJU0vSM6dE",
   "metadata": {
    "id": "ZViJU0vSM6dE"
   },
   "source": [
    "<br>\n",
    "\n",
    "Para decidir quantas iterações rodar, vamos definir um **critério de parada** através da diferença relativa entre a temperatura na malha $T$ numa iteração e a temperatura na iteração anterior $T_{ant}$,\n",
    "\n",
    "$$err_{rel} = \\frac{|| T-T_{ant} ||}{||T||} .$$\n",
    "\n",
    "A norma $||T||$ pode ser calculada com o comando `np.linalg.norm(T)`.\n",
    "\n",
    "Assim, iteramos o método até que esse erro relativo fique menor que uma tolerância pré-estabelecida."
   ]
  },
  {
   "cell_type": "markdown",
   "id": "6d415b5b-8da6-4971-a669-7a50ddb9c219",
   "metadata": {},
   "source": [
    "**Exemplo 4:** Considere uma placa aquecida na qual as temperaturas nas bordas são mantidas em níveis constantes (condição de contorno de Dirichlet) como é mostrado na figura abaixo (Fonte: [Chapra, 2016](https://integrada.minhabiblioteca.com.br/reader/books/9788580555691/pageid/769)). \n",
    "\n",
    "<img src=\"https://github.com/tiagoburiol/MatComp_IV/blob/main/imagens/exemplo_laplace.png?raw=true\" width=\"240\">\n"
   ]
  },
  {
   "cell_type": "code",
   "execution_count": 632,
   "id": "--Iui1y5Mhdw",
   "metadata": {
    "colab": {
     "base_uri": "https://localhost:8080/",
     "height": 453
    },
    "executionInfo": {
     "elapsed": 1326,
     "status": "ok",
     "timestamp": 1718298956817,
     "user": {
      "displayName": "LEONARDO GUERINI DE SOUZA",
      "userId": "04831275307445626296"
     },
     "user_tz": 120
    },
    "id": "--Iui1y5Mhdw",
    "outputId": "a7271897-bbcd-4b66-fa29-63a50bb7b92f"
   },
   "outputs": [
    {
     "name": "stdout",
     "output_type": "stream",
     "text": [
      "Número de iterações: 15\n"
     ]
    },
    {
     "data": {
      "image/png": "[encoded data removed]",
      "text/plain": [
       "<Figure size 400x300 with 2 Axes>"
      ]
     },
     "metadata": {},
     "output_type": "display_data"
    }
   ],
   "source": [
    "# reinicializando a temperatura na malha com zeros\n",
    "T = np.zeros([50, 50])\n",
    "\n",
    "# inicializando a temperatura anterior\n",
    "T_ant = T.copy()\n",
    "\n",
    "# condições de fronteira\n",
    "T[0, :] = 0    # fronteira inferior\n",
    "T[49, :] = 100     # frontreira superior\n",
    "T[:, 0] = 75      # fronteira esquerda\n",
    "T[:, 49] = 50    # fronteira direita\n",
    "\n",
    "# inicializando o erro relativo num valor alto\n",
    "err = 1\n",
    "# definindo a tolerância\n",
    "tol = 0.001\n",
    "# contador de iterações\n",
    "n_iter = 0\n",
    "error = []\n",
    "# escreva um laço 'while' que resulte num erro relativo entre T e T_ant menor\n",
    "# que a tolerância definida, contando o número de iterações\n",
    "while err > tol:\n",
    "  n_iter += 1\n",
    "  for _ in range(100):\n",
    "    for i in range(1, len(T)-1):\n",
    "        for j in range(1, len(T)-1):\n",
    "            T[i, j] = (T[i-1, j] + T[i+1, j] + T[i, j-1] + T[i, j+1]) / 4\n",
    "  err = np.linalg.norm(T-T_ant)/np.linalg.norm(T)\n",
    "  error.append(err)\n",
    "  T_ant = T.copy()\n",
    "\n",
    "print('Número de iterações:', n_iter)\n",
    "\n",
    "# plotando (exceto as fronteiras)\n",
    "fig, ax = plt.subplots(figsize=(4, 3))\n",
    "plt.pcolor(T, cmap='jet')\n",
    "plt.gca().set_aspect('equal')\n",
    "plt.colorbar()\n",
    "plt.show()"
   ]
  },
  {
   "cell_type": "code",
   "execution_count": 633,
   "id": "01ba519b-013e-4199-9fdf-23d54ab19caa",
   "metadata": {},
   "outputs": [
    {
     "data": {
      "image/png": "[encoded data removed]",
      "text/plain": [
       "<Figure size 400x300 with 1 Axes>"
      ]
     },
     "metadata": {},
     "output_type": "display_data"
    }
   ],
   "source": [
    "fig, ax = plt.subplots(figsize=(4, 3))\n",
    "plt.plot(range(len(error)),error, '.:')\n",
    "plt.grid()\n",
    "\n",
    "plt.title('Gráfico Iteração x Erro')\n",
    "plt.ylabel('Erro')\n",
    "plt.xlabel('Iteração')\n",
    "\n",
    "plt.show()"
   ]
  },
  {
   "cell_type": "markdown",
   "id": "zjRgVLMSgGVU",
   "metadata": {
    "id": "zjRgVLMSgGVU"
   },
   "source": [
    "Além disso, em contraste com o método de resolução direto, no método iterativo de Gauss-Seidel **é bastante simples aumentar o tamanho da malha** e, consequentemente, melhorar a aproximação da solução."
   ]
  },
  {
   "cell_type": "code",
   "execution_count": 634,
   "id": "803027f4-7789-4065-be0f-f54632904389",
   "metadata": {},
   "outputs": [],
   "source": [
    "import matplotlib.pyplot as plt\n",
    "import numpy as np"
   ]
  },
  {
   "cell_type": "code",
   "execution_count": 470,
   "id": "a51c0f2a-8a79-4c2e-847e-12c307f0a30c",
   "metadata": {},
   "outputs": [
    {
     "data": {
      "image/png": "[encoded data removed]",
      "text/plain": [
       "<Figure size 640x480 with 1 Axes>"
      ]
     },
     "metadata": {},
     "output_type": "display_data"
    }
   ],
   "source": [
    "x = np.linspace(0,20,21)\n",
    "y = np.linspace(0,20,21)\n",
    "xi, yj = np.meshgrid(x,y)\n",
    "\n",
    "plt.plot(xi,yj,'b,')\n",
    "plt.gca().set_aspect('equal')\n",
    "plt.grid()"
   ]
  },
  {
   "cell_type": "code",
   "execution_count": 471,
   "id": "4113bf60-07d4-4384-b863-c26b16cfa796",
   "metadata": {},
   "outputs": [
    {
     "data": {
      "image/png": "[encoded data removed]",
      "text/plain": [
       "<Figure size 640x480 with 2 Axes>"
      ]
     },
     "metadata": {},
     "output_type": "display_data"
    }
   ],
   "source": [
    "ni = 20\n",
    "nj = 20\n",
    "\n",
    "T = np.zeros([ni,nj])\n",
    "T_ant = T.copy()\n",
    "T[-1, :] = 50   # em cima\n",
    "T[:, -1] = 100  # direita\n",
    "T[0,  :] = 75   # embaixo\n",
    "T[:,  0] = 0    # esquerda\n",
    "\n",
    "err = 1000\n",
    "n = 0\n",
    "err_plot = []\n",
    "int_plot = []\n",
    "\n",
    "#print(T)\n",
    "while err>0.0001:\n",
    "    n=n+1\n",
    "    int_plot.append(n)\n",
    "    for i in range(1,len(T)-1):\n",
    "        for j in range(1,len(T)-1):\n",
    "            T[i,j] = (T[i-1,j]+T[i+1,j]+T[i,j-1]+T[i,j+1])/4\n",
    "    err = np.linalg.norm(T-T_ant)/np.linalg.norm(T)\n",
    "    T_ant = T.copy()\n",
    "    \n",
    "#plot\n",
    "plt.pcolor(T[1:-1,1:-1],cmap='jet')\n",
    "plt.gca().set_aspect('equal')\n",
    "plt.colorbar()\n",
    "plt.show()"
   ]
  },
  {
   "cell_type": "code",
   "execution_count": null,
   "id": "a8a73b74-f22d-4abc-8181-9cd90f08ca56",
   "metadata": {},
   "outputs": [],
   "source": []
  },
  {
   "cell_type": "code",
   "execution_count": null,
   "id": "e90c4b2a-8f18-4f4d-9f0b-3322d8c62fef",
   "metadata": {},
   "outputs": [],
   "source": []
  },
  {
   "cell_type": "code",
   "execution_count": null,
   "id": "c763cdda-6566-4e0a-9ba1-ae966c60c0c1",
   "metadata": {},
   "outputs": [],
   "source": []
  },
  {
   "cell_type": "code",
   "execution_count": null,
   "id": "b7070c4f-ddde-4613-bf2d-1d032da6eeb0",
   "metadata": {},
   "outputs": [],
   "source": []
  },
  {
   "cell_type": "code",
   "execution_count": null,
   "id": "3e2f6b1f-6c67-46f7-afa8-438dff2fdda2",
   "metadata": {},
   "outputs": [],
   "source": []
  },
  {
   "cell_type": "code",
   "execution_count": null,
   "id": "1e4f6e8c-90de-4579-b0f7-a933f5d4f80a",
   "metadata": {},
   "outputs": [],
   "source": []
  },
  {
   "cell_type": "markdown",
   "id": "d2cfb8c7-7211-4d0a-8d62-5a71c40bdb73",
   "metadata": {},
   "source": [
    "Vamos agora propor a resolução dos mesmos exercícios do Notebook 05, mas usando o método iterativo.\n",
    "\n",
    "**Exercício 2:** Determinar uma solução aproximada da equação diferencial parcial elíptica\n",
    "$$\n",
    "\\begin{aligned}\n",
    "& \\frac{\\partial^2 u}{\\partial x^2}+\\frac{\\partial^2 u}{\\partial y^2}=4, \\quad 0<x<1, \\quad 0<y<2 ; \\\\\n",
    "& u(x, 0)=x^2, \\quad u(x, 2)=(x-2)^2, \\quad 0 \\leq x \\leq 1 ; \\\\\n",
    "& u(0, y)=y^2, \\quad u(1, y)=(y-1)^2, \\quad 0 \\leq y \\leq 2 . \\\\\n",
    "&\n",
    "\\end{aligned}\n",
    "$$\n",
    "Use $h=k=\\frac{1}{2}$ e compare os resultados com a solução real $u(x, y)=(x-y)^2$."
   ]
  },
  {
   "cell_type": "code",
   "execution_count": null,
   "id": "052d3467-e72f-40f9-aff2-0f2da8f8df07",
   "metadata": {},
   "outputs": [],
   "source": []
  },
  {
   "cell_type": "markdown",
   "id": "026152d8-0ea9-488b-ac42-bf35172f7bc1",
   "metadata": {},
   "source": [
    "**Exercício 3:** Determinar uma solução aproximada da equação diferencial parcial elíptica\n",
    "$$\n",
    "\\begin{aligned}\n",
    "& \\frac{\\partial^2 u}{\\partial x^2}+\\frac{\\partial^2 u}{\\partial y^2}=0, \\quad 1<x<2, \\quad 0<y<1 ; \\\\\n",
    "& u(x, 0)=2 \\ln x, \\quad u(x, 1)=\\ln \\left(x^2+1\\right), \\quad 1 \\leq x \\leq 2 ; \\\\\n",
    "& u(1, y)=\\ln \\left(y^2+1\\right), \\quad u(2, y)=\\ln \\left(y^2+4\\right), \\quad 0 \\leq y \\leq 1 . \\\\\n",
    "&\n",
    "\\end{aligned}\n",
    "$$\n",
    "Use $h=k=\\frac{1}{3}$ e compare os resultados com a solução real $u(x, y)=\\ln \\left(x^2+y^2\\right)$."
   ]
  },
  {
   "cell_type": "code",
   "execution_count": null,
   "id": "c2e320e8-b61c-4a5d-9233-d1959b427831",
   "metadata": {},
   "outputs": [],
   "source": []
  },
  {
   "cell_type": "markdown",
   "id": "388c2324-4b41-48fb-8254-62884b856c11",
   "metadata": {},
   "source": [
    "**Exercício 4: Diferenças Finitas na Equação de Poisson** (contribuição de [JonathanWNogueira](https://github.com/JonathanWNogueira/burden_numerical_analysis))\n",
    "\n",
    "Use o código disponível nesse [link](https://github.com/JonathanWNogueira/burden_numerical_analysis/blob/main/12.ipynb), o qual foi desenvolvido com base no algorítmo em [Burden e Faires (2016, p. 809)](https://app.minhabiblioteca.com.br/reader/books/9788522123414/pageid/825) para resolver o seguinte problema:"
   ]
  },
  {
   "cell_type": "markdown",
   "id": "92cefd9b-6cf6-49ca-8f42-a6fd4520920c",
   "metadata": {},
   "source": [
    "Use o método de Poisson de diferenças finitas $\\operatorname{com} n=6, m=5$, e tolerância de $10^{-10}$ para obter uma aproximação da solução de\n",
    "\n",
    "$$\n",
    "\\frac{\\partial^2 u}{\\partial x^2}(x, y)+\\frac{\\partial^2 u}{\\partial y^2}(x, y)=x e^y, \\quad 0<x<2, \\quad 0<y<1,\n",
    "$$\n",
    "\n",
    "com as condições de contorno\n",
    "\n",
    "$$\n",
    "\\begin{aligned}\n",
    "& u(0, y)=0, u(2, y)=2 e^y, 0 \\leq y \\leq 1, \\\\\n",
    "& u(x, 0)=x, u(x, 1)=e x, 0 \\leq x \\leq 2\n",
    "\\end{aligned}\n",
    "$$\n",
    "\n",
    "e compare os resultados com a solução exata $u(x, y)=x e^y$."
   ]
  },
  {
   "cell_type": "code",
   "execution_count": null,
   "id": "6944c655-aa96-4749-b33f-0eb472dd87de",
   "metadata": {},
   "outputs": [],
   "source": []
  },
  {
   "cell_type": "markdown",
   "id": "dc21f033-29ce-42d6-8b31-cde543bc4509",
   "metadata": {},
   "source": [
    "Em seguida, use-o para resolver os demais exercícios."
   ]
  },
  {
   "cell_type": "markdown",
   "id": "9df6a0ed-58e4-47de-ad03-2e970ccfcac8",
   "metadata": {},
   "source": [
    "**Exercício 5:** ([Burden e Faires, 2016](https://app.minhabiblioteca.com.br/reader/books/9788522123414/pageid/829)) Resolva numericamente o seguinte problema \n",
    "\n",
    "$$\n",
    "\\begin{gathered}\n",
    "\\frac{\\partial^2 u}{\\partial x^2}+\\frac{\\partial^2 u}{\\partial y^2}=-(\\cos (x+y)+\\cos (x-y)), \\quad 0<x<\\pi, \\quad 0<y<\\frac{\\pi}{2} \\\\\n",
    "u(0, y)=\\cos y, \\quad u(\\pi, y)=-\\cos y, \\quad 0 \\leq y \\leq \\frac{\\pi}{2} \\\\\n",
    "u(x, 0)=\\cos x, \\quad u\\left(x, \\frac{\\pi}{2}\\right)=0, \\quad 0 \\leq x \\leq \\pi\n",
    "\\end{gathered}\n",
    "$$\n",
    "\n",
    "Então, compare os resultados com a solução real $u(x, y)=\\cos x \\cos y$.\n",
    "\n"
   ]
  },
  {
   "cell_type": "code",
   "execution_count": null,
   "id": "b8ede0eb-044c-4f0e-93ac-1510ce64d0c4",
   "metadata": {},
   "outputs": [],
   "source": []
  },
  {
   "cell_type": "markdown",
   "id": "2a657db3-0b4b-4ed1-b588-dfdf7dd8b494",
   "metadata": {},
   "source": [
    "**Exercício 6:**  ([Burden e Faires, 2016](https://app.minhabiblioteca.com.br/reader/books/9788522123414/pageid/829))  Resolva numericamente o seguinte problema \n",
    "$$\n",
    "\\frac{\\partial^2 u}{\\partial x^2}+\\frac{\\partial^2 u}{\\partial y^2}=\\left(x^2+y^2\\right) e^{x y}, \\quad 0<x<2,0<y<1\n",
    "$$\n",
    "\n",
    "\n",
    "$$\n",
    "\\begin{array}{lll}\n",
    "u(0, y)=1, & u(2, y)=e^{2 y}, & 0 \\leq y \\leq 1 ; \\\\\n",
    "u(x, 0)=1, & u(x, 1)=e^x, & 0 \\leq y \\leq 2 .\n",
    "\\end{array}\n",
    "$$\n",
    "\n",
    "\n",
    "Então, compare os resultados com a solução real $u(x, y)=e^{r y}$.\n",
    "\n",
    "**Exercício 7:** Resolva numericamente o seguinte problema \n",
    "$$\n",
    "\\frac{\\partial^2 u}{\\partial x^2}+\\frac{\\partial^2 u}{\\partial y^2}=\\frac{x}{y}+\\frac{y}{x}, \\quad 1<x<2, \\quad 1<y<2\n",
    "$$\n",
    "\n",
    "$$\n",
    "\\begin{array}{lll}\n",
    "u(x, 1)=x \\ln x, & u(x, 2)=x \\ln \\left(4 x^2\\right), & 1 \\leq x \\leq 2 \\\\\n",
    "u(1, y)=y \\ln y, & u(2, y)=2 y \\ln (2 y), & 1 \\leq y \\leq 2\n",
    "\\end{array}\n",
    "$$\n",
    "\n",
    "\n",
    "Então, compare os resultados com a solução real $u(x, y)=x y \\ln x y$."
   ]
  },
  {
   "cell_type": "code",
   "execution_count": null,
   "id": "ad16ec53-3815-47c9-895a-8b01c41fc44a",
   "metadata": {},
   "outputs": [],
   "source": []
  },
  {
   "cell_type": "markdown",
   "id": "81e223ec-7ffa-44a8-8cc3-3a13d1db284a",
   "metadata": {},
   "source": [
    "**Exercício 7:**  ([Burden e Faires, 2016](https://app.minhabiblioteca.com.br/reader/books/9788522123414/pageid/829))  Resolva numericamente o seguinte problema \n",
    "$$\n",
    "\\frac{\\partial^2 u}{\\partial x^2}+\\frac{\\partial^2 u}{\\partial y^2}=\\frac{x}{y}+\\frac{y}{x}, \\quad 1<x<2, \\quad 1<y<2\n",
    "$$\n",
    "\n",
    "$$\n",
    "\\begin{array}{lll}\n",
    "u(x, 1)=x \\ln x, & u(x, 2)=x \\ln \\left(4 x^2\\right), & 1 \\leq x \\leq 2 \\\\\n",
    "u(1, y)=y \\ln y, & u(2, y)=2 y \\ln (2 y), & 1 \\leq y \\leq 2\n",
    "\\end{array}\n",
    "$$\n",
    "\n",
    "\n",
    "Então, compare os resultados com a solução real $u(x, y)=x y \\ln x y$."
   ]
  },
  {
   "cell_type": "code",
   "execution_count": null,
   "id": "ad2d100b-dce6-4feb-9257-680aee5fdde4",
   "metadata": {},
   "outputs": [],
   "source": []
  },
  {
   "cell_type": "markdown",
   "id": "a5c81743-5e92-42e6-b881-8499d914feff",
   "metadata": {},
   "source": [
    "**Referências**\n",
    "\n",
    "BOYCE, William E.; DIPRIMA, Richard C.; MEADE, Douglas B. Equacoes Diferenciais Elementares e Problemas de Valores de Contorno. 12. ed. Rio de Janeiro: LTC, 2024. E-book. p.e-11. ISBN 9788521638841.\n",
    "\n",
    "BURDEN, Richard L.; FAIRES, J D.; BURDEN, Annette M. Análise Numérica - Tradução da 10ª edição norte-americana. 3. ed. Porto Alegre: +A Educação - Cengage Learning Brasil, 2016. E-book. p.812. ISBN 9788522123414.\n",
    "\n",
    "CHAPRA, Steven C.; CANALE, Raymond P. Métodos numéricos para engenharia. 7. ed. Porto Alegre: AMGH, 2016. E-book. p.781. ISBN 9788580555691. "
   ]
  },
  {
   "cell_type": "code",
   "execution_count": null,
   "id": "1dbec793-07c4-4f8f-b374-e453e6c4bb5f",
   "metadata": {},
   "outputs": [],
   "source": []
  }
 ],
 "metadata": {
  "colab": {
   "provenance": []
  },
  "kernelspec": {
   "display_name": "Python 3 (ipykernel)",
   "language": "python",
   "name": "python3"
  },
  "language_info": {
   "codemirror_mode": {
    "name": "ipython",
    "version": 3
   },
   "file_extension": ".py",
   "mimetype": "text/x-python",
   "name": "python",
   "nbconvert_exporter": "python",
   "pygments_lexer": "ipython3",
   "version": "3.12.4"
  }
 },
 "nbformat": 4,
 "nbformat_minor": 5
}
