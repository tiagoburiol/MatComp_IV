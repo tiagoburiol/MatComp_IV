{
 "cells": [
  {
   "cell_type": "markdown",
   "metadata": {},
   "source": [
    "## 8. Equação de Laplace com condições de Neumann"
   ]
  },
  {
   "cell_type": "markdown",
   "metadata": {},
   "source": [
    "Como sabemos, o método de diferenças finitas é uma abordagem numérica que aproxima as derivadas de uma equação diferencial parcial através de diferenças entre os valores discretos das variáveis ao longo de uma malha.\n",
    "\n",
    "Dentre as equações diferenciais parciais elípticas em duas variáveis, um exemplo clássico é a equação de Poisson:\n",
    "\n",
    "$$\\nabla^2 u(x, y) \\equiv \\frac{\\partial^2 u}{\\partial x^2}+\\frac{\\partial^2 u}{\\partial y^2}=f(x, y)$$\n",
    "\n",
    "Se o termo fonte $f(x,y)$ for nulo, tem-se a equação de Laplace\n",
    "\n",
    "$$\\frac{\\partial^2 u}{\\partial x^2}+\\frac{\\partial^2 u}{\\partial y^2}=0$$"
   ]
  },
  {
   "cell_type": "markdown",
   "metadata": {},
   "source": [
    "Essas equações aparecem em inúmeros contextos, por exemplo, em problemas envolvendo temperatura em uma placa (condução de calor estacionária), potencial elétrico, fluxo de fluidos incompressíveis, deformação de membranas elásticas, etc."
   ]
  },
  {
   "cell_type": "markdown",
   "metadata": {},
   "source": [
    "A fórmula de diferenças finitas para aproximar numericamente a derivada de segunda ordem da função $u(x, y)$ na direção $x$ é:\n",
    "\n",
    "$$ \\frac{\\partial^2 u}{\\partial x^2} \\approx \\frac{u(x + h_x, y) - 2u(x, y) + u(x - h_x, y)}{h_x^2} $$\n",
    "\n",
    "onde $h_x$ é o tamanho do passo na direção $x$ na malha discreta. Essa fórmula estima a derivada de segunda ordem utilizando os valores discretos da função $u$ em três pontos adjacentes na direção $x$. Na direção $y$ a fórmula é análoga. \n",
    "\n",
    "$$ \\frac{\\partial^2 u}{\\partial y^2} \\approx \\frac{u(x, y + h_y) - 2u(x, y) + u(x - h, y+h_y)}{h_y^2} $$\n"
   ]
  },
  {
   "cell_type": "markdown",
   "metadata": {},
   "source": [
    "A utilização destas fórmulas nos permite expressar uma equação diferencial em termos de equações algébricas, por exemplo, substituindo na equação de Poisson, tem-se para cada ponto $\\left(x_i, y_j\\right)$ da malha uma equação como\n",
    "\n",
    "$$\n",
    "\\frac{u_{i-1,j}-2 u_{i,j}+u_{i+1,j}}{h_x^2}+\n",
    "\\frac{u_{i,j-1}-2 u_{i,j}+u_{i,j+1}}{h_y^2}\n",
    "\\approx\n",
    "f_{i,j}\n",
    "$$"
   ]
  },
  {
   "cell_type": "markdown",
   "metadata": {},
   "source": [
    "Desprezando o erro, multiplicando a equação por $h_x^2$ e rearranjando os termos, obtemos a equação de diferenças finitas, em que $w$ é a aproximação para $u$, expressa como:\n",
    "\n",
    "\n",
    "$$(u_{i-1,j}+u_{i+1,j})-2\n",
    "u_{i,j} \\left[\\left(  \\frac{h_x}{h_y}\\right)^2+1\\right]+ \\left( \\frac{h_x}{h_y}\\right)^2(u_{i,j-1}+u_{i,j+1}) = h_x^2 f_{i,j}$$\n",
    "\n",
    "Usando condições de contorno nos pontos da fronteira da malha obtemos um sistema linear $(n-1)(m-1) \\times(n-1)$ $(m-1)$ com as incógnitas sendo as aproximações para $u_{i, j}$ nos pontos interiores da malha."
   ]
  },
  {
   "cell_type": "markdown",
   "metadata": {},
   "source": [
    "### Condições de contorno na derivada\r\n",
    "[Chapra e Canale](https://integrada.minhabiblioteca.com.br/reader/books/9788580555691/pageid/772)\n",
    "\n",
    "A condição de contorno em que a derivada é dada é conhecida como condição de contorno de Neumann. Para o problema da placa aquecida, isso quer dizer especificar o fluxo de calor em vez da temperatura na borda. Um exemplo é a situação na qual a borda é isolada, nesse caso a derivada é nula. \n",
    "\n",
    "A figura a seguir descreve um nó $(0, j)$ na aresta esquerda da placa aquecida. Apli-cando-se a equação de diferenças a esse ponto, obtemos\r",
    "$$T_{1, j}+T_{-1, j}+T_{0, j+1}+T_{0, j-1}-4 T_{0, j}=0$$\n",
    "\n",
    "Observe que um ponto imaginário $(-1, j)$, localizado fora da placa, é necessário nessa equação. Embora esse ponto exterior fictício possa parecer representar um problema, na realidade serve como veículo para incorporar a condição de contorno na derivada ao problema. Isso é feito representando-se a primeira derivada na dimensão $x$ em $(0, j)$ por uma diferença dividida finita\n",
    "$$\r\n",
    "\\frac{\\partial T}{\\partial x} \\cong \\frac{T_{1, j}-T_{-1, j}}{2 \\Delta x}\r\n",
    "\n",
    "que pode ser reescrita como\r\n",
    "$$"
   ]
  },
  {
   "cell_type": "markdown",
   "metadata": {},
   "source": [
    "**Exemplo 1: (A equação de diferença de Laplace e condições de contorno de Neumann)**\n",
    "Considere uma placa aquecida, como é mostrada na figura abaixo, **mas com a aresta inferior isolada**.\r\n",
    "\n",
    "(Fonte: [Chapra, 2016](https://integrada.minhabiblioteca.com.br/reader/books/9788580555691/pageid/769)). \n",
    "\n",
    "<img src=\"https://github.com/tiagoburiol/MatComp_IV/blob/main/imagens/exemplo_laplace.png?raw=true\" width=\"240\">\n",
    "\n",
    "A equação geral para caracterizar a derivada na aresta inferior (isto é, em $j=$ 0) da placa aquecida é\n",
    "\n",
    "$$\n",
    "T_{i+1,0}+T_{i-1,0}+2 T_{i, 1}-2 \\Delta y \\frac{\\partial T}{\\partial y}-4 T_{i, 0}=0\n",
    "$$\n",
    "\n",
    "\n",
    "Para uma aresta isolada, a derivada é nula, e a equação se torna\n",
    "\n",
    "$$\n",
    "T_{i+1,0}+T_{i-1,0}+2 T_{i, 1}-4 T_{i, 0}=0\n",
    "$$\n",
    "\n",
    "\n",
    "As equações simultâneas para a distribuição de temperaturas na placa com a aresta inferior isolada podem ser escritas na forma matricial como"
   ]
  },
  {
   "cell_type": "markdown",
   "metadata": {},
   "source": [
    "$$\n",
    "\\left[\\begin{array}{cccccccccccc}\n",
    "4 & -1 & & -2 & & & & & & & & \\\\\n",
    "-1 & 4 & -1 & & -2 & & & & & & & \\\\\n",
    "& -1 & 4 & & & -2 & & & & & & \\\\\n",
    "-1 & & & 4 & -1 & & -1 & & & & & \\\\\n",
    "& -1 & & -1 & 4 & -1 & & -1 & & & & \\\\\n",
    "& & -1 & & -1 & 4 & & & -1 & & & \\\\\n",
    "& & & -1 & & & 4 & -1 & & -1 & & \\\\\n",
    "& & & & -1 & & -1 & 4 & -1 & & -1 & \\\\\n",
    "& & & & & -1 & & -1 & 4 & & & -1 \\\\\n",
    "& & & & & & -1 & & & 4 & -1 & \\\\\n",
    "& & & & & & & -1 & & -1 & 4 & -1 \\\\\n",
    "& & & & & & & & -1 & & -1 & 4\n",
    "\\end{array}\\right]\\left\\{\\begin{array}{c}\n",
    "T_{10} \\\\T_{20} \\\\T_{30} \\\\T_{11} \\\\T_{21} \\\\T_{31} \\\\\n",
    "T_{12} \\\\T_{22} \\\\T_{32} \\\\T_{13} \\\\T_{23} \\\\T_{33}\n",
    "\\end{array}\\right\\}=\\left\\{\\begin{array}{c}\n",
    "75 \\\\0 \\\\50 \\\\75 \\\\0 \\\\50 \\\\75 \\\\0 \\\\\n",
    "50 \\\\175 \\\\100 \\\\150\n",
    "\\end{array}\\right\\}\n",
    "$$"
   ]
  },
  {
   "cell_type": "code",
   "execution_count": 1,
   "metadata": {},
   "outputs": [],
   "source": [
    "import numpy as np\n",
    "import matplotlib.pyplot as plt"
   ]
  },
  {
   "cell_type": "code",
   "execution_count": 2,
   "metadata": {},
   "outputs": [],
   "source": [
    "A = np.array([[4,-1,0,-2,0,0,0,0,0,0,0,0],\n",
    "             [-1,4,-1,0,-2,0,0,0,0,0,0,0],\n",
    "             [0,-1,4,0,0,-2,0,0,0,0,0,0],\n",
    "             [-1,0,0,4,-1,0,-1,0,0,0,0,0],\n",
    "             [0,-1,0,-1,4,-1,0,-1,0,0,0,0],\n",
    "             [0,0,-1,0,-1,4,0,0,-1,0,0,0],\n",
    "             [0,0,0,-1,0,0,4,-1,0,-1,0,0],\n",
    "             [0,0,0,0,-1,0,-1,4,-1,0,-1,0],\n",
    "             [0,0,0,0,0,-1,0,-1,4,0,0,-1],\n",
    "             [0,0,0,0,0,0,-1,0,0,4,-1,0],\n",
    "             [0,0,0,0,0,0,0,-1,0,-1,4,-1],\n",
    "             [0,0,0,0,0,0,0,0,-1,0,-1,4]], dtype=float)\n",
    "b = np.array([75,0,50,75,0,50,75,0,50,175,100,150], dtype=float)"
   ]
  },
  {
   "cell_type": "code",
   "execution_count": 3,
   "metadata": {},
   "outputs": [],
   "source": [
    "b = np.array([75,0,50,75,0,50,75,0,50,175,100,150], dtype=float)"
   ]
  },
  {
   "cell_type": "code",
   "execution_count": 4,
   "metadata": {},
   "outputs": [
    {
     "name": "stdout",
     "output_type": "stream",
     "text": [
      "[[71.90735532 67.0145435  59.5362213 ]\n",
      " [72.8074389  68.30729868 60.56517085]\n",
      " [76.01510158 72.84204148 64.41716344]\n",
      " [83.41092595 82.62860221 74.26144141]]\n"
     ]
    }
   ],
   "source": [
    "T_int = np.linalg.solve(A,b)\n",
    "T_int = T_int.reshape(4,3)\n",
    "\n",
    "print(T_int)"
   ]
  },
  {
   "cell_type": "code",
   "execution_count": 5,
   "metadata": {},
   "outputs": [
    {
     "data": {
      "text/plain": [
       "array([[ 75.,   0.,   0.,   0.,  50.],\n",
       "       [ 75.,   0.,   0.,   0.,  50.],\n",
       "       [ 75.,   0.,   0.,   0.,  50.],\n",
       "       [ 75.,   0.,   0.,   0.,  50.],\n",
       "       [ 75., 100., 100., 100.,  50.]])"
      ]
     },
     "execution_count": 5,
     "metadata": {},
     "output_type": "execute_result"
    }
   ],
   "source": [
    "x_mesh, y_mesh = np.meshgrid(np.linspace(0,4,5+1),\n",
    "                             np.linspace(0,4,5+1))\n",
    "T = np.zeros((5,5))\n",
    "T[-1,:]=100\n",
    "T[:,0]=75\n",
    "T[:,-1]=50\n",
    "T"
   ]
  },
  {
   "cell_type": "code",
   "execution_count": 6,
   "metadata": {},
   "outputs": [],
   "source": [
    "T[0:-1,1:-1]=T_int"
   ]
  },
  {
   "cell_type": "code",
   "execution_count": 7,
   "metadata": {},
   "outputs": [
    {
     "data": {
      "text/plain": [
       "array([[ 75.  , 100.  , 100.  , 100.  ,  50.  ],\n",
       "       [ 75.  ,  83.41,  82.63,  74.26,  50.  ],\n",
       "       [ 75.  ,  76.02,  72.84,  64.42,  50.  ],\n",
       "       [ 75.  ,  72.81,  68.31,  60.57,  50.  ],\n",
       "       [ 75.  ,  71.91,  67.01,  59.54,  50.  ]])"
      ]
     },
     "execution_count": 7,
     "metadata": {},
     "output_type": "execute_result"
    }
   ],
   "source": [
    "np.flipud(np.round(T,2))"
   ]
  },
  {
   "cell_type": "code",
   "execution_count": 8,
   "metadata": {},
   "outputs": [
    {
     "data": {
      "image/png": "[encoded data removed]",
      "text/plain": [
       "<Figure size 400x300 with 2 Axes>"
      ]
     },
     "metadata": {},
     "output_type": "display_data"
    }
   ],
   "source": [
    "fig, ax = plt.subplots(figsize=(4, 3))\n",
    "plt.pcolormesh(x_mesh, y_mesh, T, cmap='jet', shading='flat') \n",
    "plt.gca().set_aspect('equal')\n",
    "\n",
    "plt.colorbar()\n",
    "plt.show()\n"
   ]
  },
  {
   "cell_type": "markdown",
   "metadata": {},
   "source": [
    "**Um código para montar o sistema para quaisquer nx e ny**"
   ]
  },
  {
   "cell_type": "code",
   "execution_count": 9,
   "metadata": {},
   "outputs": [],
   "source": [
    "Lx=4; Ly=4\n",
    "nx=40; ny=40"
   ]
  },
  {
   "cell_type": "code",
   "execution_count": 10,
   "metadata": {},
   "outputs": [],
   "source": [
    "hx = Lx/nx\n",
    "hy = Ly/ny\n",
    "\n",
    "N = (nx-1) * (ny) "
   ]
  },
  {
   "cell_type": "code",
   "execution_count": 11,
   "metadata": {},
   "outputs": [
    {
     "name": "stdout",
     "output_type": "stream",
     "text": [
      "[[1521 1522 1523 ... 1557 1558 1559]\n",
      " [1482 1483 1484 ... 1518 1519 1520]\n",
      " [1443 1444 1445 ... 1479 1480 1481]\n",
      " ...\n",
      " [  78   79   80 ...  114  115  116]\n",
      " [  39   40   41 ...   75   76   77]\n",
      " [   0    1    2 ...   36   37   38]]\n"
     ]
    }
   ],
   "source": [
    "nos = np.flipud(np.arange(N).T.reshape(ny,nx-1))\n",
    "print(nos)"
   ]
  },
  {
   "cell_type": "code",
   "execution_count": 12,
   "metadata": {},
   "outputs": [],
   "source": [
    "# devolve o numero do no em função da posicao (i,j)\n",
    "def idx(i, j): \n",
    "    return np.flipud(nos).T[i,j]"
   ]
  },
  {
   "cell_type": "code",
   "execution_count": 13,
   "metadata": {},
   "outputs": [],
   "source": [
    "# verificando o sentido de i e j e nos\n",
    "#for j in range(0,ny):\n",
    "#    for i in range(0,nx-1):\n",
    "#        print('Nó: (i,j)->(',i,',',j,')->',idx(i,j))"
   ]
  },
  {
   "cell_type": "code",
   "execution_count": 14,
   "metadata": {},
   "outputs": [],
   "source": [
    "# Montagem do sistema\n",
    "ax = -1.0/hx**2\n",
    "ay = -1.0/hy**2\n",
    "ac = -2.0*(ax + ay)\n",
    "\n",
    "A = np.zeros((N, N), dtype=float)\n",
    "b = np.zeros(N, dtype=float)\n",
    "\n",
    "for j in range(0, ny):  \n",
    "    for i in range(0, nx-1):   \n",
    "        k = idx(i, j)\n",
    "        A[k, k] = ac #coeficiente do nó central\n",
    "\n",
    "        if i > 0:\n",
    "            A[k, idx(i-1, j)] = ax\n",
    "        else:\n",
    "            b[k] -= ax * 75\n",
    "\n",
    "        if i < nx-2:\n",
    "            A[k, idx(i+1, j)] = ax\n",
    "        else:\n",
    "            b[k] -= ax * 50\n",
    "\n",
    "        if j > 0: \n",
    "            A[k, idx(i, j-1)] = ay\n",
    "        else:\n",
    "            A[k, idx(i, j+1)] += ay \n",
    "\n",
    "        if j < ny-1:\n",
    "            A[k, idx(i, j+1)] += ay \n",
    "        else:\n",
    "            b[k] -= ay *100"
   ]
  },
  {
   "cell_type": "code",
   "execution_count": 15,
   "metadata": {},
   "outputs": [],
   "source": [
    "#print(A)"
   ]
  },
  {
   "cell_type": "code",
   "execution_count": 16,
   "metadata": {},
   "outputs": [],
   "source": [
    "#print(b)"
   ]
  },
  {
   "cell_type": "code",
   "execution_count": 17,
   "metadata": {},
   "outputs": [],
   "source": [
    "T_int = np.linalg.solve(A,b)\n",
    "T_int = T_int.reshape(ny,nx-1)\n",
    "#print(T_int)"
   ]
  },
  {
   "cell_type": "code",
   "execution_count": 18,
   "metadata": {},
   "outputs": [],
   "source": [
    "#T_int.shape"
   ]
  },
  {
   "cell_type": "code",
   "execution_count": 19,
   "metadata": {},
   "outputs": [],
   "source": [
    "T = np.zeros((ny+1,nx+1))\n",
    "#T.shape"
   ]
  },
  {
   "cell_type": "code",
   "execution_count": 20,
   "metadata": {},
   "outputs": [],
   "source": [
    "x_mesh, y_mesh = np.meshgrid(np.linspace(0,4,nx+2),\n",
    "                             np.linspace(0,4,ny+2))\n",
    "T = np.zeros((ny+1,nx+1))\n",
    "T[-1,:]=100\n",
    "T[:,0]=75\n",
    "T[:,-1]=50\n",
    "\n",
    "T[0:-1,1:-1]=T_int"
   ]
  },
  {
   "cell_type": "code",
   "execution_count": 21,
   "metadata": {},
   "outputs": [
    {
     "data": {
      "image/png": "[encoded data removed]",
      "text/plain": [
       "<Figure size 400x300 with 2 Axes>"
      ]
     },
     "metadata": {},
     "output_type": "display_data"
    }
   ],
   "source": [
    "fig, ax = plt.subplots(figsize=(4, 3))\n",
    "plt.pcolormesh(x_mesh, y_mesh, T, cmap='jet', shading='flat') \n",
    "plt.gca().set_aspect('equal')\n",
    "\n",
    "plt.colorbar()\n",
    "plt.show()"
   ]
  },
  {
   "cell_type": "code",
   "execution_count": null,
   "metadata": {},
   "outputs": [],
   "source": []
  },
  {
   "cell_type": "markdown",
   "metadata": {},
   "source": [
    "### Atividades:"
   ]
  },
  {
   "cell_type": "markdown",
   "metadata": {},
   "source": [
    "**1.** ([Boyce e Diprima, 2024](https://app.minhabiblioteca.com.br/reader/books/9788521638841/epubcfi/6/44%5B%3Bvnd.vst.idref%3Dchapter10%5D!/4/1150/100/3:66%5Best%2Co.%5D)) Sabendo que a solução $u(x, y)$ da equação de Laplace no retângulo $0<x<a, 0<y<b$, que satisfaz as condições de contorno\n",
    "\n",
    "$$\n",
    "\\begin{array}{lll}\n",
    "u(0, y)=0, & u(a, y)=f(y), & 0<y<b \\\\\n",
    "u(x, 0)=0, & u_y(x, b)=0, & 0<x<a .\n",
    "\\end{array}\n",
    "$$\n",
    "\n",
    "é dada por\n",
    "\n",
    "$$\n",
    "u(x, y)=\\sum_{n=l}^{\\infty} c_n \\operatorname{senh}\\left(\\frac{(2 n-1) \\pi x}{2 b}\\right) \\operatorname{sen}\\left(\\frac{(2 n-1) \\pi y}{2 b}\\right)$$\n",
    "\n",
    "com\n",
    "\n",
    "$$c_n=\\frac{2 / b}{\\operatorname{senh}((2 n-1) \\pi a / 2 b)} \\int_0^b f(y) \\operatorname{sen}\\left(\\frac{(2 n-1) \\pi y}{2 b}\\right) dy$$\n",
    "\n",
    "Verifique, usando SymPy, que para $f(y)=y(2 b-y)$, tem-se\n",
    "\n",
    "$$c_n=\\frac{32 b^2}{(2 n-1)^3 \\pi^3 \\operatorname{senh}((2 n-1) \\pi a / 2 b)}$$\n",
    "\n",
    "Então, obtenha uma solução numérica para o caso de $a=3$ e $b=2$ e compare os gráficos da solução numérica e da solução exta."
   ]
  },
  {
   "cell_type": "code",
   "execution_count": null,
   "metadata": {},
   "outputs": [],
   "source": []
  },
  {
   "cell_type": "markdown",
   "metadata": {},
   "source": [
    "\n",
    "**2.** ([Boyce e Diprima, 2024](https://app.minhabiblioteca.com.br/reader/books/9788521638841/epubcfi/6/44%5B%3Bvnd.vst.idref%3Dchapter10%5D!/4/1150/100/3:66%5Best%2Co.%5D)) Sabendo que a solução $u(x, y)$ da equação de Laplace no retângulo $0<x<a, 0<y<b$, que satisfaz as condições de contorno\n",
    "\n",
    "$$\n",
    "\\begin{array}{lll}\n",
    "u_x(0, y)=0, & u_x(a, y)=0, & 0<y<b \\\\\n",
    "u(x, 0)=0, & u(x, b)=g(x), & 0<x<a\n",
    "\\end{array}\n",
    "$$\n",
    "\n",
    "é dada por\n",
    "\n",
    "$$u(x, y)=\\frac{c_0 y}{2}+\\sum_{n=1}^{\\infty} c_n \\cos \\left(\\frac{n \\pi x}{a}\\right) \\operatorname{senh}\\left(\\frac{n \\pi y}{a}\\right)$$\n",
    "\n",
    "com\n",
    "\n",
    "$$c_0=\\frac{2}{a b} \\int_0^a g(x) d x$$\n",
    "\n",
    "$$c_n=\\frac{2 / a}{\\operatorname{senh}(n \\pi b / a)} \\int_0^a g(x) \\cos \\left(\\frac{n \\pi x}{a}\\right) d x$$\n",
    "\n",
    "Verifique, usando SymPy, que para $g(x)=1+x^2(x-a)^2$, tem-se\n",
    "\n",
    "$$c_0=\\frac{2}{b}\\left(1+\\frac{a^4}{30}\\right)$$\n",
    "\n",
    "$$c_n=-\\frac{24 a^4(1+\\cos (n \\pi))}{n^4 \\pi^4 \\operatorname{senh}(n \\pi b / a)}$$\n",
    "\n",
    "Então, obtenha uma solução numérica para o caso de $a=3$ e $b=2$ e compare os gráficos da solução numérica e da solução exta"
   ]
  },
  {
   "cell_type": "code",
   "execution_count": null,
   "metadata": {},
   "outputs": [],
   "source": []
  },
  {
   "cell_type": "code",
   "execution_count": null,
   "metadata": {},
   "outputs": [],
   "source": []
  },
  {
   "cell_type": "code",
   "execution_count": null,
   "metadata": {},
   "outputs": [],
   "source": []
  },
  {
   "cell_type": "code",
   "execution_count": null,
   "metadata": {},
   "outputs": [],
   "source": []
  }
 ],
 "metadata": {
  "kernelspec": {
   "display_name": "Python 3 (ipykernel)",
   "language": "python",
   "name": "python3"
  },
  "language_info": {
   "codemirror_mode": {
    "name": "ipython",
    "version": 3
   },
   "file_extension": ".py",
   "mimetype": "text/x-python",
   "name": "python",
   "nbconvert_exporter": "python",
   "pygments_lexer": "ipython3",
   "version": "3.12.4"
  }
 },
 "nbformat": 4,
 "nbformat_minor": 4
}
