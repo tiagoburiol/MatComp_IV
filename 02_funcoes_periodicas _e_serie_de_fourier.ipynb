{
 "cells": [
  {
   "cell_type": "markdown",
   "id": "93b37cf2",
   "metadata": {},
   "source": [
    "# 2. Funções periódicas e série de Fourier\n",
    "\n",
    "### Funções periódicas\n",
    "\n",
    "Uma função $f(t)$ é chamada de função periódica se for definida para todo $t$ real (talvez exceto em alguns pontos) e se existir algum número $T$ positivo, denominado período, tal que\n",
    "\n",
    "$$f(t) = f(t + T),$$\n",
    "\n",
    "O gráfico de uma função assim é obtido pela repetição periódica de seu gráfico num intervalo qualquer de comprimento $T$. Se $f(t)$ tem período $T$, ela também tem periodo $nT$. Além disso, se $f(t)$ e $g(t)$ têm período $T$, então $a f(t)+b g(t)$ com quaisquer constantes $a$ e $b$ também tem o período $T$.\n"
   ]
  },
  {
   "cell_type": "markdown",
   "id": "ef54c72c-b42f-4336-938b-a3c1cb7d253c",
   "metadata": {},
   "source": [
    "<img src=\"https://github.com/tiagoburiol/MatComp_IV/blob/main/imagens/func_periodica.png?raw=true\" width=\"480\">"
   ]
  },
  {
   "cell_type": "markdown",
   "id": "eb4abb99-3511-4d98-92a0-71022c4a620b",
   "metadata": {},
   "source": [
    "Vejamos alguns exemplos usando python. Iniciamos importando as bibliotecas e definindo o tamanho para os gráficos."
   ]
  },
  {
   "cell_type": "code",
   "execution_count": 1,
   "id": "71c5a336-2a8e-4b31-9e45-27ecc0bb2d3a",
   "metadata": {},
   "outputs": [],
   "source": [
    "import numpy as np\n",
    "import matplotlib.pyplot as plt\n",
    "plt.rcParams['figure.figsize']=(3,2)"
   ]
  },
  {
   "cell_type": "markdown",
   "id": "ad5d90c5",
   "metadata": {},
   "source": [
    "**Exemplo 1:**\n",
    "Seja a função $f$ definida por\n",
    "\n",
    "$$f(t)=\\begin{cases}\n",
    "    -t,\\,\\,\\, -\\pi < t \\leq  0\\\\\n",
    "     \\,\\,\\,\\,t,\\,\\,\\,\\,\\,\\,\\,\\ 0 < t\\leq \\pi\\\\\n",
    "\\end{cases}$$\n",
    "\n",
    "$$f(t+2\\pi)=f(t).$$\n",
    "\n",
    "Podemos definir essa função em Python e plotar o gráfico da seguinte maneira."
   ]
  },
  {
   "cell_type": "code",
   "execution_count": 2,
   "id": "8189ca53",
   "metadata": {},
   "outputs": [
    {
     "data": {
      "image/png": "[encoded data removed]",
      "text/plain": [
       "<Figure size 300x200 with 1 Axes>"
      ]
     },
     "metadata": {},
     "output_type": "display_data"
    }
   ],
   "source": [
    "def f(t):\n",
    "    if abs(t)>np.pi: \n",
    "        return f(abs(t)-2*np.pi)\n",
    "    if (t>0)&(t<np.pi): \n",
    "        return t\n",
    "    if (t<0)&(t>-np.pi): \n",
    "        return -t\n",
    "    \n",
    "t = np.linspace(-5,8,200)\n",
    "\n",
    "plt.plot(t,[f(ti) for ti in t])\n",
    "plt.tight_layout()\n",
    "plt.grid()"
   ]
  },
  {
   "cell_type": "markdown",
   "id": "429a13ff",
   "metadata": {},
   "source": [
    "**Exercício 1:**\n",
    "Com base no exemplo acima, defina a função representada abaixo e plote seu gráfico \n",
    "(note que essa função **não** é simétrica em relação ao eixo $y$).\n",
    "\n",
    "\n",
    "<img src=\"imagens/fig2_02.png\" width=\"360\">"
   ]
  },
  {
   "cell_type": "code",
   "execution_count": null,
   "id": "d46310a7-cab7-493d-942d-02598e7ffbb4",
   "metadata": {},
   "outputs": [],
   "source": []
  },
  {
   "cell_type": "code",
   "execution_count": 3,
   "id": "ac80ba35",
   "metadata": {},
   "outputs": [],
   "source": [
    "# solução\n",
    "#def h(x):\n",
    "#    if x>3: \n",
    "#        return h(x%3)\n",
    "#    if x<0:\n",
    "#        return h(x%3+3)\n",
    "#    if (x>0)&(x<3): \n",
    "#        return x\n",
    "#x = np.linspace(-4.5,4.5,200)\n",
    "#plt.plot(x,[h(xi) for xi in x])\n",
    "#plt.grid()"
   ]
  },
  {
   "cell_type": "markdown",
   "id": "2c02934c-f986-4ce7-b00f-1c93e85f9189",
   "metadata": {},
   "source": [
    "A figura do exercício 1 pode ser uma representação para a função\n",
    "\n",
    "$$f(t)=t, \\quad 0\\leq t< 3 \\quad\\text{e}\\quad f(t+3)=f(t).$$\n",
    "\n",
    "Uma representação mais precisa, considerando os intervalos com os extremos abertos e fechados, é mostrada no gráfico abaixo para $-3\\leq x \\leq 6$.\n",
    "\n"
   ]
  },
  {
   "cell_type": "markdown",
   "id": "dd14537b-205b-4b9b-adc2-89194065b960",
   "metadata": {},
   "source": [
    "<img src=\"imagens/periodica.png\" width=\"480\">"
   ]
  },
  {
   "cell_type": "code",
   "execution_count": 4,
   "id": "be09cd4a-9a81-472d-b292-067d06caf53f",
   "metadata": {},
   "outputs": [],
   "source": [
    "# código para a figura\n",
    "#T = 3; g = lambda x: np.mod(x, 9); I = np.linspace(-3,3)\n",
    "#fig, ax = plt.subplots(figsize=(6,2))\n",
    "#for n in np.unique(np.floor(I/T)):\n",
    "#    x = np.linspace(0,T)\n",
    "#    ax.plot(x[0:-1]-n*T,[g(xi) for xi in x[0:-1]], 'b')\n",
    "#    ax.plot(x[0]-n*T, g(x[0]),marker='o',color='blue',fillstyle='full')\n",
    "#    ax.plot(x[-1]-n*T, g(x[-1]),marker='o',color='blue',fillstyle='none')\n",
    "#plt.grid()\n",
    "#plt.savefig('periodica.png')"
   ]
  },
  {
   "cell_type": "markdown",
   "id": "873bca05-e076-452d-a52e-2613449ecea4",
   "metadata": {},
   "source": [
    "**Exercício 2:** Tente encontrar uma função para reproduzir o gráfico dado abaixo, construído a partir de uma parábola.\n",
    "\n",
    "<center><img src=\"https://raw.githubusercontent.com/tiagoburiol/MatComp_IV/refs/heads/main/imagens/parabola_periodica.png\" width=\"400\"></center>\n"
   ]
  },
  {
   "cell_type": "code",
   "execution_count": 5,
   "id": "7a584c73-3b1f-45f5-83f4-52d502ae7343",
   "metadata": {},
   "outputs": [],
   "source": [
    "# solução\n",
    "#def f(x):\n",
    "#    if x>1: \n",
    "#        return f(x-1.5)\n",
    "#    if x<-0.5:\n",
    "#        return f(x+1.5)\n",
    "#    if (x>-0.5)&(x<1): \n",
    "#        return x**2\n",
    "#x = np.linspace(-3,3,200)\n",
    "#fig, ax = plt.subplots(figsize=(6,2))\n",
    "#plt.plot(x,[f(xi) for xi in x])\n",
    "#plt.grid()"
   ]
  },
  {
   "cell_type": "markdown",
   "id": "8f34747c-64f3-4ecf-8d08-f7f7739d5acc",
   "metadata": {},
   "source": [
    "Considere agora as funções mostradas abaixo\n",
    "\n",
    "$$f_1(t)= A_1 \\,cos(\\omega_1 t + \\phi_1) \\quad \\text{e} \\quad f_2(t)= A_2 \\,sen(\\omega_2 t + \\phi_2)$$\n",
    "\n",
    "Estas são funções periódicas de período $T = \\frac{2\\pi}{\\omega}$ em que $\\phi_1$ e $\\phi_2$ são os ângulos de fases, $A_1$ e $A_2$ são as amplitudes, e $\\omega_1$ e $\\omega_1$ frequência angulares. Essas funções são periódicas de período $T_1 = 2\\pi/ \\omega_1$ e $T_2 = 2\\pi/ \\omega_2$.\n",
    "\n",
    "Podemos criar funções periódicas combinando duas ou mais funções periódicas cujos periodos são múltiplos inteiros. Vejamos alguns exemplos:   "
   ]
  },
  {
   "cell_type": "markdown",
   "id": "66421bab-6693-4850-83ab-0b63a46d46b1",
   "metadata": {},
   "source": [
    "**Exemplo 2:** Vamos criar um sinal combinando três senoides de frequências 1, 10, 20 Hz com amplitudes de 3, 1, e 0.5, respectivamente. Consideremos uma taxa de amostragem de 200 e a duração do sinal é de 2 segundos."
   ]
  },
  {
   "cell_type": "code",
   "execution_count": 6,
   "id": "1601acb2-30e8-42a2-bcc5-e6565df083c7",
   "metadata": {},
   "outputs": [
    {
     "data": {
      "image/png": "[encoded data removed]",
      "text/plain": [
       "<Figure size 300x200 with 1 Axes>"
      ]
     },
     "metadata": {},
     "output_type": "display_data"
    }
   ],
   "source": [
    "s = lambda A, w, t: A*np.sin(2*np.pi*w*t)\n",
    "\n",
    "t = np.linspace(0,2,201)\n",
    "\n",
    "plt.plot(t,s(3,1,t)+s(1,10,t)+s(0.5,20,t))\n",
    "\n",
    "plt.xlabel( 'Tempo (s)' ) \n",
    "plt .ylabel( 'Amplitude' ) \n",
    "plt.title( 'Sinal soma de três sinais' ) \n",
    "plt.grid()\n",
    "plt.show()"
   ]
  },
  {
   "cell_type": "markdown",
   "id": "f92af7a1-daf7-4d62-a86d-59c7bf8b730d",
   "metadata": {},
   "source": [
    "**Exercício 3:**\n",
    "\n",
    "Gere um sinal formado por 3 ondas senoidais com frequências de 1 Hz, 4 Hz e 7 Hz, amplitudes 3, 1 e 0.5 e todos ângulos de fase iguais a zero. Use uma taxa de amostragem de 100 Hz (100 amostra no intervalo de tempo de 0 a 1). O resultado esperado é mostrado abaixo.\n",
    "\n",
    "\n",
    "<img src=\"https://raw.githubusercontent.com/tiagoburiol/MatComp_IV/refs/heads/main/imagens/fig1_02.png\" width=\"300\">"
   ]
  },
  {
   "cell_type": "code",
   "execution_count": null,
   "id": "fc838c61-4039-4472-914f-06a4a1baa2d4",
   "metadata": {},
   "outputs": [],
   "source": []
  },
  {
   "cell_type": "code",
   "execution_count": 7,
   "id": "e082c586-6628-4529-91dd-8e961c482507",
   "metadata": {},
   "outputs": [],
   "source": [
    "# Solução\n",
    "#sinal = lambda A, w, t: A*np.sin(2*np.pi*w*t)\n",
    "#t = np.linspace(0,1,100)\n",
    "#x = sinal(3,1,t)+sinal(1,4,t)+sinal(0.5,7,t)\n",
    "#plt.plot(t,x)\n",
    "#plt.xlabel( 'Tempo (s)' ) \n",
    "#plt .ylabel( 'Amplitude' ) \n",
    "#plt.title( 'Sinal soma de três sinais' ) \n",
    "#plt.grid()\n",
    "#plt.show()"
   ]
  },
  {
   "cell_type": "markdown",
   "id": "5d55a31e-789d-4cc7-9314-f0cd427a1178",
   "metadata": {},
   "source": [
    "### Funções pares e ímpares\n",
    "\n",
    "Funções que satisfazem $f(-x) = f(x)$, isto é, cujo gráfico é simétrico em relação ao eixo $y$ são chamadas **funções pares**. \n",
    "\n",
    "Funções que satisfazem $f(-x) = -f(x)$ ou seja, são simétricas em relação à origem, são chamadas **funções ímpares**.\n",
    "\n",
    "É possível demonstrar que toda função real pode ser escrita de forma única como a soma de uma função ímpar e outra par. A função cosseno é uma função par e a função seno é uma função ímpar, Assim, podemos representar funções como combinações de senos e cossenos."
   ]
  },
  {
   "cell_type": "markdown",
   "id": "b7b709c8-1174-402e-b959-852598a2d987",
   "metadata": {},
   "source": [
    "**Exercício 4:** Identiﬁque a paridade das seguintes funções.\n",
    "\n",
    "a) $f(x) = sen(x)+0.5sen(3x)$\n",
    "\n",
    "b) $f(x) = cos(x)+cos(2x)$\n",
    "\n",
    "c) $f(x) = sen(x)+e^x$"
   ]
  },
  {
   "cell_type": "code",
   "execution_count": null,
   "id": "d744001d-ac83-4c6d-98b9-f52ddcc18db9",
   "metadata": {},
   "outputs": [],
   "source": []
  },
  {
   "cell_type": "code",
   "execution_count": 8,
   "id": "85475379-0a89-4873-a23e-9d76e0591280",
   "metadata": {},
   "outputs": [],
   "source": [
    "# solução gráfica\n",
    "#f = lambda x: np.sin(x)+0.5*np.sin(3*x)\n",
    "#f = lambda x: np.sin(x)*(np.e**x)\n",
    "#x = np.linspace(-5,5,200)\n",
    "#plt.plot(x,f(x))\n",
    "#plt.grid()"
   ]
  },
  {
   "cell_type": "markdown",
   "id": "985308c1-b335-403d-afc2-bcc544f0aafc",
   "metadata": {},
   "source": [
    "É possível demonstrar que toda função real pode ser escrita de forma única como a soma de uma função ímpar e outra par. Observe que a função cosseno é uma função par e a função seno é uma função ímpar, sssim, podemos representar funções como combinações de senos e cossenos."
   ]
  },
  {
   "cell_type": "markdown",
   "id": "e96c790d-81d6-4f58-9b38-cb80be152d85",
   "metadata": {},
   "source": [
    "Uma função par pode ser representada por uma série formada apenas por termos em cosseno, enquanto uma função ímpar pode ser representada por uma série formada apenas por termos em seno. Assim, para expandir uma função $f(x)$ em série de senos ou de cossenos, pode ser útil estendê-la a uma função periódica de período $2L$, escolhendo uma extensão par ou ímpar, conforme for mais conveniente. Essa construção recebe o nome de **expansão de meia-escala**, que corresponde a uma extensão periódica par ou ímpar, como ilustrado na figura a seguir."
   ]
  },
  {
   "cell_type": "markdown",
   "id": "83b60cbf-061d-4915-98a3-bd9a666716c3",
   "metadata": {},
   "source": [
    "<img src=\"https://raw.githubusercontent.com/tiagoburiol/MatComp_IV/refs/heads/main/imagens/expansao_meia_onda.png\" width=\"800\">\n",
    "\n"
   ]
  },
  {
   "cell_type": "markdown",
   "id": "371aa837-d01e-4644-b8f9-4bfb4fd2250f",
   "metadata": {},
   "source": [
    "Veja como são as expansões de meia-escala par de ímpar da onda triangular e suas representações por série de cossenos por série de senos, respectivamente (Kreyszig, 2016)."
   ]
  },
  {
   "cell_type": "markdown",
   "id": "9a3c30ac-77ce-4229-ab09-b6ffd2f6b91e",
   "metadata": {},
   "source": [
    "<img src=\"https://raw.githubusercontent.com/tiagoburiol/MatComp_IV/refs/heads/main/imagens/extensao_trianulo.png\" width=\"800\">\n"
   ]
  },
  {
   "cell_type": "markdown",
   "id": "2a3ee45d-11cf-4d1a-8fa0-571bb5a7208e",
   "metadata": {},
   "source": [
    "**Exemplo 3:** A seguir é mostrado um exemplo de como plutar algumas representações em somas parciais da série de cossenos para a expansões de meia-escala par da onda triangular. Fica como exercício realizar a expansão da série de senos."
   ]
  },
  {
   "cell_type": "code",
   "execution_count": 25,
   "id": "c6c6867f-0371-4307-9f75-5df24e35b51b",
   "metadata": {},
   "outputs": [
    {
     "data": {
      "image/png": "[encoded data removed]",
      "text/plain": [
       "<Figure size 800x200 with 1 Axes>"
      ]
     },
     "metadata": {},
     "output_type": "display_data"
    }
   ],
   "source": [
    "k = 1\n",
    "L = 2\n",
    "x = np.linspace(-1.5*L,1.5*L,500)\n",
    "\n",
    "soma = np.zeros(len(x))\n",
    "fig, ax = plt.subplots(figsize=(8,2))\n",
    "\n",
    "for n in np.arange(2,20,4):\n",
    "    soma = soma+(1/n**2)*np.cos(n*np.pi*x/L)\n",
    "    f = np.full(len(x), k/2)-(16*k/np.pi**2)*soma\n",
    "    plt.plot(x,f, lw=0.5)\n",
    "    plt.grid()\n",
    "plt.show()"
   ]
  },
  {
   "cell_type": "code",
   "execution_count": null,
   "id": "f92169e7-e7e7-4d5a-973c-18c10147ae90",
   "metadata": {},
   "outputs": [],
   "source": []
  },
  {
   "cell_type": "markdown",
   "id": "e1dac98a-b22b-44ae-9ceb-1708a3eb09eb",
   "metadata": {},
   "source": [
    "## Série de Fourier\n",
    "\n",
    "As séries de Fourier são séries infinitas concebidas para representar funções periódicas gerais em termos de funções simples, a saber, de senos e cossenos. Elas constituem uma ferramenta muito importante, especialmente na solução de problemas envolvendo EDOs e EDPs.\n",
    "A transformada de Fourier estende as idéias e técnicas das séries de Fourier às funções não-periódicas e que têm aplicações\n",
    "fundamentais nas EDPs (Kreyszig, 2016)."
   ]
  },
  {
   "cell_type": "markdown",
   "id": "8958e47a-a2d9-4fbd-911e-5f770aa14fe3",
   "metadata": {},
   "source": [
    "As funções $\\cos nx$ e $\\operatorname{sen}nx$, $n=0,1,2,...$, têm período $2\\pi$ e constituem o chamado **sistema trigonométrico**. Assim, uma série trigonométrica na forma \n",
    "$$a_0+a_1 \\cos x+b_1 \\operatorname{sen} x+a_2 \\cos 2 x+b_2 \\operatorname{sen} 2 x+\\cdots,$$\n",
    "caso seja convergente, tem período $2\\pi$."
   ]
  },
  {
   "cell_type": "markdown",
   "id": "92238fce-bc08-49dc-b628-0d82f36fc56f",
   "metadata": {},
   "source": [
    "Suponha que $f(x)$ seja uma função dada **de período 2**$\\pi$, tal que possa ser representada por uma série trigonométrica tal que\n",
    "\n",
    "$$f(x) = a_0+\\sum_{n=1}^{\\infty}\\left(a_n \\cos n x+b_n \\operatorname{sen} n x\\right)$$"
   ]
  },
  {
   "cell_type": "markdown",
   "id": "c34ef713-7f69-46fa-92d4-873458c61fbb",
   "metadata": {},
   "source": [
    "Neste caso, tem-se a **série de Fourier** da função $f(x)$ e os coeficientes são dados pelas **fórmulas de Euler**:\n",
    "\n",
    "$$a_0=\\frac{1}{2 \\pi} \\int_{-\\pi}^\\pi f(x) dx, \\quad a_n=\\frac{1}{\\pi} \\int_{-\\pi}^\\pi f(x) \\cos nx dx \\quad \\text{e} \\quad b_n=\\frac{1}{\\pi} \\int_{-\\pi}^\\pi f(x) \\operatorname{sen}nx dx$$\n",
    "\n",
    "com $n=1,2,3,...$."
   ]
  },
  {
   "cell_type": "markdown",
   "id": "615b60fa-5816-4ca8-bfa2-5221ba2df40d",
   "metadata": {},
   "source": [
    "**Exemplo 4:** Encontre os coeficientes de Fourier da função periódica\n",
    "$$\n",
    "f(x)=\\left\\{\\begin{array}{rcc}\n",
    "-2 & \\text { se } & -\\pi<x<0 \\\\\n",
    "2 & \\text { se } & 0<x<\\pi\n",
    "\\end{array} \\quad \\text { e } \\quad f(x+2 \\pi)=f(x) .\\right.\n",
    "$$"
   ]
  },
  {
   "cell_type": "code",
   "execution_count": null,
   "id": "78ee0255-1d5e-475f-983b-15c922715ddf",
   "metadata": {},
   "outputs": [],
   "source": [
    "import sympy as sp\n",
    "x, pi= sp.symbols('x pi')\n",
    "n = sp.symbols('n', integer=True,positive=True)"
   ]
  },
  {
   "cell_type": "code",
   "execution_count": null,
   "id": "2c7d99c3-234a-43d5-8f9c-27d9b894c9ed",
   "metadata": {},
   "outputs": [],
   "source": [
    "a0 = (1/2*pi)*(sp.integrate(-2,(x,-pi,0))+sp.integrate(2,(x,0,pi)))\n",
    "display(a0)"
   ]
  },
  {
   "cell_type": "code",
   "execution_count": null,
   "id": "b36321e2-6283-471c-9667-f0b3c6e47bd9",
   "metadata": {},
   "outputs": [],
   "source": [
    "an = (1/pi)*(sp.integrate(-2*sp.cos(n*x),(x,-pi,0))+sp.integrate(2*sp.cos(n*x),(x,0,pi)))\n",
    "display(an)"
   ]
  },
  {
   "cell_type": "code",
   "execution_count": null,
   "id": "999dee47-ed83-43a0-95c3-ff035c3dc57e",
   "metadata": {},
   "outputs": [],
   "source": [
    "bn = (1/pi)*(sp.integrate(-2*sp.sin(n*x),(x,-pi,0))+sp.integrate(2*sp.sin(n*x),(x,0,pi)))\n",
    "display(sp.simplify(bn))"
   ]
  },
  {
   "cell_type": "code",
   "execution_count": null,
   "id": "c4697e53-455d-4038-9e3a-e36f0299d112",
   "metadata": {},
   "outputs": [],
   "source": [
    "bn = sp.simplify(bn.subs(pi,sp.pi))\n",
    "bn"
   ]
  },
  {
   "cell_type": "markdown",
   "id": "db66d92f-dd06-4a70-b1cc-ef272d3e1264",
   "metadata": {},
   "source": [
    "Quando $n$ é par, $b_n=0$, quando $n$ é impar, $b_n=\\frac{8}{n\\pi}$. Assim a série de Fourier é dada por\n",
    "\n",
    "$$\n",
    "\\frac{8}{\\pi}\\left(\\operatorname{sen} x+\\frac{1}{3} \\operatorname{sen} 3 x+\\frac{1}{5} \\operatorname{sen} 5 x+\\cdots\\right).\n",
    "$$"
   ]
  },
  {
   "cell_type": "markdown",
   "id": "2dcfa4f1-c60b-40c5-836c-4e1a0c9294fb",
   "metadata": {},
   "source": [
    "Podemos confirmar obtendo a série de Fourier usando o método `.fourier_series()` da biblioteca SymPy, como é mostrado a seguir"
   ]
  },
  {
   "cell_type": "code",
   "execution_count": null,
   "id": "b69e4fd8-6296-474e-bc23-445a38956774",
   "metadata": {},
   "outputs": [],
   "source": [
    "f = sp.Piecewise((-2, (x >= -sp.pi) & (x < 0)),\n",
    "                 (2, (x >= 0) & (x < sp.pi)))\n",
    "fs = sp.fourier_series(f, (x, -sp.pi, sp.pi))\n",
    "fs"
   ]
  },
  {
   "cell_type": "code",
   "execution_count": null,
   "id": "ed97d2d2-5483-45f4-9b97-5ada71662af6",
   "metadata": {},
   "outputs": [],
   "source": [
    "fs10= fs.truncate(10)   # 10 termos\n",
    "f_lambd = sp.lambdify(x, fs10, \"numpy\")\n",
    "\n",
    "xi = np.linspace(-2*np.pi, 2*np.pi, 400)\n",
    "yi = f_lambd(xi)"
   ]
  },
  {
   "cell_type": "code",
   "execution_count": null,
   "id": "73c7936f-3aaa-461a-8c57-989a7226f740",
   "metadata": {},
   "outputs": [],
   "source": [
    "fig, ax = plt.subplots(figsize=(6,2))\n",
    "plt.plot(xi, yi)\n",
    "plt.grid()\n",
    "plt.show()"
   ]
  },
  {
   "cell_type": "markdown",
   "id": "f5dda8f2-2595-4a8c-b451-663416889f5d",
   "metadata": {},
   "source": [
    "**Exercício 4:** Suponha que existe uma série de Fourier convergindo para a função $f$ definida por\n",
    "\n",
    "$$\n",
    "\\begin{gathered}\n",
    "f(x)=\\left\\{\\begin{array}{cc}\n",
    "-x, & -\\pi \\leq x<0 \\\\\n",
    "x, & 0 \\leq x<\\pi\n",
    "\\end{array}\\right. \\\\\n",
    "\\\\\n",
    "f(x+2\\pi)=f(x)\n",
    "\\end{gathered}\n",
    "$$\n",
    "\n",
    "\n",
    "Obtenha os coeficientes da série de Fourier e faça o gráfico para diferentes somas parciais da série, junto com o gráfico da função."
   ]
  },
  {
   "cell_type": "code",
   "execution_count": null,
   "id": "b7f52df3-6783-4575-9fcf-fe4005b09ce3",
   "metadata": {},
   "outputs": [],
   "source": [
    "def f(x):\n",
    "    if x>=np.pi: \n",
    "        return f(x-2*np.pi)\n",
    "    if x<-np.pi:\n",
    "        return f(x+2*np.pi)\n",
    "    if (x>=-np.pi)&(x<0): \n",
    "        return -x\n",
    "    if (x>=0)&(x<np.pi): \n",
    "        return x"
   ]
  },
  {
   "cell_type": "code",
   "execution_count": null,
   "id": "19f64ab3-0add-4143-a888-50e82d55a386",
   "metadata": {},
   "outputs": [],
   "source": [
    "x = np.linspace(-3*np.pi,3*np.pi,200)\n",
    "fig, ax = plt.subplots(figsize=(6,2))\n",
    "plt.plot(x,[f(xi) for xi in x])\n",
    "plt.grid()"
   ]
  },
  {
   "cell_type": "code",
   "execution_count": null,
   "id": "342446f3-eb91-491d-8276-70ee77af7c43",
   "metadata": {},
   "outputs": [],
   "source": []
  },
  {
   "cell_type": "markdown",
   "id": "e2131ab0-d393-48f9-b4c5-2d6067afd107",
   "metadata": {},
   "source": [
    "Se $f$ e $g$ forem duas funções periódicas com período comum $T$, então seu produto $fg$ e qualquer combinação linear $c_1 f + c_2 g$ também serão periódicas com período $T$. Além disso, pode-se mostrar que a soma de qualquer número finito, ou até a soma de uma série infinita convergente, de funções de período $T$ também é periódica com período $T$. \n",
    "\n",
    "Em particular, as funções $\\operatorname{sen}\\left(\\frac{n \\pi x}{L}\\right)$ e $\\cos \\left(\\frac{n \\pi x}{L}\\right), n=1,2, \\ldots$, são periódicas com período fundamental $T = \\frac{2L}{n}$. Note também que, como todo múltiplo inteiro de um período também é um período, cada uma das funções tem o período comum $2L$. Estas funções formam um conjunto ortogonal no intervalo $-L \\leq x \\leq L$.  ([Boyce, 2020](https://integrada.minhabiblioteca.com.br/reader/books/9788521638841/epubcfi/6/44%5B%3Bvnd.vst.idref%3Dchapter10%5D!/4/166/2/2))."
   ]
  },
  {
   "cell_type": "markdown",
   "id": "eb9a8358-3cec-4e89-979f-1e4035846f66",
   "metadata": {},
   "source": [
    "Assim, se $f$ é uma função periódica de período $2L$, então $f$ pode ser escrita como combinação linear dessas funções, que é a a **série de Fourier da função $f(x)$ de período $2 L$**\n",
    "\n",
    "$$\n",
    "f(x)=a_0+\\sum_{n=1}^{\\infty} \\Big[ a_n \\cos \\left(\\frac{n \\pi x}{L}\\right)+b_n \\operatorname{sen}\\left(\\frac{n \\pi x}{L}\\right)\\Big]\n",
    "$$\n",
    "\n",
    "\n",
    "com os coeficientes de Fourier de $f(x)$ dados pelas **fórmulas de Euler**\n",
    "\n",
    "$$\n",
    "\\begin{gathered}\n",
    "a_0=\\frac{1}{2 L} \\int_{-L}^L f(x) d x \\\\\n",
    "a_n=\\frac{1}{L} \\int_{-L}^L f(x) \\cos \\frac{n \\pi x}{L} d x \\\\\n",
    "b_n=\\frac{1}{L} \\int_{-L}^L f(x) \\operatorname{sen} \\frac{n \\pi x}{L} d x\n",
    "\\end{gathered}\n",
    "$$\n",
    "\n",
    "com $n=1,2,3,\\dots.$"
   ]
  },
  {
   "cell_type": "markdown",
   "id": "1807b6c5-6ecd-41cb-9148-3fd165e12fc0",
   "metadata": {},
   "source": [
    "**Exemplo 5:** Suponha que existe uma série de Fourier convergindo para a função $f$ definida por\n",
    "\n",
    "$$\n",
    "\\begin{gathered}\n",
    "f(x)=\\left\\{\\begin{array}{cc}\n",
    "-x, & -2 \\leq x<0 \\\\\n",
    "x, & 0 \\leq x<2\n",
    "\\end{array}\\right. \\\\\n",
    "f(x+4)=f(x)\n",
    "\\end{gathered}\n",
    "$$\n",
    "\n",
    "\n",
    "Vamos ver como são os coeficientes nesta série de Fourier e fazer o gráfico."
   ]
  },
  {
   "cell_type": "code",
   "execution_count": null,
   "id": "64350add-777a-41df-a9c2-b71fb5c79877",
   "metadata": {},
   "outputs": [],
   "source": [
    "def f(x):\n",
    "    if x>=2: \n",
    "        return f(x-4)\n",
    "    if x<-2:\n",
    "        return f(x+4)\n",
    "    if (x>=-2)&(x<0): \n",
    "        return -x\n",
    "    if (x>=0)&(x<2): \n",
    "        return x"
   ]
  },
  {
   "cell_type": "code",
   "execution_count": null,
   "id": "7769e9d4-33a7-4521-8402-00c24d13412e",
   "metadata": {},
   "outputs": [],
   "source": [
    "x = np.linspace(-4,6,200)\n",
    "fig, ax = plt.subplots(figsize=(6,2))\n",
    "plt.plot(x,[f(xi) for xi in x])\n",
    "plt.grid()"
   ]
  },
  {
   "cell_type": "markdown",
   "id": "92cab2e8-1a0f-48c0-9a53-33a7ceb473c0",
   "metadata": {},
   "source": [
    "Os coeficientes são dados por \n",
    "\n",
    "$$\n",
    "a_0=\\frac{1}{2} \\int_{-2}^0(-x) d x+\\frac{1}{2} \\int_0^2 x d x = 2\n",
    "$$\n",
    "\n",
    "$$\n",
    "a_n=\\frac{1}{2} \\int_{-2}^0(-x) cos \\left(\\frac{n \\pi x}{2}\\right) d x+\\frac{1}{2} \\int_0^2 x cos \\left(\\frac{n \\pi x}{2}\\right) dx\n",
    "$$\n",
    "\n",
    "$$\n",
    "=\\left\\{\\begin{array}{cl}\n",
    "-\\frac{8}{(n \\pi)^2}, & n \\text { ímpar } \\\\\n",
    "0, & n \\text { par. }\n",
    "\\end{array}\\right.\n",
    "$$\n",
    "\n",
    "e \n",
    "\n",
    "$$\n",
    "b_n=\\frac{1}{2} \\int_{-2}^0(-x) sen \\left(\\frac{n \\pi x}{2}\\right) dx+\\frac{1}{2} \\int_0^2 xsen \\left(\\frac{n \\pi x}{2}\\right)dx=0\n",
    "$$"
   ]
  },
  {
   "cell_type": "markdown",
   "id": "e103ec22-d099-44fe-af6f-f085296ebd35",
   "metadata": {},
   "source": [
    "As integrais podem ser obtidas usando Sympy, com a função `integrate`, por exemplo:"
   ]
  },
  {
   "cell_type": "code",
   "execution_count": null,
   "id": "f113a5c9-7211-40eb-9d7d-2baa392f5888",
   "metadata": {},
   "outputs": [],
   "source": [
    "x, pi = sp.symbols('x pi')\n",
    "n = sp.symbols('n', integer=True, positive=True)\n",
    "sp.integrate(-x*sp.cos(n*pi*x/2), (x,-2,0))"
   ]
  },
  {
   "cell_type": "markdown",
   "id": "2471c983-6c91-4970-ac7c-76dceb3f978a",
   "metadata": {},
   "source": [
    "Calculando as integrais, substituindo e simplificando, obtemos \n",
    "$$\n",
    "f(x)=1-\\frac{8}{\\pi^2} \\sum_{n=1}^{\\infty} \\frac{1}{(2 n-1)^2} \\cos \\left(\\frac{(2 n-1) \\pi x}{2}\\right) .\n",
    "$$\n",
    "\n",
    "O gráfico da função e da série de fourier para 5 termos é mostrado abaixo:"
   ]
  },
  {
   "cell_type": "code",
   "execution_count": null,
   "id": "c29b6478-9ca8-49f6-a319-73ebc28035a5",
   "metadata": {},
   "outputs": [],
   "source": [
    "x = np.linspace(-4,6,200)\n",
    "fig, ax = plt.subplots(figsize=(6,2))\n",
    "plt.plot(x,[f(xi) for xi in x])\n",
    "\n",
    "soma = np.zeros(len(x))\n",
    "for n in range(1,3):\n",
    "    soma= soma+(1/(2*n-1)**2)*np.cos((2*n-1)*np.pi*x/2)\n",
    "\n",
    "serie = 1-(8/np.pi**2)*soma\n",
    "plt.plot(x,serie)\n",
    "plt.grid()"
   ]
  },
  {
   "cell_type": "markdown",
   "id": "36a014a5-6062-4736-8419-6fcea61c758d",
   "metadata": {},
   "source": [
    "**Exemplo 6:** Modelando uma onda quadrada de período $T=1$ e amplitude $A=1$; obtendo a série de fourier com 5 termos e plotando a curva, a série e a suas componentes harmônicas. "
   ]
  },
  {
   "cell_type": "code",
   "execution_count": null,
   "id": "a269fc05-db08-4737-a766-ee4b0cf200f4",
   "metadata": {},
   "outputs": [],
   "source": [
    "T = 2.0\n",
    "\n",
    "def f(x):\n",
    "    if abs(x)>T/2: \n",
    "        return f(abs(x)-T)\n",
    "    if (x>-T/4)and(x<T/4): \n",
    "        return 1\n",
    "    if (x<-T/4)or(x>T/4): \n",
    "        return -1\n",
    "    \n",
    "x = np.linspace(-T,T,200)\n",
    "\n",
    "plt.figure(figsize = (6, 2))\n",
    "plt.plot(x,[f(xi) for xi in x])\n",
    "plt.grid()"
   ]
  },
  {
   "cell_type": "markdown",
   "id": "1207ac0e-42aa-47e9-a522-9f3fc74bc0fc",
   "metadata": {},
   "source": [
    "A onda quadrada par é aproximada pela série de Fourier com coeficientes $a_0=0$, $bn=0$ e \n",
    "\n",
    "$$\n",
    "a_k=\\left\\{\\begin{array}{cl}\n",
    "4 /(k \\pi) & \\text { para } k=1,5,9, \\ldots \\\\\n",
    "-4 /(k \\pi) & \\text { para } k=3,7,11, \\ldots \\\\\n",
    "0 & \\text { para } k=\\text { inteiros pares }\n",
    "\\end{array}\\right.\n",
    "$$\n",
    "\n",
    "O código abaixo pode ser usado para gerar alguns termos da série."
   ]
  },
  {
   "cell_type": "code",
   "execution_count": null,
   "id": "0cdd2ae3-8933-4c42-a0c1-0f43d6c8b654",
   "metadata": {},
   "outputs": [],
   "source": [
    "import sympy as sp\n",
    "t, w0 = sp.symbols('t, w_0')\n",
    "serie = 0\n",
    "\n",
    "for n in range(1,10,2):\n",
    "    serie += (-1)**(n//2)*(4/sp.pi)*sp.cos(n*w0*t)/n\n",
    "serie"
   ]
  },
  {
   "cell_type": "code",
   "execution_count": null,
   "id": "8434c8bb-0f00-49e5-8df6-cadf614ecff2",
   "metadata": {},
   "outputs": [],
   "source": [
    "s = sp.lambdify(t, serie) "
   ]
  },
  {
   "cell_type": "markdown",
   "id": "a4fd9877-42e9-4dee-9190-bed2afaf0325",
   "metadata": {},
   "source": [
    "O código abaixo plota os gráficos da onda quadrada, a aproximação pos série de Fourier e as componentes harmônicas da onda (termos da série)."
   ]
  },
  {
   "cell_type": "code",
   "execution_count": null,
   "id": "11f4a23a-11de-49b5-8ef2-8adfa712759e",
   "metadata": {},
   "outputs": [],
   "source": [
    "ti = np.linspace(-T,T,200)\n",
    "soma=0\n",
    "w = 2*np.pi/T\n",
    "\n",
    "plt.figure(figsize = (7, 2))\n",
    "for n in range(1,10,2):\n",
    "    comp = (-1)**(n//2)*(4/np.pi)*np.cos(n*w*ti)/n\n",
    "    soma += comp\n",
    "    plt.plot(ti, comp, 'b:',lw=1)\n",
    "\n",
    "plt.plot(ti, soma, lw=2)\n",
    "plt.plot(x,[f(xi) for xi in x], 'k', lw=1.0)\n",
    "plt.grid()\n",
    "plt.show()"
   ]
  },
  {
   "cell_type": "markdown",
   "id": "1f9a3bfb-fe7c-41f3-bd8f-878490ecc8ba",
   "metadata": {},
   "source": [
    "Assim, podemos descrever uma função periódica por uma série de senos ou de cossenos em que são conhecidas as frequências e as amplitudes de cada termo, além do ângulo de fase ($\\theta$).\n",
    "\n",
    "No exemplo acima, para as amplitudes $4/\\pi, -4/3\\pi, 4/5\\pi, -4/7\\pi,...$, tem-se as frequências $w_0, 3w_0, 5w_0, 7w_0,...$. A figura abaixo mostra as linhas espectrais de amplitude e fase para a onda quadrada do exemplo anterior. Esta é uma forma de representar a função em termos de ampliude, frequência e fase (Fonte: [Chapra e Canale, 2016](https://integrada.minhabiblioteca.com.br/reader/books/9788580555691/pageid/491))."
   ]
  },
  {
   "cell_type": "markdown",
   "id": "81b3cf2c-509a-454b-b4fe-80a2b7978fc0",
   "metadata": {},
   "source": [
    "<img src=\"https://github.com/tiagoburiol/MatComp_IV/blob/main/imagens/linha_espectral_e_fase.png?raw=true\" width=\"600\">"
   ]
  },
  {
   "cell_type": "markdown",
   "id": "1e30b2c6-9495-421f-b70d-e6941e096c9a",
   "metadata": {},
   "source": [
    "Em Python podemos geral as linhas espectrais de amplitude e fase como é mostrado a seguir:"
   ]
  },
  {
   "cell_type": "code",
   "execution_count": null,
   "id": "63c9925d-acda-4ebe-8f92-be5592a2afc0",
   "metadata": {},
   "outputs": [],
   "source": [
    "freq = np.arange(1,10,2)\n",
    "\n",
    "plt.figure(figsize = (4, 2))\n",
    "plt.stem(freq , abs(4/np.pi/freq), \n",
    "         markerfmt=\" \", basefmt=\"-\")\n",
    "\n",
    "plt.xlabel( 'Frequência ($\\\\times f_0$)' ) \n",
    "plt.ylabel( 'Amplitude' )\n",
    "plt.grid()\n",
    "plt.show()"
   ]
  },
  {
   "cell_type": "code",
   "execution_count": null,
   "id": "0baf5867-cf85-4e7b-b82d-066428285285",
   "metadata": {},
   "outputs": [],
   "source": [
    "freq = np.arange(1,10,2)\n",
    "plt.figure(figsize = (4, 2))\n",
    "plt.stem(freq , (-1)**(freq//2)>0, \n",
    "         markerfmt=\".\", basefmt=\":\")\n",
    "\n",
    "plt.xlabel( 'Frequência ($\\\\times f_0$)' ) \n",
    "plt.ylabel( 'Fase (*Pi)' )\n",
    "plt.grid()\n",
    "plt.show()"
   ]
  },
  {
   "cell_type": "markdown",
   "id": "106fc8d8-d182-472f-8ef3-f1b6f78c9d98",
   "metadata": {},
   "source": [
    "**Exercício 5:** Um retificador de meia onda pode ser caracterizado por\n",
    "\n",
    "$$\n",
    "C_1=\\left[\\frac{1}{\\pi}+\\frac{1}{2} \\operatorname{sen} t-\\frac{2}{3 \\pi} \\cos 2 t-\\frac{2}{15 \\pi} \\cos 4t -\\frac{2}{35 \\pi} \\cos 6 t-\\cdots\\right]\n",
    "$$\n",
    "\n",
    "onde $C_1$ é a amplitude da onda. Trace os primeiros cinco termos junto à soma. Construa as linhas espectrais de amplitude e de fase. "
   ]
  },
  {
   "cell_type": "code",
   "execution_count": null,
   "id": "72551498-6852-4e9f-9a09-cac74544eefe",
   "metadata": {},
   "outputs": [],
   "source": []
  },
  {
   "cell_type": "markdown",
   "id": "29d36c9a-2d1f-4203-922c-72cb3ae14d2d",
   "metadata": {},
   "source": [
    "**Exercício 6:** Use os exemplos anteriores como modelos para fazer o gráfico da função \n",
    "\n",
    "$$\n",
    "f(x)=\\left\\{\\begin{array}{cc}\n",
    "0, & -3<x<-1 \\\\\n",
    "1, & -1<x<1 \\\\\n",
    "0, & 1<x<3\n",
    "\\end{array}\\right.\n",
    "$$\n",
    "\n",
    "supondo que $f(x + 6) = f(x)$. \n",
    "\n",
    "Sabendo que a série de Fourier é dada por \n",
    "\n",
    "$$\n",
    "f(x)=\\frac{1}{3}+\\sum_{n=1}^{\\infty} \\frac{2}{n \\pi} \\operatorname{sen}\\left(\\frac{n \\pi}{3}\\right) \\cos \\left(\\frac{n \\pi x}{3}\\right)\n",
    "$$"
   ]
  },
  {
   "cell_type": "code",
   "execution_count": null,
   "id": "1fa3b429-f7dd-405a-8e67-4c5f2f1cfff6",
   "metadata": {},
   "outputs": [],
   "source": []
  },
  {
   "cell_type": "markdown",
   "id": "9e8a28d4",
   "metadata": {},
   "source": [
    "**Exemplo 7:**\n",
    "A seguir é mostrado como usar **integração numérica** para obter uma aproximação por série de Fourier da função do primeiro exemplo. Modifique o código dado para aproximar a função da criada no Exercício 1 deste texto. "
   ]
  },
  {
   "cell_type": "code",
   "execution_count": 26,
   "id": "d926ab40",
   "metadata": {},
   "outputs": [
    {
     "data": {
      "image/png": "[encoded data removed]",
      "text/plain": [
       "<Figure size 300x200 with 1 Axes>"
      ]
     },
     "metadata": {},
     "output_type": "display_data"
    }
   ],
   "source": [
    "def f(x):\n",
    "    if abs(x)>np.pi: \n",
    "        return f(abs(x)-2*np.pi)\n",
    "    if (x>0)&(x<np.pi): \n",
    "        return x\n",
    "    if (x<0)&(x>-np.pi): \n",
    "        return -x\n",
    "    \n",
    "x = np.linspace(-5,8,200)\n",
    "plt.plot(x,[f(xi) for xi in x])\n",
    "plt.grid()"
   ]
  },
  {
   "cell_type": "code",
   "execution_count": 28,
   "id": "b0d6884a",
   "metadata": {},
   "outputs": [
    {
     "data": {
      "image/png": "[encoded data removed]",
      "text/plain": [
       "<Figure size 300x200 with 1 Axes>"
      ]
     },
     "metadata": {},
     "output_type": "display_data"
    }
   ],
   "source": [
    "from scipy.integrate import quad\n",
    "\n",
    "s = np.pi/2 \n",
    "\n",
    "for n in range(1,3):\n",
    "    An = (1/np.pi)*(quad(lambda x: -x*np.cos(n*x),-np.pi,0)[0] +\\\n",
    "                    quad(lambda x: x*np.cos(n*x), 0,np.pi)[0])\n",
    "    Bn = (1/np.pi)*(quad(lambda x: -x*np.sin(n*x),-np.pi,0)[0] +\\\n",
    "                    quad(lambda x: x*np.sin(n*x), 0,np.pi)[0])\n",
    "    s += An*np.cos(n*x) + Bn*np.sin(n*x)\n",
    "plt.plot(x,[f(xi) for xi in x])\n",
    "plt.plot(x,s, lw=0.5)\n",
    "plt.grid()"
   ]
  },
  {
   "cell_type": "code",
   "execution_count": null,
   "id": "3d7068ee-8074-4ca1-93c9-986c8b853cd1",
   "metadata": {},
   "outputs": [],
   "source": []
  },
  {
   "cell_type": "code",
   "execution_count": null,
   "id": "824716be",
   "metadata": {},
   "outputs": [],
   "source": [
    "# solução\n",
    "#from scipy.integrate import quad\n",
    "#s = 3/2\n",
    "#w = 2*np.pi/3\n",
    "#for n in range(1,10):\n",
    "#    An = (2/3)*(quad(lambda x: h(x)*np.cos(w*n*x),0,np.pi)[0])\n",
    "#    Bn = (2/3)*(quad(lambda x: h(x)*np.sin(w*n*x),0,np.pi)[0])\n",
    "#    s += An*np.cos(w*n*x) + Bn*np.sin(w*n*x)\n",
    "#plt.plot(x,[g(xi) for xi in x],'--')\n",
    "#plt.plot(x,s, \"r\", lw=0.5)\n",
    "#plt.grid()"
   ]
  },
  {
   "cell_type": "code",
   "execution_count": null,
   "id": "8723a363-bd0f-45f0-9188-e491461e21c3",
   "metadata": {},
   "outputs": [],
   "source": []
  },
  {
   "cell_type": "markdown",
   "id": "186c446b",
   "metadata": {},
   "source": [
    "### Referências\n",
    "\n",
    "BOYCE, William E. Equações Diferenciais Elementares e Problemas de Valores de Contorno. Grupo GEN, 2020. E-book. ISBN 9788521637134. Disponível em: https://integrada.minhabiblioteca.com.br/#/books/9788521637134/. \n",
    "\n",
    "CHAPRA, Steven C.; CANALE, Raymond P. Métodos numéricos para engenharia. 7. ed. Porto Alegre: AMGH, 2016. E-book. p.481. ISBN 9788580555691. Disponível em: https://integrada.minhabiblioteca.com.br/reader/books/9788580555691/. Acesso em: 21 ago. 2025.\n",
    "\n",
    "KONG, Qingkai; SIAUW, Timmy; BAYEN, Alexandre M. Python Programming and Numerical Methods: A Guide For Engineers And Scientists. ed 1, Academic Press, 2021. DOI: https://doi.org/10.1016/C2018-0-04165-1\n",
    "\n",
    "KREYSIG, E. Matemática superior para engenharia (9ª ed.). Rio de Janeiro: LTC. 2016.\n",
    "\n",
    "LANGTANGEN, Hans Pette. A Primer on Scientific Programming with Python. Texts in Computational Science and Engineering. Springer Berlin, Heidelberg, ed 5, 2016. DOI: https://doi.org/10.1007/978-3-662-49887-3\n"
   ]
  },
  {
   "cell_type": "code",
   "execution_count": null,
   "id": "95ce58e4",
   "metadata": {},
   "outputs": [],
   "source": []
  }
 ],
 "metadata": {
  "kernelspec": {
   "display_name": "Python 3 (ipykernel)",
   "language": "python",
   "name": "python3"
  },
  "language_info": {
   "codemirror_mode": {
    "name": "ipython",
    "version": 3
   },
   "file_extension": ".py",
   "mimetype": "text/x-python",
   "name": "python",
   "nbconvert_exporter": "python",
   "pygments_lexer": "ipython3",
   "version": "3.12.4"
  }
 },
 "nbformat": 4,
 "nbformat_minor": 5
}
