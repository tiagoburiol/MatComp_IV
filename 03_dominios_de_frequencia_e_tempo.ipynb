{
 "cells": [
  {
   "cell_type": "markdown",
   "id": "20df28eb",
   "metadata": {},
   "source": [
    "## 3. Domínios de frequência e tempo"
   ]
  },
  {
   "cell_type": "markdown",
   "id": "77622bde",
   "metadata": {},
   "source": [
    "No contexto de funções e sinais, o domínio no tempo e o domínio na frequência são duas formas diferentes de visualizar e analisar a mesma informação. No domínio do tempo, uma função senoidal é representada como uma onda que varia ao longo do tempo. No domínio da frequência, ela é representada por um único ponto no gráfico, onde a posição horizontal desse ponto indica sua frequência e a altura (ou magnitude) indica sua amplitude máxima.. Veja a figura abaixo.\n",
    "\n",
    "<img src=\"https://pythonnumericalmethods.berkeley.edu/_images/24.02.02-time_frequency.png\" width=\"360\" align=\"left\">"
   ]
  },
  {
   "cell_type": "markdown",
   "id": "39719c07",
   "metadata": {},
   "source": [
    "Fonte: <a href=\"https://pythonnumericalmethods.berkeley.edu/notebooks/chapter24.02-Discrete-Fourier-Transform.html\">Kong e Siauw (2021)</a>.\n"
   ]
  },
  {
   "cell_type": "markdown",
   "id": "10b93051-6d06-455b-b6e4-53fc1b5ed9f6",
   "metadata": {},
   "source": [
    "Um sinal senoidal pode ser totalmente descrito no domínio da frequência usando apenas sua amplitude máxima e seu ângulo de fase. Essas informações são visualizadas em dois gráficos simples: \n",
    "\n",
    " - Diagrama de Amplitude-Frequência: Mostra a amplitude de cada frequência presente no sinal.\n",
    "\n",
    " - Diagrama de Fase-Frequência: Mostra a fase (deslocamento) de cada frequência.\n",
    "\n",
    "Esses gráficos, chamados de espectros de amplitude e de fase, funcionam como uma \"impressão digital\" do sinal. Eles simplificam a análise de sinais complexos, pois decompõem a forma de onda em seus componentes de frequência mais simples, tornando fácil entender sua estrutura."
   ]
  },
  {
   "cell_type": "markdown",
   "id": "f56b49b3",
   "metadata": {},
   "source": [
    "A **forma amplitude-fase** da série de Fourier é útil para a análise no domínio da frequência. Nesse formato, a série é escrita como \n",
    "\n",
    "$$\n",
    "f(t)=\\frac{a_0}{2}+\\sum_{n=1}^{\\infty} A_n \\cos \\left(n \\omega_0 t+\\phi_n\\right)\n",
    "$$\n",
    "\n",
    "onde $A_n$ e $\\phi_n$ são a amplitude e a fase do espectro de $f(t)$:\n",
    "\n",
    "$$\n",
    "A_n=\\sqrt{a_n^2+b_n^2} \\quad \\text { e } \\quad \\phi_n=-\\tan ^{-1}\\left(\\frac{b_n}{a_n}\\right)\n",
    "$$\n",
    "\n",
    "sendo $a_n$ e $b_n$ os coeficientes da forma trigonométrica da série. A forma amplitude-fase está relacionada com a forma polar do número complexo $a_n-ib_n$, em que a amplitude é o módulo e a fase é o ângulo do ponto ($a_n, b_n$) em coordenadas polares no plano complexo.\n"
   ]
  },
  {
   "cell_type": "markdown",
   "id": "80dddde6-613d-4214-a747-033974f3b692",
   "metadata": {},
   "source": [
    "Então, o **espectro de amplitude** é um gráfico onde o eixo horizontal é a frequência $n\\omega_0$ e o eixo vertical é a amplitude $A_n$. Cada linha vertical nesse gráfico representa a amplitude de uma frequência específica presente no sinal. O **espectro de fase** é um gráfico onde o eixo horizontal é a frequência $n\\omega_0$ e o eixo vertical é a fase $\\phi_n$. Cada linha vertical mostra o deslocamento de fase de cada frequência.\n"
   ]
  },
  {
   "cell_type": "markdown",
   "id": "6f217d36",
   "metadata": {},
   "source": [
    "Vamos rever o modelo de uma onda quadrada e sua aproximação por uma série de Fourier. Em seguida veremos como descrever as funções que formam a série por meio de diagramas no domínio da frequência."
   ]
  },
  {
   "cell_type": "code",
   "execution_count": 2,
   "id": "b7442584",
   "metadata": {},
   "outputs": [],
   "source": [
    "import sympy as sp\n",
    "import numpy as np\n",
    "import matplotlib.pyplot as plt\n",
    "plt.rcParams['figure.figsize']=(3,2)"
   ]
  },
  {
   "cell_type": "markdown",
   "id": "ac02a941",
   "metadata": {},
   "source": [
    "**Exemplo 1:** Sabemos que uma onda quadrada de período $T=2$ e amplitude $A=1$ pode ser representada por uma série infinita de senos e cossenos. Tomemos a série de fourier com 5 termos da onda quadrada mostrada na figura abaixo, juntamente a série e a suas componentes harmônicas. \n",
    "\n",
    "<img src=\"https://raw.githubusercontent.com/tiagoburiol/MatComp_IV/refs/heads/main/imagens/onda_quadrada_serie_de_fourier.png\" width=\"480\">"
   ]
  },
  {
   "cell_type": "code",
   "execution_count": 3,
   "id": "7cfd7c21-40f9-4129-a61b-68a7d1944b2a",
   "metadata": {},
   "outputs": [
    {
     "data": {
      "text/latex": [
       "$\\displaystyle \\frac{4 \\cos{\\left(\\pi x \\right)}}{\\pi} - \\frac{4 \\cos{\\left(3 \\pi x \\right)}}{3 \\pi} + \\frac{4 \\cos{\\left(5 \\pi x \\right)}}{5 \\pi} - \\frac{4 \\cos{\\left(7 \\pi x \\right)}}{7 \\pi} + \\frac{4 \\cos{\\left(9 \\pi x \\right)}}{9 \\pi}$"
      ],
      "text/plain": [
       "4*cos(pi*x)/pi - 4*cos(3*pi*x)/(3*pi) + 4*cos(5*pi*x)/(5*pi) - 4*cos(7*pi*x)/(7*pi) + 4*cos(9*pi*x)/(9*pi)"
      ]
     },
     "execution_count": 3,
     "metadata": {},
     "output_type": "execute_result"
    }
   ],
   "source": [
    "x, pi= sp.symbols('x pi')\n",
    "n = sp.symbols('n', integer=True,positive=True)\n",
    "f = sp.Piecewise((1, (x >= 0) & (x < 0.5)),\n",
    "                 (-1, (x >= 0.5) & (x < 1.5)),\n",
    "                 (1, (x >= 1.5) & (x < 2)))\n",
    "fs = sp.fourier_series(f, (x, 0, 2)).truncate(5)\n",
    "fs"
   ]
  },
  {
   "cell_type": "markdown",
   "id": "882613b4",
   "metadata": {},
   "source": [
    "A seguir vemos um exemplo da representação das linhas espectrais de amplitude e de fase de uma série de Fourier com cinco termos que aproxima a onda quadrada do Exemplo 1."
   ]
  },
  {
   "cell_type": "code",
   "execution_count": 4,
   "id": "627fd7cd-acd6-4cc0-a5ae-edecbeb9753e",
   "metadata": {},
   "outputs": [
    {
     "data": {
      "image/png": "[encoded data removed]",
      "text/plain": [
       "<Figure size 1000x200 with 2 Axes>"
      ]
     },
     "metadata": {},
     "output_type": "display_data"
    }
   ],
   "source": [
    "frequencias = np.array([1, 3, 5, 7, 9])\n",
    "amplitudes = 4 / (frequencias * np.pi)\n",
    "fases = np.array([0, np.pi, 0, np.pi, 0])\n",
    "\n",
    "\n",
    "fig, (ax1, ax2) = plt.subplots(1, 2, figsize=(10, 2))\n",
    "\n",
    "ax1.stem(frequencias , amplitudes,markerfmt=\".\", basefmt=\":\")\n",
    "ax1.set_title('Diagrama Amplitude-Frequência')\n",
    "ax1.set_xlabel('Frequência (múltiplo de $\\\\pi$ rad/s)')\n",
    "ax1.set_ylabel('Amplitude')\n",
    "ax1.set_xticks(frequencias)\n",
    "ax1.set_xticklabels([f'${n}\\\\pi$' for n in frequencias])\n",
    "ax1.grid()\n",
    "\n",
    "ax2.stem(frequencias, fases,markerfmt=\".\", basefmt=\":\")\n",
    "ax2.set_title('Diagrama Fase-Frequência')\n",
    "ax2.set_xlabel('Frequência (múltiplo de $\\\\pi$ rad/s)')\n",
    "ax2.set_ylabel('Fase (radianos)')\n",
    "ax2.set_xticks(frequencias)\n",
    "ax2.set_xticklabels([f'${n}\\\\pi$' for n in frequencias])\n",
    "ax2.set_yticks([0, np.pi])\n",
    "ax2.set_ylim(-0.2, np.pi +1)\n",
    "ax2.set_yticklabels(['$0$', '$\\\\pi$'])\n",
    "ax2.grid()\n",
    "\n",
    "plt.show()"
   ]
  },
  {
   "cell_type": "markdown",
   "id": "9a796f71",
   "metadata": {},
   "source": [
    "**Exercício 1:**\n",
    "Um sinal formado por 3 ondas senoidais com frequências de 1 Hz, 4 Hz e 7 Hz, amplitudes 3, 1 e 0.5 e todos ângulos de fase iguais a zero, para uma taxa de amostragem de 100 Hz, tem a aparência do primeiro gráfico a seguir. O seu diagrama de linhas espectrais de amplitudes é mostrado no segundo gráfico, na sequência. O diagrama de linhas de fase não é mostrado pois os ângulos são todos iguais a zero.\n",
    "\n",
    "\n",
    "\n"
   ]
  },
  {
   "cell_type": "markdown",
   "id": "4953053b",
   "metadata": {},
   "source": [
    "Com base no exemplo dado, recrie o sinal cujo diagrama de linhas espectrais de amplitudes é mostrado na sequência. Considere novamente os ângulos de fase todos iguais a zero e uma taxa de amostragem de 100 Hz."
   ]
  },
  {
   "cell_type": "code",
   "execution_count": 11,
   "id": "2b52c540",
   "metadata": {},
   "outputs": [
    {
     "data": {
      "image/png": "[encoded data removed]",
      "text/plain": [
       "<Figure size 1000x200 with 2 Axes>"
      ]
     },
     "metadata": {},
     "output_type": "display_data"
    }
   ],
   "source": [
    "sinal = lambda A, w, t: A*np.sin(2*np.pi*w*t)\n",
    "t = np.linspace(0,1,100)\n",
    "x = sinal(3,1,t)+sinal(1,4,t)+sinal(0.5,7,t)\n",
    "\n",
    "freq = np.array([1, 4, 7])\n",
    "amp = np.array([3, 1, 0.5])\n",
    "\n",
    "fig, (ax1, ax2) = plt.subplots(1, 2, figsize=(10, 2))\n",
    "ax1.plot(t,x)\n",
    "ax1.grid()\n",
    "ax2.stem(freq , amp, markerfmt=\" \", basefmt=\"-\")\n",
    "ax2.grid()\n",
    "\n",
    "plt.show()"
   ]
  },
  {
   "cell_type": "markdown",
   "id": "368f445d",
   "metadata": {},
   "source": [
    "Agora, com base no exemplo acima, recrie o sinal cujo diagrama de linhas espectrais de amplitudes é mostrado abaixo:"
   ]
  },
  {
   "cell_type": "markdown",
   "id": "cf702d3d",
   "metadata": {},
   "source": [
    "<img src=\"https://github.com/tiagoburiol/MatComp_IV/blob/main/imagens/fig03_1.png?raw=true\" width=\"300\" align=\"left\">"
   ]
  },
  {
   "cell_type": "code",
   "execution_count": null,
   "id": "cada24a1-a386-4fff-b863-e978430d3558",
   "metadata": {},
   "outputs": [],
   "source": []
  },
  {
   "cell_type": "markdown",
   "id": "8d6223e3",
   "metadata": {},
   "source": [
    "**Exercício 2:** A série de Fourier da onda quadrada \n",
    "$$\n",
    "f(t)=\\left\\{\\begin{array}{cl}\n",
    "-1, & -\\frac{T}{2}<t<0 \\\\\n",
    "1, & 0<t<\\frac{T}{2}\n",
    "\\end{array}\\right.\n",
    "$$\n",
    "\n",
    "é dada por \n",
    "\n",
    "$$\n",
    "f(t)=\\frac{4}{\\pi} \\sum_{n=\\text { impar }}^{\\infty} \\frac{1}{n} \\sin \\left(n \\omega_0 t\\right)\n",
    "$$\n",
    "\n",
    "e sua amplitude e fase são dadas por\n",
    "\n",
    "$$\n",
    "A_n=\\left|b_n\\right|=\\left\\{\\begin{array}{ll}\n",
    "\\frac{4}{n \\pi}, & n \\text { impar, } \\\\\n",
    "0, & n \\text { par, }\n",
    "\\end{array} \n",
    "\\text {e}\n",
    "\\quad \\phi_n=-\\tan ^{-1}\\left(\\frac{b_n}{a_n}\\right)= \\begin{cases}-\\frac{\\pi}{2}, & n \\text { impar } \\\\\n",
    "0, & n \\text { par. }\\end{cases}\\right.\n",
    "$$\n",
    "\n",
    "Faça o gráfico da onda quadrada, a aproximação por série de fourier com cinco  termos e os diagramas de amplitude e fase. "
   ]
  },
  {
   "cell_type": "code",
   "execution_count": null,
   "id": "a8922d39",
   "metadata": {},
   "outputs": [],
   "source": []
  },
  {
   "cell_type": "code",
   "execution_count": null,
   "id": "d8833e1f-5f6d-46b2-8705-7e6223b2305e",
   "metadata": {},
   "outputs": [],
   "source": []
  },
  {
   "cell_type": "code",
   "execution_count": null,
   "id": "d76729f8-a1dd-4a38-b160-8d7ec7063b18",
   "metadata": {},
   "outputs": [],
   "source": []
  },
  {
   "cell_type": "markdown",
   "id": "49e5fe5c",
   "metadata": {},
   "source": [
    "**Exercício 3:** (Desafio!) Obter uma série de Fourier para aproximar a onda mostrada abaixo e representar os espectros de amplitude-frequência e fase-frequência da série obtida.\n",
    "\n",
    "Dica: Use as expressões a $A_n=\\sqrt{a_n^2+b_n^2}$ e $\\phi_n=-\\tan ^{-1}\\left(\\frac{b_n}{a_n}\\right)\n",
    "$ para obter a amplitude e fase para cada valor de $n$ (múltiplo inteiro da frequência natural). Plote os gráficos $An \\times n$ e $\\phi_n \\times n$.\n"
   ]
  },
  {
   "cell_type": "code",
   "execution_count": null,
   "id": "65683f44-2d20-4a08-964e-1e538f8657cf",
   "metadata": {},
   "outputs": [],
   "source": []
  },
  {
   "cell_type": "markdown",
   "id": "d9a207fc-8da9-4afe-b0b4-bd024309724e",
   "metadata": {},
   "source": [
    "**Exercício 4:** Seja a função $f$ definida por\n",
    "\n",
    "$$f(x)=\\begin{cases} \n",
    "    -x,\\,\\,\\, -\\pi \\leq x<  0\\\\\n",
    "     \\,\\,\\,\\,x,\\,\\,\\,\\,\\,\\,\\, 0 < x\\leq \\pi\\\\\n",
    "\\end{cases}$$\n",
    "\n",
    "$$f(x+2\\pi)=f(x)$$\n",
    "\n",
    "Podemos plotar essa função como é mostrado abaixo."
   ]
  },
  {
   "cell_type": "code",
   "execution_count": 18,
   "id": "57b55d4b-e30c-4131-9d74-ed7dfd1182ae",
   "metadata": {},
   "outputs": [
    {
     "data": {
      "image/png": "[encoded data removed]",
      "text/plain": [
       "<Figure size 400x200 with 1 Axes>"
      ]
     },
     "metadata": {},
     "output_type": "display_data"
    }
   ],
   "source": [
    "import numpy as np\n",
    "import matplotlib.pyplot as plt\n",
    "def f(x):\n",
    "    if abs(x)>np.pi: \n",
    "        return f(abs(x)-2*np.pi)\n",
    "    if (x>0)&(x<np.pi): \n",
    "        return x\n",
    "    if (x<0)&(x>-np.pi): \n",
    "        return -x\n",
    "    \n",
    "x = np.linspace(-5,8,200)\n",
    "plt.figure(figsize = (4, 2))\n",
    "plt.plot(x,[f(xi) for xi in x])\n",
    "plt.grid()"
   ]
  },
  {
   "cell_type": "markdown",
   "id": "edbb821c-d0f0-4664-bfda-b13081380549",
   "metadata": {},
   "source": [
    "Para essa função, o coeficiente $A_0$é obtido fazendo\n",
    "\n",
    "$${A_0} = \\frac{1}{\\pi} \\int_{-\\pi}^\\pi f(x)dx = \\frac{1}{\\pi} \\int_{-\\pi}^0 -x dx + \\frac{1}{\\pi} \\int_{0}^{\\pi} x dx = \\frac{\\pi^2}{\\pi}=\\pi$$\n",
    "\n",
    "Os coeficientes $A_n$ são obtidos fazendo\n",
    "$${A_n} = \\frac{1}{\\pi} \\int_{-\\pi}^\\pi f(x) cos(nx)dx  = \\frac{1}{\\pi} \\int_{-\\pi}^0 -xcos(nx) dx + \\frac{1}{\\pi} \\int_{0}^{\\pi} xcos(nx) dx  =$$\n",
    "$$=\\frac{2\\pi sen(n \\pi)}{n\\pi} + \\frac{2 cos(n \\pi)}{n^2\\pi}-\\frac{2}{n^2\\pi}$$\n",
    "\n",
    "Observe que para $n=1,2,3,..$ tem-se que $sen(n \\pi)=0$ e para $n=2,4,6,...$ tem-se que $cos(n \\pi)=1$.\n",
    "\n",
    "Os coeficientes $B_n$ são obtidos fazendo\n",
    "$${B_n} = \\frac{1}{\\pi} \\int_{-\\pi}^\\pi f(x) sen(nx)dx  = \\frac{1}{\\pi} \\int_{-\\pi}^0 -xsen(nx) dx + \\frac{1}{\\pi} \\int_{0}^{\\pi} xsen(nx) dx  =$$\n",
    "$$=-\\frac{\\pi cos(n \\pi)}{n\\pi} + \\frac{sen(n \\pi)}{n^2\\pi}+\\frac{\\pi cos(n) \\pi}{n\\pi} -\\frac{sen(n \\pi)}{n^2\\pi} = 0$$\n",
    "\n",
    "Vamos usar Sympy para calcular as integrais e desenvolver a série:"
   ]
  },
  {
   "cell_type": "code",
   "execution_count": 19,
   "id": "9bf0c30e-696c-406a-a754-5c0f6ab8a020",
   "metadata": {},
   "outputs": [],
   "source": [
    "import sympy as sp\n",
    "x = sp.symbols('x')\n",
    "n = sp.symbols('n', integer=True, positive=True)"
   ]
  },
  {
   "cell_type": "code",
   "execution_count": 20,
   "id": "2749acfc-6f46-4837-b900-ca6ec0f0c49f",
   "metadata": {},
   "outputs": [
    {
     "data": {
      "text/latex": [
       "$\\displaystyle \\pi$"
      ],
      "text/plain": [
       "pi"
      ]
     },
     "execution_count": 20,
     "metadata": {},
     "output_type": "execute_result"
    }
   ],
   "source": [
    "A0 =(1/sp.pi)*(sp.integrate(-x, (x,-sp.pi, 0)) + sp.integrate(x, (x,0, sp.pi)))\n",
    "A0"
   ]
  },
  {
   "cell_type": "code",
   "execution_count": 21,
   "id": "b1dbb4b9-e24d-4e1f-86ff-9efd45f693a6",
   "metadata": {},
   "outputs": [
    {
     "data": {
      "text/latex": [
       "$\\displaystyle \\frac{\\frac{2 \\left(-1\\right)^{n}}{n^{2}} - \\frac{2}{n^{2}}}{\\pi}$"
      ],
      "text/plain": [
       "(2*(-1)**n/n**2 - 2/n**2)/pi"
      ]
     },
     "execution_count": 21,
     "metadata": {},
     "output_type": "execute_result"
    }
   ],
   "source": [
    "#n>0\n",
    "An=(1/sp.pi)*(sp.integrate(-x*sp.cos(n*x), (x,-sp.pi, 0))+sp.integrate(x*sp.cos(n*x), (x, 0,sp.pi)))\n",
    "An"
   ]
  },
  {
   "cell_type": "code",
   "execution_count": 22,
   "id": "192c96bd-e68d-426c-af6d-6ccd115b5bbc",
   "metadata": {},
   "outputs": [
    {
     "data": {
      "text/latex": [
       "$\\displaystyle 0$"
      ],
      "text/plain": [
       "0"
      ]
     },
     "execution_count": 22,
     "metadata": {},
     "output_type": "execute_result"
    }
   ],
   "source": [
    "#n>0\n",
    "Bn=(1/sp.pi)*(sp.integrate(x*sp.sin(n*x), (x,-sp.pi, 0))+sp.integrate(-x*sp.sin(n*x), (x,-sp.pi, 0)))\n",
    "Bn"
   ]
  },
  {
   "cell_type": "code",
   "execution_count": 23,
   "id": "1be9d96e-da03-428c-aabe-28e88c55e70a",
   "metadata": {},
   "outputs": [
    {
     "data": {
      "text/latex": [
       "$\\displaystyle - \\frac{4 \\cos{\\left(x \\right)}}{\\pi} - \\frac{4 \\cos{\\left(3 x \\right)}}{9 \\pi} - \\frac{4 \\cos{\\left(5 x \\right)}}{25 \\pi} - \\frac{4 \\cos{\\left(7 x \\right)}}{49 \\pi} - \\frac{4 \\cos{\\left(9 x \\right)}}{81 \\pi} + \\frac{\\pi}{2}$"
      ],
      "text/plain": [
       "-4*cos(x)/pi - 4*cos(3*x)/(9*pi) - 4*cos(5*x)/(25*pi) - 4*cos(7*x)/(49*pi) - 4*cos(9*x)/(81*pi) + pi/2"
      ]
     },
     "execution_count": 23,
     "metadata": {},
     "output_type": "execute_result"
    }
   ],
   "source": [
    "serie=sp.pi/2\n",
    "for k in range(1,10):\n",
    "    termo = (An*sp.cos(n*x)).subs(n,k)\n",
    "    serie = serie + termo\n",
    "serie"
   ]
  },
  {
   "cell_type": "markdown",
   "id": "e850fa77-8b51-48c7-abb9-718d3e601ef4",
   "metadata": {},
   "source": [
    "Essa série de Fourier pode ser escrita como \n",
    "\n",
    "$$f(x)= \\frac{\\pi}{2} + \\sum_{n=1}^{\\infty} \\left( \\frac{2\\pi sen(n \\pi)}{n \\pi} + \\frac{2 cos(n \\pi)}{n^2 \\pi}-\\frac{2}{n^2 \\pi} \\right)cos(nx)$$\n",
    "\n",
    "ou \n",
    "\n",
    "$$f(x)= \\frac{\\pi}{2} + \\sum_{n=0}^{\\infty} \\left( -\\frac{4}{(2n+1)^2 \\pi} \\right)cos((2n+1)x)$$\n",
    "\n",
    "Trace os primeiros cinco termos junto à soma. Construa as linhas espectrais de amplitude e de fase. "
   ]
  },
  {
   "cell_type": "code",
   "execution_count": 24,
   "id": "a7edb33b-cb98-4f40-ad1c-796f43678419",
   "metadata": {},
   "outputs": [
    {
     "data": {
      "text/latex": [
       "$\\displaystyle - \\frac{4 \\cos{\\left(x \\right)}}{\\pi} - \\frac{4 \\cos{\\left(3 x \\right)}}{9 \\pi} - \\frac{4 \\cos{\\left(5 x \\right)}}{25 \\pi} - \\frac{4 \\cos{\\left(7 x \\right)}}{49 \\pi} - \\frac{4 \\cos{\\left(9 x \\right)}}{81 \\pi} + \\pi$"
      ],
      "text/plain": [
       "-4*cos(x)/pi - 4*cos(3*x)/(9*pi) - 4*cos(5*x)/(25*pi) - 4*cos(7*x)/(49*pi) - 4*cos(9*x)/(81*pi) + pi"
      ]
     },
     "metadata": {},
     "output_type": "display_data"
    }
   ],
   "source": [
    "serie=0\n",
    "for n in range(10):\n",
    "    I1 = sp.integrate(-x*sp.cos(n*x), (x,-sp.pi, 0))\n",
    "    I2 = sp.integrate(x*sp.cos(n*x), (x, 0, sp.pi))\n",
    "    serie = serie+sp.cos(n*x)*(I1+I2)/sp.pi\n",
    "display(serie)"
   ]
  },
  {
   "cell_type": "code",
   "execution_count": 25,
   "id": "32acb4c9-df69-4ee5-a1ea-b58f7c1d4bfd",
   "metadata": {},
   "outputs": [
    {
     "data": {
      "text/plain": [
       "array([1, 3, 5, 7, 9])"
      ]
     },
     "execution_count": 25,
     "metadata": {},
     "output_type": "execute_result"
    }
   ],
   "source": [
    "freq = np.arange(1,10,2)\n",
    "freq"
   ]
  },
  {
   "cell_type": "code",
   "execution_count": 26,
   "id": "711b60df-ed75-4d0a-9c0a-5e15ebf9b0c4",
   "metadata": {},
   "outputs": [
    {
     "data": {
      "image/png": "[encoded data removed]",
      "text/plain": [
       "<Figure size 400x200 with 1 Axes>"
      ]
     },
     "metadata": {},
     "output_type": "display_data"
    }
   ],
   "source": [
    "plt.figure(figsize = (4, 2))\n",
    "plt.stem(freq , abs(4/(freq)**2/np.pi), \n",
    "         markerfmt=\" \", basefmt=\"-\")\n",
    "\n",
    "plt.xlabel( 'Frequência' ) \n",
    "plt.ylabel( 'Amplitude' )\n",
    "plt.grid()\n",
    "plt.show()"
   ]
  },
  {
   "cell_type": "markdown",
   "id": "240c7cd0",
   "metadata": {},
   "source": [
    "________________________________________\n",
    "\n",
    "**Comentários finais**\n",
    "\n",
    "Embora a série de Fourier seja uma ferramenta útil na investigação do espectro de uma função periódica, há muitas ondas que não se repetem regularmente. A transformada de Fourier é a principal ferramenta disponível para analisar ondas não periódicas. Ela pode ser deduzida da forma exponencial (ou complexa) da série de Fourier como será apresentado a seguir.\n"
   ]
  },
  {
   "cell_type": "markdown",
   "id": "36242e7f",
   "metadata": {},
   "source": [
    "Da identidade de Euler, o seno e o cosseno podem ser expressos na forma exponencial como:\n",
    "\n",
    "\n",
    "$$\n",
    "\\begin{aligned}\n",
    "& \\operatorname{sen} x=\\frac{e^{i x}-e^{-i x}}{2 i} \\\\\n",
    "& \\cos x=\\frac{e^{i x}+e^{-i x}}{2}\n",
    "\\end{aligned}\n",
    "$$\n",
    "\n",
    "o que permite expressar a série de Fourier em termos das funções exponenciais como\n",
    "\n",
    "$$\n",
    "f(t)=\\sum_{k=-\\infty}^{\\infty} \\tilde{c}_k e^{i k \\omega_0 t}\n",
    "$$\n",
    "onde $i=\\sqrt{-1} \\mathrm{e}$\n",
    "$$\n",
    "\\tilde{c}_k=\\frac{1}{T} \\int_{-T / 2}^{T / 2} f(t) e^{-i k \\omega_0 t} d t\n",
    "$$\n",
    "\n",
    "e $ \\omega_0=2 \\pi / T \\text { e } k=0,1,2, \\ldots$\n",
    "\n",
    "Esta é a **forma complexa da série de Fourier**. A dedução completa pode ser encontrada em (<a href=\"https://integrada.minhabiblioteca.com.br/reader/books/9788580555691/pageid/489\">Chapra e Canale,2016</a>).\n",
    "\n"
   ]
  },
  {
   "cell_type": "markdown",
   "id": "e6f012f5-5227-4175-9766-b1e72a78858d",
   "metadata": {},
   "source": [
    "### A transformada de Fourier"
   ]
  },
  {
   "cell_type": "markdown",
   "id": "6510b36c",
   "metadata": {},
   "source": [
    "A transição de uma função periódica para uma função não periódica pode ser feita\n",
    "permitindo-se que o período tenda a infinito. Em outras palavras, quando $T$ se torna infinito, a função nunca se repete e, assim, torna-se não periódica. Se for permitido que sso ocorra, pode ser demonstrado que a série de Fourier se reduz a\n",
    "\n",
    "$$\n",
    "f(t)=\\frac{1}{2 \\pi} \\int_{-\\infty}^{\\infty} F\\left(i \\omega_0\\right) e^{i k \\omega_0 t} d \\omega_0\n",
    "$$\n",
    "\n",
    "e os coeficientes se tornam uma função no contínuo da variável frequência $\\omega$, como em\n",
    "\n",
    "$$\n",
    "F\\left(\\omega\\right)=\\int_{-\\infty}^{\\infty} f(t) e^{-i k \\omega t} d t\n",
    "$$\n",
    "\n",
    "que é a chamada **transformada de Fourier de $f(t)$**. A expressão para $f(t)$ como integral de $F$ é a **transformada inversa de Fourier de $F\\left(\\omega\\right)$**. Então, o par permite transformar para a frente e para trás entre os domínios de tempo e frequência para um sinal não periódico.\n",
    "\n",
    "A distinção entre a série e a transformada de Fourier deve agora estar bem clara. A principal diferença é que cada uma se aplica a uma classe diferente de funções – a série, a formas de ondas periódicas, e a transformada, a formas não periódicas. Além dessa diferença principal, as duas abordagens diferem na forma como se movem entre os domínios de tempo e de frequência. A série de Fourier converte uma função definida no contínuo, periódica no domínio do tempo, para amplitudes no domínio de frequência, em frequências discretas. Em contraste, a transformada de Fourier converte uma função no contínuo no domínio do tempo em uma função no contínuo no domínio da frequência. Assim, o espectro de frequência discreto gerado pela série de Fourier é análogo ao espectro de frequência contínuo gerado pela transformada de Fourier (<a href=\"https://integrada.minhabiblioteca.com.br/reader/books/9788580555691/pageid/493\">Chapra e Canale,2016</a>)."
   ]
  },
  {
   "cell_type": "code",
   "execution_count": 21,
   "id": "49a629ce-c5c8-4128-9db4-e8e870dcecf4",
   "metadata": {},
   "outputs": [
    {
     "name": "stdout",
     "output_type": "stream",
     "text": [
      "Transformada de Fourier de:\n"
     ]
    },
    {
     "data": {
      "text/latex": [
       "$\\displaystyle f{\\left(t \\right)} = e^{- t^{2}}$"
      ],
      "text/plain": [
       "Eq(f(t), exp(-t**2))"
      ]
     },
     "metadata": {},
     "output_type": "display_data"
    },
    {
     "name": "stdout",
     "output_type": "stream",
     "text": [
      "é a função:\n"
     ]
    },
    {
     "data": {
      "text/latex": [
       "$\\displaystyle F{\\left(w \\right)} = \\sqrt{\\pi} e^{- \\pi^{2} w^{2}}$"
      ],
      "text/plain": [
       "Eq(F(w), sqrt(pi)*exp(-pi**2*w**2))"
      ]
     },
     "metadata": {},
     "output_type": "display_data"
    }
   ],
   "source": [
    "#from sympy import symbols, fourier_transform, exp, Function\n",
    "import sympy as sp\n",
    "\n",
    "t, w = sp.symbols(\"t, w\", real=True)\n",
    "f = sp.Function(\"f\")\n",
    "func = sp.exp(-t**2)\n",
    "F = sp.fourier_transform(func, t, w)\n",
    "\n",
    "print(\"Transformada de Fourier de:\")\n",
    "display(sp.Eq(f(t),func))\n",
    "print(\"é a função:\")\n",
    "display(sp.Eq(sp.Function(\"F\")(w),F))\n"
   ]
  },
  {
   "cell_type": "markdown",
   "id": "43d21886",
   "metadata": {},
   "source": [
    "Na prática, um sinal é raramente dado como uma função contínua mas sim como um conjunto discreto de dados. Mesmo quando um fenômento contínuo é estudado, os dados são coletados ou convertidos para uma forma discreta, muitas vezes digitalizada. Assim, usamos a versão discreta da transformadade Fourier como será apresentado na seção seguinte.\n",
    "\n"
   ]
  },
  {
   "cell_type": "markdown",
   "id": "bc642dda",
   "metadata": {},
   "source": [
    "## Referências\n",
    "\n",
    "CHAPRA, Steven, C. e Raymond P. CANALE. Métodos numéricos para engenharia . Disponível em: Minha Biblioteca, (7ª edição). Grupo A, 2016. \n",
    "\n",
    "KONG, Qingkai; SIAUW, Timmy; BAYEN, Alexandre M. Python Programming and Numerical Methods: A Guide For Engineers And Scientists. ed 1, Academic Press, 2021. \n",
    "\n",
    "SWANSON, Jez. An Interactive Introduction to Fourier Transforms. Disponível em: https://www.jezzamon.com/fourier/ Acessado em: 17 ago 2025."
   ]
  },
  {
   "cell_type": "code",
   "execution_count": null,
   "id": "6b3b1d6a-8f02-484b-8cbc-d8c195420bd4",
   "metadata": {},
   "outputs": [],
   "source": []
  }
 ],
 "metadata": {
  "kernelspec": {
   "display_name": "Python 3 (ipykernel)",
   "language": "python",
   "name": "python3"
  },
  "language_info": {
   "codemirror_mode": {
    "name": "ipython",
    "version": 3
   },
   "file_extension": ".py",
   "mimetype": "text/x-python",
   "name": "python",
   "nbconvert_exporter": "python",
   "pygments_lexer": "ipython3",
   "version": "3.12.4"
  }
 },
 "nbformat": 4,
 "nbformat_minor": 5
}
