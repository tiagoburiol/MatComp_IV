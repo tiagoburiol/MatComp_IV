{
 "cells": [
  {
   "cell_type": "markdown",
   "metadata": {},
   "source": [
    "## Equações diferenciais parciais elípticas: Equação de Poisson\n",
    "\n",
    "**Autor:** Tiago Buriol\n",
    "\n",
    "**Fonte:**\n",
    "Burden, Richard, L. et al. Análise Numérica - Tradução da 10ª edição norte-americana. Disponível em: Minha Biblioteca, (3rd edição). Cengage Learning Brasil, 2016.\n",
    "https://integrada.minhabiblioteca.com.br/reader/books/9788522123414/pageid/820"
   ]
  },
  {
   "cell_type": "markdown",
   "metadata": {},
   "source": [
    "Considere a equação de Poisson:\n",
    "\n",
    "$$\\nabla^2 u(x, y) \\equiv \\frac{\\partial^2 u}{\\partial x^2}(x, y)+\\frac{\\partial^2 u}{\\partial y^2}(x, y)=f(x, y)$$\n",
    "\n",
    "em $R=\\{(x, y) \\mid a<x<b, c<y<d\\}$, com $u(x, y)=g(x, y)$ para $(x, y) \\in S$, em que $S$ denota a fronteira de $R$. Se $f$ e $g$ forem continuas em seu dominio, então existe uma única solução para esta equação."
   ]
  },
  {
   "cell_type": "markdown",
   "metadata": {},
   "source": [
    "**Escolhendo a malha**\n",
    "\n",
    "A primeira etapa para a resolução numérica da equação de Poisson pelo método das diferenças finitas nesse domínio é gerar uma malha retangular discretizando a região $R$. Para isso podemos escolher o número de subintervalos $m$ e $n$, nas direções $x$ e $y$, e obter s tamanhos dos passos em cada direção fazendo $h=(b-a) / n$ e $k=(d-c) / m$. Então dividimos o intervalo $[a,b]$ em $n$ partes iguais de largura $h$ e o intervalo $[c,d]$ em $m$ partes iguais de tamanho $k$"
   ]
  },
  {
   "cell_type": "markdown",
   "metadata": {},
   "source": [
    "**Exemplo 1:** Discretização de uma região retangular.\n",
    "\n",
    "Considere a região $R=\\{(x, y) \\mid -1<x<3, -2<y<4\\}$ e os passos $h=0.5$ e $k=0.6$ nas direções $x$ e $y$ respectivamente. Obtenha as coodenadas dos pontos da malha retangular.\n",
    "\n",
    "*Solução:* \n",
    "A malha será como uma grade no retângulo $R$ formada por linhas verticais e horizontais contendo os pontos com coordenadas $\\left(x_i, y_j\\right)$, em que\n",
    "\n",
    "$$\n",
    "x_i=a+i h \\text {, para cada } i=0,1, \\ldots, n \\quad \\text { e } y_i=c+j k \\text {, para cada } j=0,1, \\ldots, m \\text {. }\n",
    "$$\n",
    "\n",
    "com $a=-1$, $b=3$, $c=-2$, $d=4$, $n=\\frac{3-(-1)}{0.5}=8$ e $m=\\frac{4-(-2)}{0.6}=10$.\n",
    "\n",
    "Em Python, podemos obter as coordenadas dos pontos como é mostrado a seguir: "
   ]
  },
  {
   "cell_type": "code",
   "execution_count": 130,
   "metadata": {
    "scrolled": true
   },
   "outputs": [
    {
     "name": "stdout",
     "output_type": "stream",
     "text": [
      "[(-1.0, 3.0), (-1.0, 3.6), (-1.0, 4.2), (-1.0, 4.8), (-1.0, 5.4), (-1.0, 6.0), (-1.0, 6.6), (-1.0, 7.2), (-1.0, 7.8), (-1.0, 8.399999999999999), (-1.0, 9.0), (-0.5, 3.0), (-0.5, 3.6), (-0.5, 4.2), (-0.5, 4.8), (-0.5, 5.4), (-0.5, 6.0), (-0.5, 6.6), (-0.5, 7.2), (-0.5, 7.8), (-0.5, 8.399999999999999), (-0.5, 9.0), (0.0, 3.0), (0.0, 3.6), (0.0, 4.2), (0.0, 4.8), (0.0, 5.4), (0.0, 6.0), (0.0, 6.6), (0.0, 7.2), (0.0, 7.8), (0.0, 8.399999999999999), (0.0, 9.0), (0.5, 3.0), (0.5, 3.6), (0.5, 4.2), (0.5, 4.8), (0.5, 5.4), (0.5, 6.0), (0.5, 6.6), (0.5, 7.2), (0.5, 7.8), (0.5, 8.399999999999999), (0.5, 9.0), (1.0, 3.0), (1.0, 3.6), (1.0, 4.2), (1.0, 4.8), (1.0, 5.4), (1.0, 6.0), (1.0, 6.6), (1.0, 7.2), (1.0, 7.8), (1.0, 8.399999999999999), (1.0, 9.0), (1.5, 3.0), (1.5, 3.6), (1.5, 4.2), (1.5, 4.8), (1.5, 5.4), (1.5, 6.0), (1.5, 6.6), (1.5, 7.2), (1.5, 7.8), (1.5, 8.399999999999999), (1.5, 9.0), (2.0, 3.0), (2.0, 3.6), (2.0, 4.2), (2.0, 4.8), (2.0, 5.4), (2.0, 6.0), (2.0, 6.6), (2.0, 7.2), (2.0, 7.8), (2.0, 8.399999999999999), (2.0, 9.0), (2.5, 3.0), (2.5, 3.6), (2.5, 4.2), (2.5, 4.8), (2.5, 5.4), (2.5, 6.0), (2.5, 6.6), (2.5, 7.2), (2.5, 7.8), (2.5, 8.399999999999999), (2.5, 9.0), (3.0, 3.0), (3.0, 3.6), (3.0, 4.2), (3.0, 4.8), (3.0, 5.4), (3.0, 6.0), (3.0, 6.6), (3.0, 7.2), (3.0, 7.8), (3.0, 8.399999999999999), (3.0, 9.0)]\n"
     ]
    }
   ],
   "source": [
    "a=-1; b=3; h = 0.5\n",
    "c=-2; d=4; k = 0.6\n",
    "\n",
    "n = int((b-a)/h)\n",
    "m = int((d-c)/k)\n",
    "pontos = []\n",
    "for i in range(n+1):\n",
    "    for j in range(m+1):\n",
    "        x = a + i*h\n",
    "        y = b + j*k\n",
    "        pontos.append((x,y))\n",
    "print(pontos)"
   ]
  },
  {
   "cell_type": "code",
   "execution_count": 138,
   "metadata": {},
   "outputs": [
    {
     "data": {
      "image/png": "[encoded data removed]",
      "text/plain": [
       "<Figure size 432x288 with 1 Axes>"
      ]
     },
     "metadata": {
      "needs_background": "light"
     },
     "output_type": "display_data"
    }
   ],
   "source": [
    "import matplotlib.pyplot as plt\n",
    "for p in pontos:\n",
    "    plt.plot(p[0],p[1],'.')\n",
    "    plt.gca().set_aspect('equal')"
   ]
  },
  {
   "cell_type": "markdown",
   "metadata": {},
   "source": [
    "Ou, de outra forma, usando a função `linspace`o intervalo $[a,b]$ deve ser dividido em $n+1$ pontos igualmente espaçados que darão as coordenadas $x_i$, $i=0,...,n$ dos pontos da malha. Analogamente,  o intervalo $[c,d]$ deve ser dividido em $m+1$ pontos igualmente espaçados que darão as coordenadas $y_j$, $j=0,...,m$. A malha então será composta por $9 \\times 11$ pontos. Então, com a função `mesgrid`criamos matrizes com as coordenadas $x$ e $y$, respectivamente, de cada ponto. Esse método é muito conveniente para métodos numéricos.\n"
   ]
  },
  {
   "cell_type": "code",
   "execution_count": 139,
   "metadata": {},
   "outputs": [],
   "source": [
    "import numpy as np\n",
    "x = np.linspace(a,b,n+1)\n",
    "y = np.linspace(c,d,m+1)\n",
    "xi, yj = np.meshgrid(x,y)"
   ]
  },
  {
   "cell_type": "code",
   "execution_count": 140,
   "metadata": {},
   "outputs": [
    {
     "name": "stdout",
     "output_type": "stream",
     "text": [
      "[[-1.  -0.5  0.   0.5  1.   1.5  2.   2.5  3. ]\n",
      " [-1.  -0.5  0.   0.5  1.   1.5  2.   2.5  3. ]\n",
      " [-1.  -0.5  0.   0.5  1.   1.5  2.   2.5  3. ]\n",
      " [-1.  -0.5  0.   0.5  1.   1.5  2.   2.5  3. ]\n",
      " [-1.  -0.5  0.   0.5  1.   1.5  2.   2.5  3. ]\n",
      " [-1.  -0.5  0.   0.5  1.   1.5  2.   2.5  3. ]\n",
      " [-1.  -0.5  0.   0.5  1.   1.5  2.   2.5  3. ]\n",
      " [-1.  -0.5  0.   0.5  1.   1.5  2.   2.5  3. ]\n",
      " [-1.  -0.5  0.   0.5  1.   1.5  2.   2.5  3. ]\n",
      " [-1.  -0.5  0.   0.5  1.   1.5  2.   2.5  3. ]\n",
      " [-1.  -0.5  0.   0.5  1.   1.5  2.   2.5  3. ]]\n",
      "[[-2.  -2.  -2.  -2.  -2.  -2.  -2.  -2.  -2. ]\n",
      " [-1.4 -1.4 -1.4 -1.4 -1.4 -1.4 -1.4 -1.4 -1.4]\n",
      " [-0.8 -0.8 -0.8 -0.8 -0.8 -0.8 -0.8 -0.8 -0.8]\n",
      " [-0.2 -0.2 -0.2 -0.2 -0.2 -0.2 -0.2 -0.2 -0.2]\n",
      " [ 0.4  0.4  0.4  0.4  0.4  0.4  0.4  0.4  0.4]\n",
      " [ 1.   1.   1.   1.   1.   1.   1.   1.   1. ]\n",
      " [ 1.6  1.6  1.6  1.6  1.6  1.6  1.6  1.6  1.6]\n",
      " [ 2.2  2.2  2.2  2.2  2.2  2.2  2.2  2.2  2.2]\n",
      " [ 2.8  2.8  2.8  2.8  2.8  2.8  2.8  2.8  2.8]\n",
      " [ 3.4  3.4  3.4  3.4  3.4  3.4  3.4  3.4  3.4]\n",
      " [ 4.   4.   4.   4.   4.   4.   4.   4.   4. ]]\n"
     ]
    }
   ],
   "source": [
    "print(xi)\n",
    "print(yj)"
   ]
  },
  {
   "cell_type": "markdown",
   "metadata": {},
   "source": [
    "Podemos obter uma visualização da malha fazendo:"
   ]
  },
  {
   "cell_type": "code",
   "execution_count": 141,
   "metadata": {},
   "outputs": [
    {
     "data": {
      "image/png": "[encoded data removed]",
      "text/plain": [
       "<Figure size 432x288 with 1 Axes>"
      ]
     },
     "metadata": {
      "needs_background": "light"
     },
     "output_type": "display_data"
    }
   ],
   "source": [
    "import matplotlib.pyplot as plt\n",
    "plt.plot(xi,yj,'b.')\n",
    "plt.gca().set_aspect('equal')"
   ]
  },
  {
   "cell_type": "markdown",
   "metadata": {},
   "source": [
    "**Obtendo as equações de diferenças finitas**"
   ]
  },
  {
   "cell_type": "markdown",
   "metadata": {},
   "source": [
    "Usamos a série de Taylor na variável $x$ em torno de $x_i$ para gerar a fórmula de diferenças centradas\n",
    "\n",
    "$$\n",
    "\\frac{\\partial^2 u}{\\partial x^2}\\left(x_i, y_j\\right) \\approx\n",
    "\\frac{u\\left(x_{i+1}, y_j\\right)-2 u\\left(x_i, y_j\\right)+u\\left(x_{i-1}, y_j\\right)}{h^2}\n",
    "$$\n",
    "\n",
    "e na variável $y$ em torno de $y_j$ para gerar a fórmula \n",
    "\n",
    "$$\n",
    "\\frac{\\partial^2 u}{\\partial y^2}\\left(x_i, y_j\\right)\n",
    "\\approx\n",
    "\\frac{u\\left(x_i, y_{j+1}\\right)-2 u\\left(x_i, y_j\\right)+u\\left(x_i, y_{j-1}\\right)}{k^2}\n",
    "$$\n",
    "\n",
    "\n",
    "A utilização destas fórmulas nos permite expressar a equação de Poisson \n",
    "\n",
    "$$\\frac{\\partial^2 u}{\\partial x^2}+\\frac{\\partial^2 u}{\\partial y^2}=f$$\n",
    "\n",
    "\n",
    "nos pontos $\\left(x_i, y_j\\right)$ como\n",
    "\n",
    "$$\n",
    "\\frac{u_{i-1,j}-2 u_{i,j}+u_{i+1,j}}{h^2}+\n",
    "\\frac{u_{i,j-1}-2 u_{i,j}+u_{i,j+1}}{k^2}\n",
    "\\approx\n",
    "f_{i,j}\n",
    "$$\n",
    "\n",
    "\n",
    "em que $u_{i,j}=u(x_i, y_j)$ e $f_{i,j}= f(x_i, y_j)$. Com $(x_i,y_i)$, $i=0,...,n$ e $j=0,...,m$ sendo as coordenadas dos pontos da malha.\n",
    "\n",
    "\n",
    "Note que, conhecidas as condições de contorno, ou seja os valores para $u(x_0,y_j)$, $u(x_n,y_j)$, $u(x_i,y_0)$ e $u(x_i,y_m)$, as equações para cada ponto interno da malha fornecem um sistema linear cuja solução fornece a resolução numérica do problema.\n",
    "\n",
    "Note também que cada equação envolve o valor da função em um ponto interno da malha e os quatro pontos vizinhos a ele, em cima, em baixo, à direita e à esquerda."
   ]
  },
  {
   "cell_type": "markdown",
   "metadata": {},
   "source": [
    "<img src=\"https://github.com/tiagoburiol/MatComp_IV/blob/main/imagens/stenil.png?raw=true\" width=\"380\">"
   ]
  },
  {
   "cell_type": "markdown",
   "metadata": {},
   "source": [
    "Desprezando o erro, multiplicando a equação por $h^2$ e rearranjando os termos, obtemos a equação de diferenças finitas, em que $w$ é a aproximação para $u$, e que pode ser expressa como:\n",
    "\n",
    "\n",
    "$$(w_{i-1,j}+w_{i+1,j})-2w_{i,j} \\left[\\left(  \\frac{h}{k}\\right)^2+1\\right]+ \\left( \\frac{h}{k}\\right)^2(w_{i,j-1}+w_{i,j+1}) = h^2 f_{i,j}$$\n",
    "\n",
    "Usando condições de contorno nos pontos da fronteira da malha obtemos um sistema linear $(n-1)(m-1) \\times(n-1)$ $(m-1)$ com as incógnitas sendo as aproximações para $u_{i, j}$ nos pontos interiores da malha."
   ]
  },
  {
   "cell_type": "markdown",
   "metadata": {},
   "source": [
    "**Exemplo 2:** (https://integrada.minhabiblioteca.com.br/reader/books/9788522123414/pageid/823)\n",
    "Determine a distribuição de calor estacionária em uma placa de metal fina com dimensões $0,5 \\mathrm{~m}$ por $0,5 \\mathrm{~m}$ usando $n=m=4$. Dois lados adjacentes são mantidos a $0^{\\circ} \\mathrm{C}$ e o calor nos outros lados aumenta linearmente de $0{ }^{\\circ} \\mathrm{C}$ em um canto a $100{ }^{\\circ} \\mathrm{C}$ onde os lados se encontram. Coloque os lados com condições de contorno nulas ao longo dos eixos $x$ e $y$.\n",
    "\n",
    "*Solução:* Nesse caso o problema será expresso como\n",
    "\n",
    "$$\n",
    "\\frac{\\partial^2 u}{\\partial x^2}(x, y)+\\frac{\\partial^2 u}{\\partial y^2}(x, y)=0,\n",
    "$$\n",
    "\n",
    "para $(x, y)$ no conjunto $R=\\{(x, y) \\mid 0<x<0,5,0<y<0,5\\}$, com as condições de contorno\n",
    "\n",
    "$$\n",
    "u(0, y)=0, u(x, 0)=0, u(x, 0,5)=200 x \\text { e } u(0,5, y)=200 y .\n",
    "$$\n",
    "\n",
    "Se $n=m=4$  a equação diferença  é\n",
    "\n",
    "$$w_{i-1,j}+w_{i+1,j}-4w_{i,j}+ w_{i,j-1}+w_{i,j+1} = 0$$\n",
    "\n",
    "para cada $i=1,2,3$ e $j=1,2,3$."
   ]
  },
  {
   "cell_type": "markdown",
   "metadata": {},
   "source": [
    "É conveniente numerarmos os pontos internos da grade como é mostrado na figura abaixo para reduzir a necessidade de subíndice duplo"
   ]
  },
  {
   "cell_type": "markdown",
   "metadata": {},
   "source": [
    "<img src=\"https://github.com/tiagoburiol/MatComp_IV/blob/main/imagens/numeracao.png?raw=true\" width=\"380\">"
   ]
  },
  {
   "cell_type": "markdown",
   "metadata": {},
   "source": [
    "Expressar isto em termos dos pontos interiores da grade, com a enumeração descrita acima, $w_i=u\\left(P_i\\right)$, implica que as equações nos pontos $P_i$ serão:\n",
    "$$\n",
    "\\begin{array}{rrrl}\n",
    "P_1: & 4 w_1-w_2-w_4 & =w_{0,3}+w_{1,4}, \\\\\n",
    "P_2: & 4 w_2-w_3-w_1-w_5 & =w_{2,4}, \\\\\n",
    "P_3: & 4 w_3-w_2-w_6 & =w_{4,3}+w_{3,4}, \\\\\n",
    "P_4: & 4 w_4-w_5-w_1-w_7 & =w_{0,2}, \\\\\n",
    "P_5: & 4 w_5-w_6-w_4-w_2-w_8 & =0, \\\\\n",
    "P_6: & 4 w_6-w_5-w_3-w_9 & =w_{4,2}, \\\\\n",
    "P_7: & 4 w_7-w_8-w_4 & =w_{0,1}+w_{1,0}, \\\\\n",
    "P_8: & 4 w_8-w_9-w_7-w_5 & =w_{2,0}, \\\\\n",
    "P_9: & 4 w_9-w_8-w_6 & =w_{3,0}+w_{4,1},\n",
    "\\end{array}\n",
    "$$"
   ]
  },
  {
   "cell_type": "markdown",
   "metadata": {},
   "source": [
    "em que os lados direitos das equações são obtidos a partir das condições de contorno.\n",
    "De fato, as condições de contorno implicam que\n",
    "\n",
    "$$\n",
    "\\begin{aligned}\n",
    "& w_{1,0}=w_{2,0}=w_{3,0}=w_{0,1}=w_{0,2}=w_{0,3}=0, \\\\\n",
    "& w_{1,4}=w_{4,1}=25, \\quad w_{2,4}=w_{4,2}=50 \\quad\\text{e}\\quad w_{3,4}=w_{4,3}=75 .\n",
    "\\end{aligned}\n",
    "$$"
   ]
  },
  {
   "cell_type": "markdown",
   "metadata": {},
   "source": [
    "O sistema linear associado a este problema tem a forma\n",
    "\n",
    "$$\n",
    "\\left[\\begin{array}{rrrrrrrrr}\n",
    "4 & -1 & 0 & -1 & 0 & 0 & 0 & 0 & 0 \\\\\n",
    "-1 & 4 & -1 & 0 & -1 & 0 & 0 & 0 & 0 \\\\\n",
    "0 & -1 & 4 & 0 & 0 & -1 & 0 & 0 & 0 \\\\\n",
    "-1 & 0 & 0 & 4 & -1 & 0 & -1 & 0 & 0 \\\\\n",
    "0 & -1 & 0 & -1 & 4 & -1 & 0 & -1 & 0 \\\\\n",
    "0 & 0 & -1 & 0 & -1 & 4 & 0 & 0 & -1 \\\\\n",
    "0 & 0 & 0 & -1 & 0 & 0 & 4 & -1 & 0 \\\\\n",
    "0 & 0 & 0 & 0 & -1 & 0 & -1 & 4 & -1 \\\\\n",
    "0 & 0 & 0 & 0 & 0 & -1 & 0 & -1 & 4\n",
    "\\end{array}\\right]\\left[\\begin{array}{l}\n",
    "w_1 \\\\\n",
    "w_2 \\\\\n",
    "w_3 \\\\\n",
    "w_4 \\\\\n",
    "w_5 \\\\\n",
    "w_6 \\\\\n",
    "w_7 \\\\\n",
    "w_8 \\\\\n",
    "w_9\n",
    "\\end{array}\\right]=\\left[\\begin{array}{r}\n",
    "25 \\\\\n",
    "50 \\\\\n",
    "150 \\\\\n",
    "0 \\\\\n",
    "0 \\\\\n",
    "50 \\\\\n",
    "0 \\\\\n",
    "0 \\\\\n",
    "25\n",
    "\\end{array}\\right]\n",
    "$$"
   ]
  },
  {
   "cell_type": "code",
   "execution_count": 142,
   "metadata": {},
   "outputs": [],
   "source": [
    "A = np.array([[4 , -1 , 0 , -1 , 0 , 0 , 0 , 0 , 0],\n",
    "              [-1 , 4 , -1 , 0 , -1 , 0 , 0 , 0 , 0],\n",
    "              [0 , -1 , 4 , 0 , 0 , -1 , 0 , 0 , 0],\n",
    "              [-1 , 0 , 0 , 4 , -1 , 0 , -1 , 0 , 0],\n",
    "              [0 , -1 , 0 , -1 , 4 , -1 , 0 , -1 , 0],\n",
    "              [0 , 0 , -1 , 0 , -1 , 4 , 0 , 0 , -1],\n",
    "              [0 , 0 , 0 , -1 , 0 , 0 , 4 , -1 , 0],\n",
    "              [0 , 0 , 0 , 0 , -1 , 0 , -1 , 4 , -1],\n",
    "              [0 , 0 , 0 , 0 , 0 , -1 , 0 , -1 , 4]])\n",
    "b = np.array([25,50,150,0,0,50,0,0,25])"
   ]
  },
  {
   "cell_type": "code",
   "execution_count": 143,
   "metadata": {},
   "outputs": [
    {
     "name": "stdout",
     "output_type": "stream",
     "text": [
      "[18.75 37.5  56.25 12.5  25.   37.5   6.25 12.5  18.75]\n"
     ]
    }
   ],
   "source": [
    "S = np.linalg.solve(A,b)\n",
    "print (S)"
   ]
  },
  {
   "cell_type": "code",
   "execution_count": 144,
   "metadata": {},
   "outputs": [
    {
     "name": "stdout",
     "output_type": "stream",
     "text": [
      "[[18.75 37.5  56.25]\n",
      " [12.5  25.   37.5 ]\n",
      " [ 6.25 12.5  18.75]]\n"
     ]
    }
   ],
   "source": [
    "S = S.reshape(3,3)\n",
    "print (S)"
   ]
  },
  {
   "cell_type": "code",
   "execution_count": 145,
   "metadata": {},
   "outputs": [
    {
     "name": "stdout",
     "output_type": "stream",
     "text": [
      "[[  0.    25.    50.    75.   100.  ]\n",
      " [  0.    18.75  37.5   56.25  75.  ]\n",
      " [  0.    12.5   25.    37.5   50.  ]\n",
      " [  0.     6.25  12.5   18.75  25.  ]\n",
      " [  0.     0.     0.     0.     0.  ]]\n"
     ]
    }
   ],
   "source": [
    "T = np.zeros((5,5))\n",
    "T[:,-1] = np.array([100,75,50,25,0])\n",
    "T[0] = np.array([0,25,50,75,100])\n",
    "T[1:-1, 1:-1] = S\n",
    "print (T)"
   ]
  },
  {
   "cell_type": "code",
   "execution_count": 146,
   "metadata": {},
   "outputs": [
    {
     "data": {
      "image/png": "[encoded data removed]",
      "text/plain": [
       "<Figure size 432x288 with 2 Axes>"
      ]
     },
     "metadata": {
      "needs_background": "light"
     },
     "output_type": "display_data"
    }
   ],
   "source": [
    "fig, ax = plt.subplots()\n",
    "\n",
    "plt.pcolor(T, cmap='jet')\n",
    "plt.colorbar()\n",
    "ax.invert_yaxis()\n",
    "ax.set_aspect('equal')\n",
    "plt.show()"
   ]
  },
  {
   "cell_type": "code",
   "execution_count": 147,
   "metadata": {},
   "outputs": [
    {
     "data": {
      "image/png": "[encoded data removed]",
      "text/plain": [
       "<Figure size 432x288 with 1 Axes>"
      ]
     },
     "metadata": {
      "needs_background": "light"
     },
     "output_type": "display_data"
    }
   ],
   "source": [
    "fig, ax = plt.subplots()\n",
    "ax.imshow(T, interpolation='bessel', cmap='jet')\n",
    "plt.show()"
   ]
  },
  {
   "cell_type": "markdown",
   "metadata": {},
   "source": [
    "Tipos de interpolação disponíveis para `imshow`: `nearest`, `bilinear`, `bicubic`, `spline16`,`spline36`, `hanning`, `hamming`, `hermite`, `kaiser`, `quadric`, `catrom`, `gaussian`, `bessel`, `mitchell`, `sinc` e `lanczos`."
   ]
  },
  {
   "cell_type": "markdown",
   "metadata": {},
   "source": [
    "A seguir é mostrado um exemplo de algoritmo para montar o sistema."
   ]
  },
  {
   "cell_type": "markdown",
   "metadata": {},
   "source": [
    "**Algoritmo parametrizado:** (Colaboração: Jonathan Nogueira <jonathan.wnog@gmail.com>)"
   ]
  },
  {
   "cell_type": "code",
   "execution_count": 148,
   "metadata": {},
   "outputs": [
    {
     "name": "stdout",
     "output_type": "stream",
     "text": [
      "1.0\n"
     ]
    }
   ],
   "source": [
    "# Dados da geometria e malha\n",
    "lx = 0.5 # largura da placa\n",
    "ly = 0.5 # altura da placa\n",
    "n = 10 #subintervalos na direção x, n+1 é o número de colunas\n",
    "m = 10 #subintervalos na direção y, m+1 é o número de linhas\n",
    "h = lx/n\n",
    "k = ly/m\n",
    "alpha = (h/k)**2\n",
    "print(alpha)"
   ]
  },
  {
   "cell_type": "code",
   "execution_count": 149,
   "metadata": {
    "scrolled": true
   },
   "outputs": [],
   "source": [
    "# Tamanho da matriz\n",
    "T = np.zeros([m+1, n+1])\n",
    "\n",
    "# Condições de contorno (bordas da chapa)\n",
    "T[0, :] = [200*x for x in np.linspace(0, lx, n+1)]\n",
    "T[:, -1] = [200*y for y in np.linspace(ly, 0, m+1)]\n",
    "#print (T)"
   ]
  },
  {
   "cell_type": "code",
   "execution_count": 150,
   "metadata": {},
   "outputs": [],
   "source": [
    "## teste\n",
    "#for i in range(0, m-1):\n",
    "#    for j in range(0, n-1):\n",
    "#        idx = i*(n-1) + j# indexação das equações\n",
    "#        print ('i=',i,'j=',j, 'idx=',idx)"
   ]
  },
  {
   "cell_type": "code",
   "execution_count": 151,
   "metadata": {},
   "outputs": [],
   "source": [
    "# Criação do sistema linear Ax = b\n",
    "ordem = (m-1)*(n-1)\n",
    "A = np.zeros((ordem, ordem))\n",
    "b = np.zeros(ordem)\n",
    "\n",
    "# Preenchendo A e b com as diferenças finitas\n",
    "for i in range(0, m-1):\n",
    "    for j in range(0, n-1):\n",
    "        idx = i*(n-1) + j# indexação das equações\n",
    "        A[idx,idx] = 2*(alpha+1)\n",
    "        if j > 0:\n",
    "            A[idx, idx-1] = -1      # T[i, j-1]\n",
    "        if j < n-2:\n",
    "            A[idx, idx+1] = -1      # T[i, j+1]\n",
    "        if i < m-2:\n",
    "            A[idx, idx+(m-1)] = -1  # T[i-1, j]\n",
    "        if i > 0 and idx>=m-1:\n",
    "            A[idx, idx-(m-1)] = -1  # T[i+1, j]\n",
    "#print (A)\n",
    "\n",
    "k = 0\n",
    "for i in range(1, n):\n",
    "    for j in range(1, m):\n",
    "        b[k] = T[i-1,j] + T[i+1,j] - 4*T[i,j] + T[i,j+1]+ T[i,j-1]\n",
    "        k += 1\n",
    "        \n",
    "#print (b)\n",
    "S = np.linalg.solve(A, b)\n",
    "#print(S)"
   ]
  },
  {
   "cell_type": "code",
   "execution_count": 152,
   "metadata": {},
   "outputs": [
    {
     "name": "stdout",
     "output_type": "stream",
     "text": [
      "[[  0.  10.  20.  30.  40.  50.  60.  70.  80.  90. 100.]\n",
      " [  0.   9.  18.  27.  36.  45.  54.  63.  72.  81.  90.]\n",
      " [  0.   8.  16.  24.  32.  40.  48.  56.  64.  72.  80.]\n",
      " [  0.   7.  14.  21.  28.  35.  42.  49.  56.  63.  70.]\n",
      " [  0.   6.  12.  18.  24.  30.  36.  42.  48.  54.  60.]\n",
      " [  0.   5.  10.  15.  20.  25.  30.  35.  40.  45.  50.]\n",
      " [  0.   4.   8.  12.  16.  20.  24.  28.  32.  36.  40.]\n",
      " [  0.   3.   6.   9.  12.  15.  18.  21.  24.  27.  30.]\n",
      " [  0.   2.   4.   6.   8.  10.  12.  14.  16.  18.  20.]\n",
      " [  0.   1.   2.   3.   4.   5.   6.   7.   8.   9.  10.]\n",
      " [  0.   0.   0.   0.   0.   0.   0.   0.   0.   0.   0.]]\n"
     ]
    }
   ],
   "source": [
    "T[1:-1, 1:-1] = S.reshape(m-1,n-1)\n",
    "print (T)"
   ]
  },
  {
   "cell_type": "code",
   "execution_count": 153,
   "metadata": {},
   "outputs": [
    {
     "data": {
      "image/png": "[encoded data removed]",
      "text/plain": [
       "<Figure size 432x288 with 2 Axes>"
      ]
     },
     "metadata": {
      "needs_background": "light"
     },
     "output_type": "display_data"
    }
   ],
   "source": [
    "fig, ax = plt.subplots()\n",
    "\n",
    "plt.pcolor(T, cmap='jet')\n",
    "plt.colorbar()\n",
    "ax.invert_yaxis()\n",
    "ax.set_aspect('equal')\n",
    "plt.show()"
   ]
  },
  {
   "cell_type": "code",
   "execution_count": 154,
   "metadata": {},
   "outputs": [
    {
     "data": {
      "image/png": "[encoded data removed]",
      "text/plain": [
       "<Figure size 432x288 with 1 Axes>"
      ]
     },
     "metadata": {
      "needs_background": "light"
     },
     "output_type": "display_data"
    }
   ],
   "source": [
    "fig, ax = plt.subplots()\n",
    "ax.imshow(T, interpolation='bicubic', cmap='jet')\n",
    "plt.show()"
   ]
  },
  {
   "cell_type": "markdown",
   "metadata": {},
   "source": [
    "**Resolução do exemplo 12.1 (Burden, Richard, L. et al., 2016):** (https://integrada.minhabiblioteca.com.br/reader/books/9788522123414/pageid/823)\n",
    "\n",
    "**Autor:** Jonathan Nogueira (jonathan.wnog@gmail.com)"
   ]
  },
  {
   "cell_type": "code",
   "execution_count": 155,
   "metadata": {},
   "outputs": [
    {
     "name": "stdout",
     "output_type": "stream",
     "text": [
      "[18.75 37.5  56.25 12.5  25.   37.5   6.25 12.5  18.75]\n"
     ]
    }
   ],
   "source": [
    "# Tamanho da matriz\n",
    "x = y = 5\n",
    "T = np.zeros([x, y])\n",
    "\n",
    "# Define os valores da borda (fixo)\n",
    "T[0, :] = [i * 25 for i in range(0, 5)]\n",
    "T[:, 4] = [i * 25 for i in range(4, -1, -1)]\n",
    "\n",
    "# Número de pontos na grade\n",
    "n = (x-2) * (y-2)  \n",
    "\n",
    "# Criação do sistema linear Ax = b\n",
    "A = np.zeros((n, n))\n",
    "b = np.zeros(n)\n",
    "\n",
    "# Preenchendo A e b com as diferenças finitas\n",
    "for i in range(1, x-1):\n",
    "    for j in range(1, y-1):\n",
    "        index = (i-1) * (y-2) + (j-1)\n",
    "        A[index, index] = -4\n",
    "        if j > 1:\n",
    "            A[index, (i-1)*(y-2) + (j-2)] = 1  # T[i, j-1]\n",
    "        if j < y-2:\n",
    "            A[index, (i-1)*(y-2) + j] = 1      # T[i, j+1]\n",
    "        if i < x-2:\n",
    "            A[index, i*(y-2) + (j-1)] = 1      # T[i+1, j]\n",
    "        if i > 1:\n",
    "            A[index, (i-2)*(y-2) + (j-1)] = 1  # T[i-1, j]\n",
    "\n",
    "k = 0\n",
    "for i in range(1, x-1):\n",
    "    for j in range(1, y-1):\n",
    "        b[k] = -(T[i+1, j] - 2*T[i, j] + T[i-1, j]) - (T[i, j+1] - 2*T[i, j] + T[i, j-1])\n",
    "        k += 1\n",
    "\n",
    "#print(\"Matriz A:\")\n",
    "#print(A)\n",
    "#print(\"\\nVetor b:\")\n",
    "#print(b)\n",
    "\n",
    "W = np.linalg.solve(A, b)\n",
    "print(W)\n"
   ]
  },
  {
   "cell_type": "markdown",
   "metadata": {},
   "source": [
    "**Resolução por método iterativo do exemplo 12.1 (Capra e Canalle, 2020):** (https://integrada.minhabiblioteca.com.br/reader/books/9788522123414/pageid/823)\n",
    "\n",
    "**Autor:** Jonathan Nogueira (jonathan.wnog@gmail.com)"
   ]
  },
  {
   "cell_type": "code",
   "execution_count": 156,
   "metadata": {},
   "outputs": [
    {
     "data": {
      "image/png": "[encoded data removed]",
      "text/plain": [
       "<Figure size 432x288 with 2 Axes>"
      ]
     },
     "metadata": {
      "needs_background": "light"
     },
     "output_type": "display_data"
    },
    {
     "name": "stdout",
     "output_type": "stream",
     "text": [
      "[[  0.          25.          50.          75.         100.        ]\n",
      " [  0.          18.74999106  37.49998808  56.24999106  75.        ]\n",
      " [  0.          12.49998808  24.99998212  37.49998808  50.        ]\n",
      " [  0.           6.24999106  12.49998808  18.74999106  25.        ]\n",
      " [  0.           0.           0.           0.           0.        ]]\n"
     ]
    }
   ],
   "source": [
    "from IPython.display import clear_output\n",
    "import matplotlib.pyplot as plt\n",
    "import matplotlib as mlp\n",
    "import numpy as np\n",
    "\n",
    "N = 100\n",
    "tol = 1e-5\n",
    "error = []\n",
    "\n",
    "\n",
    "T = np.zeros([5, 5])\n",
    "T[-1, :] = 0\n",
    "T[:,  0] = 0\n",
    "T[0, :] = np.arange(0, 101, 25) \n",
    "T[:, -1] = np.arange(100, -1, -25)\n",
    "\n",
    "for n in range(N):\n",
    "    T_old = T.copy()  # Salva a matriz de temperaturas da iteração anterior\n",
    "    for i in range(1, len(T)-1):\n",
    "        for j in range(1, len(T)-1):\n",
    "            T[i, j] = (T_old[i - 1, j] + T_old[i + 1, j] + T_old[i, j - 1] + T_old[i, j + 1]) / 4\n",
    "\n",
    "    error.append(np.max(np.abs(T - T_old)))  # Calcula o erro como a diferença máxima entre a matriz atual e a anterior\n",
    "    \n",
    "    clear_output(wait=True)\n",
    "    plt.pcolor(T, cmap='jet')\n",
    "    plt.colorbar()\n",
    "    plt.gca().invert_yaxis()\n",
    "    plt.gca().set_aspect('equal')\n",
    "    plt.title(f\"Iteration: {n+1}, Error: {error[-1]:.2e}\")\n",
    "    plt.show()\n",
    "    \n",
    "    if error[-1] < tol:\n",
    "        break\n",
    "        \n",
    "print(T)"
   ]
  },
  {
   "cell_type": "code",
   "execution_count": 157,
   "metadata": {},
   "outputs": [
    {
     "data": {
      "image/png": "[encoded data removed]",
      "text/plain": [
       "<Figure size 432x288 with 1 Axes>"
      ]
     },
     "metadata": {
      "needs_background": "light"
     },
     "output_type": "display_data"
    }
   ],
   "source": [
    "plt.plot(range(len(error)),error, '.:')\n",
    "plt.grid()\n",
    "\n",
    "plt.title('Gráfico Iteração x Erro')\n",
    "plt.ylabel('Erro')\n",
    "plt.xlabel('Iteração')\n",
    "\n",
    "plt.show()"
   ]
  },
  {
   "cell_type": "markdown",
   "metadata": {},
   "source": [
    "### Atividades:\n",
    "https://integrada.minhabiblioteca.com.br/reader/books/9788522123414/pageid/828"
   ]
  },
  {
   "cell_type": "markdown",
   "metadata": {},
   "source": [
    "**1.** Determine uma solução aproximada da equação diferencial parcial elíptica\n",
    "$$\n",
    "\\begin{array}{cl}\n",
    "\\frac{\\partial^2 u}{\\partial x^2}+\\frac{\\partial^2 u}{\\partial y^2}=0, & 1<x<2, \\quad 0<y<1 ; \\\\\n",
    "u(x, 0)=2 \\ln x, & u(x, 1)=\\ln \\left(x^2+1\\right), \\quad 1 \\leq x \\leq 2 ; \\\\\n",
    "u(1, y)=\\ln \\left(y^2+1\\right), & u(2, y)=\\ln \\left(y^2+4\\right), \\quad 0 \\leq y \\leq 1 .\n",
    "\\end{array}\n",
    "$$\n",
    "\n",
    "Use $h=k=\\frac{1}{3}$ e compare os resultados com a solução real $u(x, y)=\\ln \\left(x^2+y^2\\right)$."
   ]
  },
  {
   "cell_type": "code",
   "execution_count": null,
   "metadata": {},
   "outputs": [],
   "source": []
  }
 ],
 "metadata": {
  "kernelspec": {
   "display_name": "Python 3",
   "language": "python",
   "name": "python3"
  },
  "language_info": {
   "codemirror_mode": {
    "name": "ipython",
    "version": 3
   },
   "file_extension": ".py",
   "mimetype": "text/x-python",
   "name": "python",
   "nbconvert_exporter": "python",
   "pygments_lexer": "ipython3",
   "version": "3.8.5"
  }
 },
 "nbformat": 4,
 "nbformat_minor": 2
}
