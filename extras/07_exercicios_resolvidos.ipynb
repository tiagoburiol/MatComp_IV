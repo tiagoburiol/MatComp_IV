{
 "cells": [
  {
   "cell_type": "code",
   "execution_count": 1,
   "id": "d92c764f-763f-4652-a525-b62841edfbce",
   "metadata": {},
   "outputs": [],
   "source": [
    "import numpy as np\n",
    "import matplotlib.pyplot as plt"
   ]
  },
  {
   "cell_type": "markdown",
   "id": "38c4b127-3e28-4124-a58a-08d5d0252bf7",
   "metadata": {},
   "source": [
    "**Exercício 3:** Determinar uma solução aproximada da equação diferencial parcial elíptica\n",
    "$$\n",
    "\\begin{aligned}\n",
    "& \\frac{\\partial^2 u}{\\partial x^2}+\\frac{\\partial^2 u}{\\partial y^2}=0, \\quad 1<x<2, \\quad 0<y<1 ; \\\\\n",
    "& u(x, 0)=2 \\ln x, \\quad u(x, 1)=\\ln \\left(x^2+1\\right), \\quad 1 \\leq x \\leq 2 ; \\\\\n",
    "& u(1, y)=\\ln \\left(y^2+1\\right), \\quad u(2, y)=\\ln \\left(y^2+4\\right), \\quad 0 \\leq y \\leq 1 . \\\\\n",
    "&\n",
    "\\end{aligned}\n",
    "$$\n",
    "Use $h=k=\\frac{1}{3}$ e compare os resultados com a solução real $u(x, y)=\\ln \\left(x^2+y^2\\right)$."
   ]
  },
  {
   "cell_type": "code",
   "execution_count": 2,
   "id": "94b6829d-94ab-4c40-ac7d-f453b71ca2d2",
   "metadata": {},
   "outputs": [],
   "source": [
    "nx = 20 # nº de subintervloes em x\n",
    "ny = 10 # nº de subintervaloes em y"
   ]
  },
  {
   "cell_type": "code",
   "execution_count": 3,
   "id": "06c73a64-46b9-413c-9400-4c078abfd6d7",
   "metadata": {},
   "outputs": [],
   "source": [
    "# Determinação da malha - coordenadas em x\n",
    "x_coords = np.linspace(1,2,nx+1)\n",
    "# Determinação da malha - coordenadas em y\n",
    "y_coords = np.linspace(0,1,ny+1) \n",
    "\n",
    "#print('coordenadas em x:', x_coords)\n",
    "#print('coordenadas em y:',y_coords)"
   ]
  },
  {
   "cell_type": "code",
   "execution_count": 4,
   "id": "f6e6bd9f-ad08-4411-ac38-b73fcdab4cd8",
   "metadata": {},
   "outputs": [],
   "source": [
    "hx = (x_coords[-1]-x_coords[0])/nx\n",
    "#print('hx =', hx)\n",
    "      \n",
    "hy = (y_coords[-1]-y_coords[0])/ny\n",
    "#print('hy =', hy)"
   ]
  },
  {
   "cell_type": "code",
   "execution_count": 5,
   "id": "fe3a4b6c-5fab-4772-bc7f-98c23a1a33e1",
   "metadata": {},
   "outputs": [],
   "source": [
    "x, y = np.meshgrid(x_coords, y_coords, indexing='xy')\n",
    "#print(x)"
   ]
  },
  {
   "cell_type": "code",
   "execution_count": 6,
   "id": "9c93607f-d0dd-4f63-9919-9943e1db863e",
   "metadata": {},
   "outputs": [],
   "source": [
    "#print(y)"
   ]
  },
  {
   "cell_type": "code",
   "execution_count": 7,
   "id": "668f2a8b-a57a-4792-8229-285e69e04b1f",
   "metadata": {},
   "outputs": [],
   "source": [
    "u = np.zeros_like(x)"
   ]
  },
  {
   "cell_type": "markdown",
   "id": "32210339-9fe8-4d9b-bff6-cbab4688d4b2",
   "metadata": {},
   "source": [
    "**Condições de contorno:** $\\quad u(x, 0)=2 \\ln x\\quad \\text{e} \\quad u(x, 1)=\\ln \\left(x^2+1\\right)$\n"
   ]
  },
  {
   "cell_type": "code",
   "execution_count": 8,
   "id": "8f2a28da-e97c-40e0-92ae-2d634b98ee20",
   "metadata": {},
   "outputs": [],
   "source": [
    "u[0] = 2*np.log(x_coords)\n",
    "#print(u[0])"
   ]
  },
  {
   "cell_type": "code",
   "execution_count": 9,
   "id": "f52e2a7f-6e8e-4cfd-a55d-bd36f23681bd",
   "metadata": {},
   "outputs": [],
   "source": [
    "u[-1] = np.log(x_coords**2+1)\n",
    "#print(u[-1])"
   ]
  },
  {
   "cell_type": "markdown",
   "id": "a4687fbd-9d28-4a74-9f4f-614a45a31470",
   "metadata": {},
   "source": [
    "**Condições de contorno:** $u(1, y)=\\ln \\left(y^2+1\\right), \\quad u(2, y)=\\ln \\left(y^2+4\\right)$"
   ]
  },
  {
   "cell_type": "code",
   "execution_count": 10,
   "id": "96d91d91-e2b0-40cd-b7c8-08a627844218",
   "metadata": {},
   "outputs": [],
   "source": [
    "u[:,0] = np.log(y_coords**2+1)\n",
    "#print(u[:,0])"
   ]
  },
  {
   "cell_type": "code",
   "execution_count": 11,
   "id": "2d8a444a-0255-47a7-a3f9-13e2c82981dd",
   "metadata": {},
   "outputs": [],
   "source": [
    "u[:,-1] = np.log(y_coords**2+4)\n",
    "#print(u[:,0-1])"
   ]
  },
  {
   "cell_type": "code",
   "execution_count": 12,
   "id": "76f814c2-57f2-4755-8dff-8fb8582e4ccc",
   "metadata": {},
   "outputs": [
    {
     "data": {
      "image/png": "[encoded data removed]",
      "text/plain": [
       "<Figure size 400x300 with 2 Axes>"
      ]
     },
     "metadata": {},
     "output_type": "display_data"
    }
   ],
   "source": [
    "x_mesh, y_mesh = np.meshgrid(np.linspace(1,2,nx+2),np.linspace(0,1,ny+2))\n",
    "\n",
    "fig, ax = plt.subplots(figsize=(4, 3))\n",
    "plt.pcolormesh(x_mesh, y_mesh, u, cmap='jet', shading='flat') \n",
    "plt.gca().set_aspect('equal')\n",
    "plt.colorbar()\n",
    "plt.show()"
   ]
  },
  {
   "cell_type": "code",
   "execution_count": 13,
   "id": "923990f6-6a4b-440a-9c67-85bcba833853",
   "metadata": {},
   "outputs": [
    {
     "name": "stdout",
     "output_type": "stream",
     "text": [
      "A.shape: (171, 171)\n"
     ]
    }
   ],
   "source": [
    "# matriz dos pontos internos\n",
    "N = (nx-1) * (ny-1)\n",
    "A = np.zeros((N, N), dtype=float)\n",
    "b = np.zeros(N, dtype=float)\n",
    "print('A.shape:', A.shape)"
   ]
  },
  {
   "cell_type": "code",
   "execution_count": 14,
   "id": "a88f9323-1d24-4eb6-8fb8-1abe7bf2da4d",
   "metadata": {},
   "outputs": [],
   "source": [
    "def idx(i, j):\n",
    "    return (i-1)*(ny-1) + (j-1)"
   ]
  },
  {
   "cell_type": "code",
   "execution_count": 15,
   "id": "53547c92-09d5-4ae1-bd9b-453b30817fbc",
   "metadata": {},
   "outputs": [],
   "source": [
    "# Montagem do sistema\n",
    "ax = 1.0/hx**2\n",
    "ay = 1.0/hy**2\n",
    "ac = -2.0*(ax+ay)\n",
    "\n",
    "for i in range(1, nx):        # i = 1 .. nx-1 (internos em x)\n",
    "    for j in range(1, ny):    # j = 1 .. ny-1 (internos em y)\n",
    "        k = idx(i, j)\n",
    "        A[k, k] = ac\n",
    "\n",
    "        if i > 1:\n",
    "            A[k, idx(i-1, j)] = ax\n",
    "        else:\n",
    "            b[k] -= ax * u.T[0,j]\n",
    "\n",
    "        if i < nx-1:\n",
    "            A[k, idx(i+1, j)] = ax\n",
    "        else:\n",
    "            b[k] -= ax * u.T[-1,j]\n",
    "\n",
    "        if j > 1:\n",
    "            A[k, idx(i, j-1)] = ay\n",
    "        else:\n",
    "            b[k] -= ay * u.T[i,0]\n",
    "\n",
    "        if j < ny-1:\n",
    "            A[k, idx(i, j+1)] = ay\n",
    "        else:\n",
    "            b[k] -= ay * u.T[i,-1]"
   ]
  },
  {
   "cell_type": "code",
   "execution_count": 16,
   "id": "c4752aa3-7854-4903-80ec-b4359bc86b94",
   "metadata": {},
   "outputs": [],
   "source": [
    "# Resolve o sistema\n",
    "u_int = np.linalg.solve(A, b).reshape((nx-1, ny-1))"
   ]
  },
  {
   "cell_type": "code",
   "execution_count": 17,
   "id": "84cb1349-e88e-4d2c-a070-ca00e61e8332",
   "metadata": {},
   "outputs": [
    {
     "data": {
      "image/png": "[encoded data removed]",
      "text/plain": [
       "<Figure size 400x300 with 2 Axes>"
      ]
     },
     "metadata": {},
     "output_type": "display_data"
    }
   ],
   "source": [
    "fig, ax = plt.subplots(figsize=(4, 3))\n",
    "plt.pcolormesh(x_mesh[1:-1,1:-1], y_mesh[1:-1,1:-1], \n",
    "               u_int.T, cmap='jet', shading='flat') \n",
    "plt.gca().set_aspect('equal')\n",
    "plt.colorbar()\n",
    "plt.show()"
   ]
  },
  {
   "cell_type": "code",
   "execution_count": 18,
   "id": "648fa8cf-0e74-46d4-a371-023aecfd7396",
   "metadata": {},
   "outputs": [
    {
     "data": {
      "image/png": "[encoded data removed]",
      "text/plain": [
       "<Figure size 400x300 with 2 Axes>"
      ]
     },
     "metadata": {},
     "output_type": "display_data"
    }
   ],
   "source": [
    "# plotando incluindo as fronteiras\n",
    "u[1:-1, 1:-1] = u_int.T \n",
    "x_mesh, y_mesh = np.meshgrid(np.linspace(1,2,nx+2),np.linspace(0,1,ny+2))\n",
    "\n",
    "fig, ax = plt.subplots(figsize=(4, 3))\n",
    "plt.pcolormesh(x_mesh, y_mesh, u, cmap='jet', shading='flat') \n",
    "plt.gca().set_aspect('equal')\n",
    "\n",
    "plt.colorbar()\n",
    "plt.show()\n"
   ]
  },
  {
   "cell_type": "code",
   "execution_count": 19,
   "id": "350296fd-181b-4a07-9a35-4d612bfc18db",
   "metadata": {},
   "outputs": [
    {
     "data": {
      "image/png": "[encoded data removed]",
      "text/plain": [
       "<Figure size 400x300 with 2 Axes>"
      ]
     },
     "metadata": {},
     "output_type": "display_data"
    }
   ],
   "source": [
    "u_exat = np.log(x**2+y**2)\n",
    "fig, ax = plt.subplots(figsize=(4, 3))\n",
    "plt.pcolormesh(x_mesh, y_mesh , u_exat, cmap='jet', shading='flat') \n",
    "plt.gca().set_aspect('equal')\n",
    "\n",
    "plt.colorbar()\n",
    "plt.show()\n"
   ]
  },
  {
   "cell_type": "code",
   "execution_count": 20,
   "id": "8a89b315-4347-42b1-abe3-7a351470af54",
   "metadata": {},
   "outputs": [
    {
     "data": {
      "image/png": "[encoded data removed]",
      "text/plain": [
       "<Figure size 400x300 with 2 Axes>"
      ]
     },
     "metadata": {},
     "output_type": "display_data"
    }
   ],
   "source": [
    "# Plot do erro em valor absoluto\n",
    "\n",
    "fig, ax = plt.subplots(figsize=(4, 3))\n",
    "plt.pcolormesh(x_mesh, y_mesh , np.abs(u-u_exat), shading='flat') \n",
    "plt.gca().set_aspect('equal')\n",
    "\n",
    "plt.colorbar()\n",
    "plt.show()"
   ]
  },
  {
   "cell_type": "code",
   "execution_count": null,
   "id": "ad4231d8-cf5d-4a5d-a2fe-b271d27df4e2",
   "metadata": {},
   "outputs": [],
   "source": []
  },
  {
   "cell_type": "markdown",
   "id": "099ed729-860f-44d8-b50e-9e44364f7566",
   "metadata": {},
   "source": [
    "\n",
    "**Exercício 4: Diferenças Finitas na Equação de Poisson** Use o método de Poisson de diferenças finitas $\\operatorname{com} n=6, m=5$, e tolerância de $10^{-10}$ para obter uma aproximação da solução de\n",
    "\n",
    "$$\n",
    "\\frac{\\partial^2 u}{\\partial x^2}(x, y)+\\frac{\\partial^2 u}{\\partial y^2}(x, y)=x e^y, \\quad 0<x<2, \\quad 0<y<1,\n",
    "$$\n",
    "\n",
    "com as condições de contorno\n",
    "\n",
    "$$\n",
    "\\begin{aligned}\n",
    "& u(0, y)=0, u(2, y)=2 e^y, 0 \\leq y \\leq 1, \\\\\n",
    "& u(x, 0)=x, u(x, 1)=e x, 0 \\leq x \\leq 2\n",
    "\\end{aligned}\n",
    "$$\n",
    "\n",
    "e compare os resultados com a solução exata $u(x, y)=x e^y$."
   ]
  },
  {
   "cell_type": "code",
   "execution_count": null,
   "id": "a3c29186-98b7-4535-a324-1c4670165c93",
   "metadata": {},
   "outputs": [],
   "source": []
  },
  {
   "cell_type": "code",
   "execution_count": null,
   "id": "c1de14cc-57e9-4ec8-bde1-31f161e9e29d",
   "metadata": {},
   "outputs": [],
   "source": []
  },
  {
   "cell_type": "code",
   "execution_count": null,
   "id": "a55f764c-f923-4352-979c-1307f8c1aa87",
   "metadata": {},
   "outputs": [],
   "source": []
  },
  {
   "cell_type": "code",
   "execution_count": 21,
   "id": "c4ffa9ad-6e99-49db-8b08-cb595d1f3a37",
   "metadata": {},
   "outputs": [],
   "source": [
    "import numpy as np\n",
    "import matplotlib.pyplot as plt"
   ]
  }
 ],
 "metadata": {
  "kernelspec": {
   "display_name": "Python 3 (ipykernel)",
   "language": "python",
   "name": "python3"
  },
  "language_info": {
   "codemirror_mode": {
    "name": "ipython",
    "version": 3
   },
   "file_extension": ".py",
   "mimetype": "text/x-python",
   "name": "python",
   "nbconvert_exporter": "python",
   "pygments_lexer": "ipython3",
   "version": "3.12.4"
  }
 },
 "nbformat": 4,
 "nbformat_minor": 5
}
