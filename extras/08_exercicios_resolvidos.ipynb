{
 "cells": [
  {
   "cell_type": "markdown",
   "id": "0d67804f-b9d6-41f0-bb99-b666d0513222",
   "metadata": {},
   "source": [
    "**1.** ([Boyce e Diprima, 2024](https://app.minhabiblioteca.com.br/reader/books/9788521638841/epubcfi/6/44%5B%3Bvnd.vst.idref%3Dchapter10%5D!/4/1150/100/3:66%5Best%2Co.%5D)) Sabendo que a solução $u(x, y)$ da equação de Laplace no retângulo $0<x<a, 0<y<b$, que satisfaz as condições de contorno\n",
    "\n",
    "$$\n",
    "\\begin{array}{lll}\n",
    "u(0, y)=0, & u(a, y)=f(y), & 0<y<b \\\\\n",
    "u(x, 0)=0, & u_y(x, b)=0, & 0<x<a .\n",
    "\\end{array}\n",
    "$$\n",
    "\n",
    "é dada por\n",
    "\n",
    "$$\n",
    "u(x, y)=\\sum_{n=l}^{\\infty} c_n \\operatorname{senh}\\left(\\frac{(2 n-1) \\pi x}{2 b}\\right) \\operatorname{sen}\\left(\\frac{(2 n-1) \\pi y}{2 b}\\right)$$\n",
    "\n",
    "com\n",
    "\n",
    "$$c_n=\\frac{2 / b}{\\operatorname{senh}((2 n-1) \\pi a / 2 b)} \\int_0^b f(y) \\operatorname{sen}\\left(\\frac{(2 n-1) \\pi y}{2 b}\\right) dy$$\n",
    "\n",
    "Verifique, usando SymPy, que para $f(y)=y(2 b-y)$, tem-se\n",
    "\n",
    "$$c_n=\\frac{32 b^2}{(2 n-1)^3 \\pi^3 \\operatorname{senh}((2 n-1) \\pi a / 2 b)}$$\n",
    "\n",
    "Então, obtenha uma solução numérica para o caso de $a=3$ e $b=2$ e compare os gráficos da solução numérica e da solução exta."
   ]
  },
  {
   "cell_type": "code",
   "execution_count": 1,
   "id": "8542b5f1-b21f-42e1-bb6e-6f89a9be119c",
   "metadata": {},
   "outputs": [],
   "source": [
    "import numpy as np\n",
    "import matplotlib.pyplot as plt\n",
    "from numpy import sin, sinh, pi, sum"
   ]
  },
  {
   "cell_type": "markdown",
   "id": "86f44903-2f86-481d-8cd5-8ebc8ab6dcbf",
   "metadata": {},
   "source": [
    "**Obtendo uma aproximação a partir da solução exata**"
   ]
  },
  {
   "cell_type": "code",
   "execution_count": 2,
   "id": "a82032b0-ce35-4b4f-a87d-a12fe3d103cc",
   "metadata": {},
   "outputs": [],
   "source": [
    "a = 3; b = 2\n",
    "cn = lambda n: (32*b**2)/((2*n-1)**3*np.pi**3*np.sinh((2*n-1)*np.pi*a/(2*b)))\n",
    "n = np.arange(1,100)\n",
    "nx=12; ny=8\n",
    "x, y = np.meshgrid(np.linspace(0,a,nx+1),np.linspace(0,b,ny+1))"
   ]
  },
  {
   "cell_type": "code",
   "execution_count": 3,
   "id": "d0cb8a8d-7db8-4deb-8472-c80cef7ad6b8",
   "metadata": {},
   "outputs": [],
   "source": [
    "def u_exat(x,y):\n",
    "    u = np.zeros((ny+1,nx+1))\n",
    "    for n in range(1,10):\n",
    "        u += cn(n)*sinh((2*n-1)*pi*x/(2*b))*sin((2*n-1)*pi*y/(2*b))\n",
    "    return u"
   ]
  },
  {
   "cell_type": "code",
   "execution_count": 4,
   "id": "c0233cf3-4aab-437b-8708-b7cf6b644073",
   "metadata": {},
   "outputs": [],
   "source": [
    "T_exat = np.round(u_exat(x,y),2)\n",
    "#T_exat"
   ]
  },
  {
   "cell_type": "code",
   "execution_count": 5,
   "id": "6f7753be-abee-44b1-b43a-05dcd634dff2",
   "metadata": {},
   "outputs": [
    {
     "data": {
      "image/png": "[encoded data removed]",
      "text/plain": [
       "<Figure size 600x400 with 2 Axes>"
      ]
     },
     "metadata": {},
     "output_type": "display_data"
    }
   ],
   "source": [
    "x, y = np.meshgrid(np.linspace(0,a,nx+1),np.linspace(0,b,ny+1))\n",
    "x_mesh, y_mesh = np.meshgrid(np.linspace(0,a,nx+2),np.linspace(0,b,ny+2))\n",
    "fig, ax = plt.subplots(figsize=(6, 4))\n",
    "plt.pcolormesh(x_mesh, y_mesh , T_exat, cmap='jet', shading='flat') \n",
    "plt.gca().set_aspect('equal')\n",
    "plt.colorbar()\n",
    "plt.show()"
   ]
  },
  {
   "cell_type": "markdown",
   "id": "1c1b51cc-2374-468e-b5a8-2c36a2412c3d",
   "metadata": {},
   "source": [
    "**Obtendo uma aproximação numérica por diferenças finitas**"
   ]
  },
  {
   "cell_type": "code",
   "execution_count": 6,
   "id": "0b1c08e2-fd49-474e-920b-19945dac987a",
   "metadata": {},
   "outputs": [],
   "source": [
    "a = 3; b = 2\n",
    "Lx=a; Ly=b\n",
    "nx=12; ny=8"
   ]
  },
  {
   "cell_type": "code",
   "execution_count": 7,
   "id": "2d90d741-efdb-4a05-9ef5-7dace6e10bbe",
   "metadata": {},
   "outputs": [],
   "source": [
    "hx = Lx/nx\n",
    "hy = Ly/ny\n",
    "N = (nx-1) * ny"
   ]
  },
  {
   "cell_type": "code",
   "execution_count": 8,
   "id": "426524eb-0d6d-460b-97e8-a0154009644a",
   "metadata": {},
   "outputs": [
    {
     "name": "stdout",
     "output_type": "stream",
     "text": [
      "[[77 78 79 80 81 82 83 84 85 86 87]\n",
      " [66 67 68 69 70 71 72 73 74 75 76]\n",
      " [55 56 57 58 59 60 61 62 63 64 65]\n",
      " [44 45 46 47 48 49 50 51 52 53 54]\n",
      " [33 34 35 36 37 38 39 40 41 42 43]\n",
      " [22 23 24 25 26 27 28 29 30 31 32]\n",
      " [11 12 13 14 15 16 17 18 19 20 21]\n",
      " [ 0  1  2  3  4  5  6  7  8  9 10]]\n"
     ]
    }
   ],
   "source": [
    "nos = np.flipud(np.arange(N).T.reshape(ny,nx-1))\n",
    "print(nos)"
   ]
  },
  {
   "cell_type": "code",
   "execution_count": 9,
   "id": "75ae5aed-9334-4955-a00e-53bea06b4eca",
   "metadata": {},
   "outputs": [
    {
     "data": {
      "text/plain": [
       "(8, 11)"
      ]
     },
     "execution_count": 9,
     "metadata": {},
     "output_type": "execute_result"
    }
   ],
   "source": [
    "nos.shape"
   ]
  },
  {
   "cell_type": "code",
   "execution_count": 10,
   "id": "363028b0-e0c5-49f0-b78d-6016e48e12f6",
   "metadata": {},
   "outputs": [],
   "source": [
    "# devolve o numero do no em função da posicao (i,j)\n",
    "def idx(i, j): \n",
    "    return np.flipud(nos).T[i,j]"
   ]
  },
  {
   "cell_type": "code",
   "execution_count": 11,
   "id": "724e178a-d946-4815-9e7f-fbe6a184ae8f",
   "metadata": {},
   "outputs": [
    {
     "name": "stdout",
     "output_type": "stream",
     "text": [
      "[0.     0.9375 1.75   2.4375 3.     3.4375 3.75   3.9375 4.    ]\n"
     ]
    }
   ],
   "source": [
    "y_coord = np.arange(ny+1)*hy\n",
    "f = y_coord*(2*b-y_coord)\n",
    "print(f)"
   ]
  },
  {
   "cell_type": "code",
   "execution_count": 12,
   "id": "f63755df-b453-4c87-aa34-e101568f7e14",
   "metadata": {},
   "outputs": [],
   "source": [
    "# Montagem do sistema\n",
    "ax = -1.0/hx**2\n",
    "ay = -1.0/hy**2\n",
    "ac = -2.0*(ax + ay)\n",
    "\n",
    "A = np.zeros((N, N), dtype=float)\n",
    "b = np.zeros(N, dtype=float)\n",
    "\n",
    "for j in range(0, ny):  \n",
    "    for i in range(0, nx-1):   \n",
    "        k = idx(i, j)\n",
    "        A[k, k] = ac #coeficiente do nó central\n",
    "\n",
    "        if i > 0:\n",
    "            A[k, idx(i-1, j)] = ax\n",
    "        else:\n",
    "            b[k] -= ax * 0\n",
    "\n",
    "        if i < nx-2:\n",
    "            A[k, idx(i+1, j)] = ax\n",
    "        else:\n",
    "            #b[k] -= ax * 0 \n",
    "            b[k] -= ax * f[j]\n",
    "\n",
    "        if j > 0: \n",
    "            A[k, idx(i, j-1)] += ay\n",
    "        else:\n",
    "            b[k] -= ay * 0 \n",
    "    \n",
    "        if j < ny-1:  # considerando como derivada: (Ti,j-1 - Ti,j)/hy = 0 -> Ti,j-1=Ti,j\n",
    "            A[k, idx(i, j+1)] += ay \n",
    "        else:\n",
    "            A[k, idx(i, j)] += ay \n",
    "            #b[k] -= ay * 0 "
   ]
  },
  {
   "cell_type": "code",
   "execution_count": 13,
   "id": "641c7451-e54f-4600-8c38-60a27b813c37",
   "metadata": {},
   "outputs": [],
   "source": [
    "T_int = np.linalg.solve(A,b)\n",
    "T_int = T_int.reshape(ny,nx-1)"
   ]
  },
  {
   "cell_type": "code",
   "execution_count": 14,
   "id": "5a1f1219-eb80-43a9-96b8-548bde80fcf6",
   "metadata": {},
   "outputs": [
    {
     "data": {
      "text/plain": [
       "(10, 14)"
      ]
     },
     "execution_count": 14,
     "metadata": {},
     "output_type": "execute_result"
    }
   ],
   "source": [
    "x_mesh, y_mesh = np.meshgrid(np.linspace(0,3,nx+2),\n",
    "                             np.linspace(0,2,ny+2))\n",
    "x_mesh.shape"
   ]
  },
  {
   "cell_type": "code",
   "execution_count": 15,
   "id": "8870cfb8-da80-4953-ae9d-5c1524c70a5d",
   "metadata": {},
   "outputs": [],
   "source": [
    "T = np.zeros((ny+1,nx+1))\n",
    "T[-1,:]=0\n",
    "T[:,0]=0\n",
    "T[:,-1]=f\n",
    "\n",
    "T[1:,1:-1]=T_int"
   ]
  },
  {
   "cell_type": "code",
   "execution_count": 16,
   "id": "63335df4-21e1-4159-8f7b-7b2afd38e3dd",
   "metadata": {},
   "outputs": [
    {
     "data": {
      "image/png": "[encoded data removed]",
      "text/plain": [
       "<Figure size 600x400 with 2 Axes>"
      ]
     },
     "metadata": {},
     "output_type": "display_data"
    }
   ],
   "source": [
    "fig, ax = plt.subplots(figsize=(6, 4))\n",
    "plt.pcolormesh(x_mesh, y_mesh, T, cmap='jet', shading='flat') \n",
    "plt.gca().set_aspect('equal')\n",
    "\n",
    "plt.colorbar()\n",
    "plt.show()"
   ]
  },
  {
   "cell_type": "code",
   "execution_count": 17,
   "id": "a2226faa-8360-46e7-930b-b04b7c0ca5af",
   "metadata": {},
   "outputs": [],
   "source": [
    "err = np.abs(T_exat-T)"
   ]
  },
  {
   "cell_type": "code",
   "execution_count": 18,
   "id": "b785bee0-d95b-4908-b1b8-8b7123ce7548",
   "metadata": {},
   "outputs": [
    {
     "data": {
      "image/png": "[encoded data removed]",
      "text/plain": [
       "<Figure size 600x400 with 2 Axes>"
      ]
     },
     "metadata": {},
     "output_type": "display_data"
    }
   ],
   "source": [
    "fig, ax = plt.subplots(figsize=(6, 4))\n",
    "plt.pcolormesh(x_mesh, y_mesh, err, shading='flat') \n",
    "plt.gca().set_aspect('equal')\n",
    "\n",
    "plt.colorbar()\n",
    "plt.show()"
   ]
  },
  {
   "cell_type": "markdown",
   "id": "a22eb7dc-26c2-4d02-8f87-5c45541173ca",
   "metadata": {},
   "source": [
    "**2.** ([Boyce e Diprima, 2024](https://app.minhabiblioteca.com.br/reader/books/9788521638841/epubcfi/6/44%5B%3Bvnd.vst.idref%3Dchapter10%5D!/4/1150/100/3:66%5Best%2Co.%5D)) Sabendo que a solução $u(x, y)$ da equação de Laplace no retângulo $0<x<a, 0<y<b$, que satisfaz as condições de contorno\n",
    "\n",
    "$$\n",
    "\\begin{array}{lll}\n",
    "u_x(0, y)=0, & u_x(a, y)=0, & 0<y<b \\\\\n",
    "u(x, 0)=0, & u(x, b)=g(x), & 0<x<a\n",
    "\\end{array}\n",
    "$$\n",
    "\n",
    "é dada por\n",
    "\n",
    "$$u(x, y)=\\frac{c_0 y}{2}+\\sum_{n=1}^{\\infty} c_n \\cos \\left(\\frac{n \\pi x}{a}\\right) \\operatorname{senh}\\left(\\frac{n \\pi y}{a}\\right)$$\n",
    "\n",
    "com\n",
    "\n",
    "$$c_0=\\frac{2}{a b} \\int_0^a g(x) d x$$\n",
    "\n",
    "$$c_n=\\frac{2 / a}{\\operatorname{senh}(n \\pi b / a)} \\int_0^a g(x) \\cos \\left(\\frac{n \\pi x}{a}\\right) d x$$\n",
    "\n",
    "Verifique, usando SymPy, que para $g(x)=1+x^2(x-a)^2$, tem-se\n",
    "\n",
    "$$c_0=\\frac{2}{b}\\left(1+\\frac{a^4}{30}\\right)$$\n",
    "\n",
    "$$c_n=-\\frac{24 a^4(1+\\cos (n \\pi))}{n^4 \\pi^4 \\operatorname{senh}(n \\pi b / a)}$$\n",
    "\n",
    "Então, obtenha uma solução numérica para o caso de $a=3$ e $b=2$ e compare os gráficos da solução numérica e da solução exta"
   ]
  },
  {
   "cell_type": "code",
   "execution_count": 23,
   "id": "6e64054b-72d6-4de2-b74a-a72a90c85804",
   "metadata": {},
   "outputs": [],
   "source": [
    "import sympy as sp\n",
    "sp.init_printing()"
   ]
  },
  {
   "cell_type": "markdown",
   "id": "ea8f3d1b-dede-493b-b08c-c4bd85f62683",
   "metadata": {},
   "source": [
    "Calculando os coeficientes $c_0$ e $c_n$ com SymPy."
   ]
  },
  {
   "cell_type": "code",
   "execution_count": 67,
   "id": "980d5fe8-a9c8-4ca2-b586-3b2f62c553cb",
   "metadata": {},
   "outputs": [],
   "source": [
    "x, y = sp.symbols('x, y')\n",
    "a, b = sp.symbols('a, b')\n",
    "n = sp.symbols('n', integer=True, positive=True)\n",
    "g = 1+x**2*(x-a)**2"
   ]
  },
  {
   "cell_type": "code",
   "execution_count": 68,
   "id": "f189a977-0837-4ab6-9b0e-ac1b384cfb16",
   "metadata": {},
   "outputs": [
    {
     "data": {
      "image/png": "[encoded data removed]",
      "text/latex": [
       "$\\displaystyle \\frac{a^{4} + 30}{15 b}$"
      ],
      "text/plain": [
       " 4     \n",
       "a  + 30\n",
       "───────\n",
       "  15⋅b "
      ]
     },
     "metadata": {},
     "output_type": "display_data"
    }
   ],
   "source": [
    "c0 = 2/(a*b) * sp.integrate(g,(x,0,a))\n",
    "display(sp.simplify(c0))"
   ]
  },
  {
   "cell_type": "code",
   "execution_count": 69,
   "id": "f6a8a6e1-2940-4ec8-8551-d305ff77091d",
   "metadata": {},
   "outputs": [
    {
     "data": {
      "image/png": "[encoded data removed]",
      "text/latex": [
       "$\\displaystyle - \\frac{24 a^{4} \\left(\\left(-1\\right)^{n} + 1\\right)}{\\pi^{4} n^{4} \\sinh{\\left(\\frac{\\pi b n}{a} \\right)}}$"
      ],
      "text/plain": [
       "     4 ⎛    n    ⎞ \n",
       "-24⋅a ⋅⎝(-1)  + 1⎠ \n",
       "───────────────────\n",
       "  4  4     ⎛π⋅b⋅n⎞ \n",
       " π ⋅n ⋅sinh⎜─────⎟ \n",
       "           ⎝  a  ⎠ "
      ]
     },
     "metadata": {},
     "output_type": "display_data"
    }
   ],
   "source": [
    "cn = ((2/a)/sp.sinh(n*sp.pi*b/a))*\\\n",
    "     (sp.integrate(g*sp.cos(n*sp.pi*x/a),(x,0,a)))\n",
    "display(sp.simplify(cn))"
   ]
  },
  {
   "cell_type": "markdown",
   "id": "7ef43a3a-bcb5-4ae2-9304-1c5dc9f100e9",
   "metadata": {},
   "source": [
    "Obtendo uma solução numérica. Observemos que há duas fazes isoladas, na esquerda e na direita, ou seja, $u_x(0, y)=0$ e $u_x(a, y)=0$. Assim, os pontos da malha incluirão essas faces. o que fará com que o número de nós na direção $x$ será igual a $n_x+1$ e na direção $y$ será igual a $n_y-1$. Em que $n_x$ e $n_y$ são os números de subdivisões em cada diresção."
   ]
  },
  {
   "cell_type": "code",
   "execution_count": 50,
   "id": "8793ee59-607c-4ea1-ae59-1352391c2d43",
   "metadata": {},
   "outputs": [],
   "source": [
    "a=3; b=2\n",
    "nx=40; ny=40\n",
    "hx = a/nx; hy = b/ny"
   ]
  },
  {
   "cell_type": "code",
   "execution_count": 51,
   "id": "a4b2fc29-ddd6-4621-9966-7f42e84de935",
   "metadata": {},
   "outputs": [],
   "source": [
    "# número de nós nas rireções x e y\n",
    "nnx = nx+1\n",
    "nny = ny-1"
   ]
  },
  {
   "cell_type": "code",
   "execution_count": 52,
   "id": "0da43b95-d858-46f8-83e0-c29224a3dbdc",
   "metadata": {},
   "outputs": [],
   "source": [
    "N = nnx*nny"
   ]
  },
  {
   "cell_type": "code",
   "execution_count": 53,
   "id": "5c63373c-6f5a-4d78-b0a3-98bc68b3572d",
   "metadata": {},
   "outputs": [],
   "source": [
    "nos = np.flipud(np.arange(N).T.reshape(nny,nnx))\n",
    "#print(nos)"
   ]
  },
  {
   "cell_type": "code",
   "execution_count": 54,
   "id": "e8bfc467-bea5-428a-970f-2e7baa38b094",
   "metadata": {},
   "outputs": [],
   "source": [
    "# devolve o numero do no em função da posicao (i,j)\n",
    "def idx(i, j): \n",
    "    return np.flipud(nos).T[i,j]"
   ]
  },
  {
   "cell_type": "code",
   "execution_count": 55,
   "id": "b655668d-3c29-4877-88ee-e8d01973cc71",
   "metadata": {},
   "outputs": [],
   "source": [
    "# verificando o sentido de i e j e nos\n",
    "#    for i in range(0,nnx):\n",
    "#        print('Nó: (i,j)->(',i,',',j,')->',idx(i,j))"
   ]
  },
  {
   "cell_type": "markdown",
   "id": "9f0db67d-8774-4c8d-af14-b431f19c1a42",
   "metadata": {},
   "source": [
    "Calculando os valores no contorno $u(x, b)=g(x)$ em que  $g(x)=1+x^2(x-a)^2$."
   ]
  },
  {
   "cell_type": "code",
   "execution_count": 56,
   "id": "50f60604-33e2-41b5-8d6b-f61bac54d0e3",
   "metadata": {},
   "outputs": [],
   "source": [
    "xi = hx*np.arange(nnx)\n",
    "g = 1.+xi**2*(xi-a)**2\n",
    "#plt.plot(xi,g)"
   ]
  },
  {
   "cell_type": "code",
   "execution_count": 57,
   "id": "d4f04ed3-1e67-44f2-9af8-c2a197c6614e",
   "metadata": {},
   "outputs": [
    {
     "data": {
      "text/plain": [
       "array([0.   , 0.075, 0.15 , 0.225, 0.3  , 0.375, 0.45 , 0.525, 0.6  ,\n",
       "       0.675, 0.75 , 0.825, 0.9  , 0.975, 1.05 , 1.125, 1.2  , 1.275,\n",
       "       1.35 , 1.425, 1.5  , 1.575, 1.65 , 1.725, 1.8  , 1.875, 1.95 ,\n",
       "       2.025, 2.1  , 2.175, 2.25 , 2.325, 2.4  , 2.475, 2.55 , 2.625,\n",
       "       2.7  , 2.775, 2.85 , 2.925, 3.   ])"
      ]
     },
     "execution_count": 57,
     "metadata": {},
     "output_type": "execute_result"
    }
   ],
   "source": [
    "xi"
   ]
  },
  {
   "cell_type": "code",
   "execution_count": 58,
   "id": "6bf74142-42d1-4eb3-bc4d-0117d013e080",
   "metadata": {},
   "outputs": [],
   "source": [
    "# devolve o numero do no em função da posicao (i,j)\n",
    "def idx(i, j): \n",
    "    return np.flipud(nos).T[i,j]"
   ]
  },
  {
   "cell_type": "code",
   "execution_count": 59,
   "id": "ff59854b-f541-43f0-8829-7449f8056511",
   "metadata": {},
   "outputs": [],
   "source": [
    "# Montagem do sistema\n",
    "ax = -1.0/hx**2\n",
    "ay = -1.0/hy**2\n",
    "ac = -2.0*(ax + ay)\n",
    "\n",
    "A = np.zeros((N, N), dtype=float)\n",
    "b = np.zeros(N, dtype=float)\n",
    "\n",
    "dx0 = 0\n",
    "dxa = 0\n",
    "\n",
    "for j in range(0, nny):  \n",
    "    for i in range(0, nnx):   \n",
    "        k = idx(i, j)\n",
    "        A[k, k] = ac #coeficiente do nó central\n",
    "        \n",
    "        if i > 0:    #inclui o vizinho da esquerda\n",
    "            A[k, idx(i-1, j)] += ax\n",
    "        else: #a menos que seja a borda esquerda\n",
    "            A[k, idx(i+1, j)] += ax\n",
    "            b[k] -= ax*(2*hx*dx0)\n",
    "        \n",
    "        if i < nnx-1: #inclui o vizinho da direita\n",
    "            A[k, idx(i+1, j)] += ax\n",
    "        else:  #a menos que seja a borda direita\n",
    "            A[k, idx(i-1, j)] += ax\n",
    "            b[k] -= ax*(2*hx*dxa)\n",
    "\n",
    "        if j > 0: #inclui o vizinho de baixo\n",
    "            A[k, idx(i, j-1)] += ay\n",
    "        else: #a menos que seja a borda de baixo\n",
    "            b[k] -= ay * 0\n",
    "\n",
    "        if j < nny-1: #inclui o vizinho de cima\n",
    "            A[k, idx(i, j+1)] += ay \n",
    "        else:  #a menos que seja a borda de cima\n",
    "            b[k] -= ay * g[i]"
   ]
  },
  {
   "cell_type": "code",
   "execution_count": 60,
   "id": "2f7fa981-bb7d-4021-9ce4-76fa9c825da8",
   "metadata": {},
   "outputs": [],
   "source": [
    "T_int = np.linalg.solve(A,b)\n",
    "T_int = T_int.reshape(nny,nnx)\n",
    "T  = np.vstack((T_int,g))"
   ]
  },
  {
   "cell_type": "code",
   "execution_count": 61,
   "id": "c99a1e92-7485-4300-80f7-05e2f5006f92",
   "metadata": {},
   "outputs": [
    {
     "data": {
      "image/png": "[encoded data removed]",
      "text/plain": [
       "<Figure size 400x300 with 2 Axes>"
      ]
     },
     "metadata": {},
     "output_type": "display_data"
    }
   ],
   "source": [
    "fig, ax = plt.subplots(figsize=(4, 3))\n",
    "plt.pcolormesh(T, cmap='jet', shading='flat') \n",
    "plt.gca().set_aspect('equal')\n",
    "\n",
    "plt.colorbar()\n",
    "plt.show()"
   ]
  },
  {
   "cell_type": "code",
   "execution_count": 70,
   "id": "4590ffba-8575-4981-b733-da9a7fa13345",
   "metadata": {},
   "outputs": [],
   "source": [
    "a, b = sp.symbols('a b')\n",
    "c0 = c0.subs({a:3,b:2})\n",
    "cn = cn.subs({a:3,b:2})\n",
    "cn = sp.lambdify(n, cn)"
   ]
  },
  {
   "cell_type": "code",
   "execution_count": 71,
   "id": "01b3aa59-987d-4e06-8390-ff1f25ff35b5",
   "metadata": {},
   "outputs": [],
   "source": [
    "# definindo uma aproximação para a solução analítica com n_max termos\n",
    "def T_exat(x, y, n_max):\n",
    "  soma = 0\n",
    "  for n in range(1, n_max):\n",
    "    soma += cn(n)*np.cos(n*np.pi*x/3)*np.sinh(n*np.pi*y/3) \n",
    "#    soma += (-24*3**4*(1+np.cos(n*np.pi)))/(n**4*np.pi**4*np.sinh(n*np.pi*2/3))*\\\n",
    "#            np.cos(n*np.pi*x/3)*np.sinh(n*np.pi*y/3) \n",
    "#  c0 = (2/2)*(1+3**4/30)\n",
    "  return (float(c0)*y/2 + soma)"
   ]
  },
  {
   "cell_type": "code",
   "execution_count": 72,
   "id": "a9d196bc-aea7-49ff-aa4f-0d02f2f6d785",
   "metadata": {},
   "outputs": [],
   "source": [
    "# definindo as coordenadas dos pontos do gráfico\n",
    "x = np.linspace(0, 3, 41)\n",
    "y = np.linspace(0, 2, 40)\n",
    "xx, yy = np.meshgrid(x, y)\n",
    "zz = T_exat(xx, yy, 100)"
   ]
  },
  {
   "cell_type": "code",
   "execution_count": 73,
   "id": "a3727851-b0a9-45e3-b888-b0e135886c98",
   "metadata": {},
   "outputs": [
    {
     "data": {
      "image/png": "[encoded data removed]",
      "text/plain": [
       "<Figure size 400x300 with 2 Axes>"
      ]
     },
     "metadata": {},
     "output_type": "display_data"
    }
   ],
   "source": [
    "fig, ax = plt.subplots(figsize=(4, 3))\n",
    "plt.pcolormesh(zz, cmap='jet', shading='flat') \n",
    "plt.gca().set_aspect('equal')\n",
    "\n",
    "plt.colorbar()\n",
    "plt.show()"
   ]
  },
  {
   "cell_type": "code",
   "execution_count": 74,
   "id": "fa137486-8d9f-41f6-b91c-516a9ec15a60",
   "metadata": {},
   "outputs": [
    {
     "data": {
      "image/png": "[encoded data removed]",
      "text/plain": [
       "<Figure size 400x300 with 2 Axes>"
      ]
     },
     "metadata": {},
     "output_type": "display_data"
    }
   ],
   "source": [
    "fig, ax = plt.subplots(figsize=(4, 3))\n",
    "plt.pcolormesh(zz-T, shading='flat') \n",
    "plt.gca().set_aspect('equal')\n",
    "\n",
    "plt.colorbar()\n",
    "plt.show()"
   ]
  },
  {
   "cell_type": "code",
   "execution_count": null,
   "id": "49c683cd-31dc-441f-b578-50f1644c3a81",
   "metadata": {},
   "outputs": [],
   "source": []
  },
  {
   "cell_type": "code",
   "execution_count": null,
   "id": "d06c4018-0cad-431b-98f7-bf240ca421bc",
   "metadata": {},
   "outputs": [],
   "source": []
  }
 ],
 "metadata": {
  "kernelspec": {
   "display_name": "Python 3 (ipykernel)",
   "language": "python",
   "name": "python3"
  },
  "language_info": {
   "codemirror_mode": {
    "name": "ipython",
    "version": 3
   },
   "file_extension": ".py",
   "mimetype": "text/x-python",
   "name": "python",
   "nbconvert_exporter": "python",
   "pygments_lexer": "ipython3",
   "version": "3.12.4"
  }
 },
 "nbformat": 4,
 "nbformat_minor": 5
}
