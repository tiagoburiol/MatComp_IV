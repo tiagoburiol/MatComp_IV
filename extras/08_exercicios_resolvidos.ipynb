{
 "cells": [
  {
   "cell_type": "markdown",
   "id": "0d67804f-b9d6-41f0-bb99-b666d0513222",
   "metadata": {},
   "source": [
    "**1.** ([Boyce e Diprima, 2024](https://app.minhabiblioteca.com.br/reader/books/9788521638841/epubcfi/6/44%5B%3Bvnd.vst.idref%3Dchapter10%5D!/4/1150/100/3:66%5Best%2Co.%5D)) Sabendo que a solução $u(x, y)$ da equação de Laplace no retângulo $0<x<a, 0<y<b$, que satisfaz as condições de contorno\n",
    "\n",
    "$$\n",
    "\\begin{array}{lll}\n",
    "u(0, y)=0, & u(a, y)=f(y), & 0<y<b \\\\\n",
    "u(x, 0)=0, & u_y(x, b)=0, & 0<x<a .\n",
    "\\end{array}\n",
    "$$\n",
    "\n",
    "é dada por\n",
    "\n",
    "$$\n",
    "u(x, y)=\\sum_{n=l}^{\\infty} c_n \\operatorname{senh}\\left(\\frac{(2 n-1) \\pi x}{2 b}\\right) \\operatorname{sen}\\left(\\frac{(2 n-1) \\pi y}{2 b}\\right)$$\n",
    "\n",
    "com\n",
    "\n",
    "$$c_n=\\frac{2 / b}{\\operatorname{senh}((2 n-1) \\pi a / 2 b)} \\int_0^b f(y) \\operatorname{sen}\\left(\\frac{(2 n-1) \\pi y}{2 b}\\right) dy$$\n",
    "\n",
    "Verifique, usando SymPy, que para $f(y)=y(2 b-y)$, tem-se\n",
    "\n",
    "$$c_n=\\frac{32 b^2}{(2 n-1)^3 \\pi^3 \\operatorname{senh}((2 n-1) \\pi a / 2 b)}$$\n",
    "\n",
    "Então, obtenha uma solução numérica para o caso de $a=3$ e $b=2$ e compare os gráficos da solução numérica e da solução exta."
   ]
  },
  {
   "cell_type": "code",
   "execution_count": 1,
   "id": "8542b5f1-b21f-42e1-bb6e-6f89a9be119c",
   "metadata": {},
   "outputs": [],
   "source": [
    "import numpy as np\n",
    "import matplotlib.pyplot as plt\n",
    "from numpy import sin, sinh, pi, sum"
   ]
  },
  {
   "cell_type": "markdown",
   "id": "86f44903-2f86-481d-8cd5-8ebc8ab6dcbf",
   "metadata": {},
   "source": [
    "**Obtendo uma aproximação a partir da solução exata**"
   ]
  },
  {
   "cell_type": "code",
   "execution_count": 2,
   "id": "a82032b0-ce35-4b4f-a87d-a12fe3d103cc",
   "metadata": {},
   "outputs": [],
   "source": [
    "a = 3; b = 2\n",
    "cn = lambda n: (32*b**2)/((2*n-1)**3*np.pi**3*np.sinh((2*n-1)*np.pi*a/(2*b)))\n",
    "n = np.arange(1,100)\n",
    "nx=12; ny=8\n",
    "x, y = np.meshgrid(np.linspace(0,a,nx+1),np.linspace(0,b,ny+1))"
   ]
  },
  {
   "cell_type": "code",
   "execution_count": 3,
   "id": "d0cb8a8d-7db8-4deb-8472-c80cef7ad6b8",
   "metadata": {},
   "outputs": [],
   "source": [
    "def u_exat(x,y):\n",
    "    u = np.zeros((ny+1,nx+1))\n",
    "    for n in range(1,10):\n",
    "        u += cn(n)*sinh((2*n-1)*pi*x/(2*b))*sin((2*n-1)*pi*y/(2*b))\n",
    "    return u"
   ]
  },
  {
   "cell_type": "code",
   "execution_count": 4,
   "id": "c0233cf3-4aab-437b-8708-b7cf6b644073",
   "metadata": {},
   "outputs": [],
   "source": [
    "T_exat = np.round(u_exat(x,y),2)\n",
    "#T_exat"
   ]
  },
  {
   "cell_type": "code",
   "execution_count": 5,
   "id": "6f7753be-abee-44b1-b43a-05dcd634dff2",
   "metadata": {},
   "outputs": [
    {
     "data": {
      "image/png": "[encoded data removed]",
      "text/plain": [
       "<Figure size 600x400 with 2 Axes>"
      ]
     },
     "metadata": {},
     "output_type": "display_data"
    }
   ],
   "source": [
    "x, y = np.meshgrid(np.linspace(0,a,nx+1),np.linspace(0,b,ny+1))\n",
    "x_mesh, y_mesh = np.meshgrid(np.linspace(0,a,nx+2),np.linspace(0,b,ny+2))\n",
    "fig, ax = plt.subplots(figsize=(6, 4))\n",
    "plt.pcolormesh(x_mesh, y_mesh , T_exat, cmap='jet', shading='flat') \n",
    "plt.gca().set_aspect('equal')\n",
    "plt.colorbar()\n",
    "plt.show()"
   ]
  },
  {
   "cell_type": "markdown",
   "id": "1c1b51cc-2374-468e-b5a8-2c36a2412c3d",
   "metadata": {},
   "source": [
    "**Obtendo uma aproximação numérica por diferenças finitas**"
   ]
  },
  {
   "cell_type": "code",
   "execution_count": 6,
   "id": "0b1c08e2-fd49-474e-920b-19945dac987a",
   "metadata": {},
   "outputs": [],
   "source": [
    "a = 3; b = 2\n",
    "Lx=a; Ly=b\n",
    "nx=12; ny=8"
   ]
  },
  {
   "cell_type": "code",
   "execution_count": 7,
   "id": "2d90d741-efdb-4a05-9ef5-7dace6e10bbe",
   "metadata": {},
   "outputs": [],
   "source": [
    "hx = Lx/nx\n",
    "hy = Ly/ny\n",
    "N = (nx-1) * ny"
   ]
  },
  {
   "cell_type": "code",
   "execution_count": 8,
   "id": "426524eb-0d6d-460b-97e8-a0154009644a",
   "metadata": {},
   "outputs": [
    {
     "name": "stdout",
     "output_type": "stream",
     "text": [
      "[[77 78 79 80 81 82 83 84 85 86 87]\n",
      " [66 67 68 69 70 71 72 73 74 75 76]\n",
      " [55 56 57 58 59 60 61 62 63 64 65]\n",
      " [44 45 46 47 48 49 50 51 52 53 54]\n",
      " [33 34 35 36 37 38 39 40 41 42 43]\n",
      " [22 23 24 25 26 27 28 29 30 31 32]\n",
      " [11 12 13 14 15 16 17 18 19 20 21]\n",
      " [ 0  1  2  3  4  5  6  7  8  9 10]]\n"
     ]
    }
   ],
   "source": [
    "nos = np.flipud(np.arange(N).T.reshape(ny,nx-1))\n",
    "print(nos)"
   ]
  },
  {
   "cell_type": "code",
   "execution_count": 9,
   "id": "75ae5aed-9334-4955-a00e-53bea06b4eca",
   "metadata": {},
   "outputs": [
    {
     "data": {
      "text/plain": [
       "(8, 11)"
      ]
     },
     "execution_count": 9,
     "metadata": {},
     "output_type": "execute_result"
    }
   ],
   "source": [
    "nos.shape"
   ]
  },
  {
   "cell_type": "code",
   "execution_count": 10,
   "id": "363028b0-e0c5-49f0-b78d-6016e48e12f6",
   "metadata": {},
   "outputs": [],
   "source": [
    "# devolve o numero do no em função da posicao (i,j)\n",
    "def idx(i, j): \n",
    "    return np.flipud(nos).T[i,j]"
   ]
  },
  {
   "cell_type": "code",
   "execution_count": 11,
   "id": "724e178a-d946-4815-9e7f-fbe6a184ae8f",
   "metadata": {},
   "outputs": [
    {
     "name": "stdout",
     "output_type": "stream",
     "text": [
      "[0.     0.9375 1.75   2.4375 3.     3.4375 3.75   3.9375 4.    ]\n"
     ]
    }
   ],
   "source": [
    "y_coord = np.arange(ny+1)*hy\n",
    "f = y_coord*(2*b-y_coord)\n",
    "print(f)"
   ]
  },
  {
   "cell_type": "code",
   "execution_count": 12,
   "id": "f63755df-b453-4c87-aa34-e101568f7e14",
   "metadata": {},
   "outputs": [],
   "source": [
    "# Montagem do sistema\n",
    "ax = -1.0/hx**2\n",
    "ay = -1.0/hy**2\n",
    "ac = -2.0*(ax + ay)\n",
    "\n",
    "A = np.zeros((N, N), dtype=float)\n",
    "b = np.zeros(N, dtype=float)\n",
    "\n",
    "for j in range(0, ny):  \n",
    "    for i in range(0, nx-1):   \n",
    "        k = idx(i, j)\n",
    "        A[k, k] = ac #coeficiente do nó central\n",
    "\n",
    "        if i > 0:\n",
    "            A[k, idx(i-1, j)] = ax\n",
    "        else:\n",
    "            b[k] -= ax * 0\n",
    "\n",
    "        if i < nx-2:\n",
    "            A[k, idx(i+1, j)] = ax\n",
    "        else:\n",
    "            #b[k] -= ax * 0 \n",
    "            b[k] -= ax * f[j]\n",
    "\n",
    "        if j > 0: \n",
    "            A[k, idx(i, j-1)] += ay\n",
    "        else:\n",
    "            b[k] -= ay * 0 \n",
    "    \n",
    "        if j < ny-1:  # considerando como derivada: (Ti,j-1 - Ti,j)/hy = 0 -> Ti,j-1=Ti,j\n",
    "            A[k, idx(i, j+1)] += ay \n",
    "        else:\n",
    "            A[k, idx(i, j)] += ay \n",
    "            #b[k] -= ay * 0 "
   ]
  },
  {
   "cell_type": "code",
   "execution_count": 13,
   "id": "641c7451-e54f-4600-8c38-60a27b813c37",
   "metadata": {},
   "outputs": [],
   "source": [
    "T_int = np.linalg.solve(A,b)\n",
    "T_int = T_int.reshape(ny,nx-1)"
   ]
  },
  {
   "cell_type": "code",
   "execution_count": 14,
   "id": "5a1f1219-eb80-43a9-96b8-548bde80fcf6",
   "metadata": {},
   "outputs": [
    {
     "data": {
      "text/plain": [
       "(10, 14)"
      ]
     },
     "execution_count": 14,
     "metadata": {},
     "output_type": "execute_result"
    }
   ],
   "source": [
    "x_mesh, y_mesh = np.meshgrid(np.linspace(0,3,nx+2),\n",
    "                             np.linspace(0,2,ny+2))\n",
    "x_mesh.shape"
   ]
  },
  {
   "cell_type": "code",
   "execution_count": 15,
   "id": "8870cfb8-da80-4953-ae9d-5c1524c70a5d",
   "metadata": {},
   "outputs": [],
   "source": [
    "T = np.zeros((ny+1,nx+1))\n",
    "T[-1,:]=0\n",
    "T[:,0]=0\n",
    "T[:,-1]=f\n",
    "\n",
    "T[1:,1:-1]=T_int"
   ]
  },
  {
   "cell_type": "code",
   "execution_count": 16,
   "id": "63335df4-21e1-4159-8f7b-7b2afd38e3dd",
   "metadata": {},
   "outputs": [
    {
     "data": {
      "image/png": "[encoded data removed]",
      "text/plain": [
       "<Figure size 600x400 with 2 Axes>"
      ]
     },
     "metadata": {},
     "output_type": "display_data"
    }
   ],
   "source": [
    "fig, ax = plt.subplots(figsize=(6, 4))\n",
    "plt.pcolormesh(x_mesh, y_mesh, T, cmap='jet', shading='flat') \n",
    "plt.gca().set_aspect('equal')\n",
    "\n",
    "plt.colorbar()\n",
    "plt.show()"
   ]
  },
  {
   "cell_type": "code",
   "execution_count": 17,
   "id": "a2226faa-8360-46e7-930b-b04b7c0ca5af",
   "metadata": {},
   "outputs": [],
   "source": [
    "err = np.abs(T_exat-T)"
   ]
  },
  {
   "cell_type": "code",
   "execution_count": 18,
   "id": "b785bee0-d95b-4908-b1b8-8b7123ce7548",
   "metadata": {},
   "outputs": [
    {
     "data": {
      "image/png": "[encoded data removed]",
      "text/plain": [
       "<Figure size 600x400 with 2 Axes>"
      ]
     },
     "metadata": {},
     "output_type": "display_data"
    }
   ],
   "source": [
    "fig, ax = plt.subplots(figsize=(6, 4))\n",
    "plt.pcolormesh(x_mesh, y_mesh, err, shading='flat') \n",
    "plt.gca().set_aspect('equal')\n",
    "\n",
    "plt.colorbar()\n",
    "plt.show()"
   ]
  },
  {
   "cell_type": "code",
   "execution_count": null,
   "id": "8b15c364-d48f-4c54-94b6-7950df6ed29b",
   "metadata": {},
   "outputs": [],
   "source": []
  }
 ],
 "metadata": {
  "kernelspec": {
   "display_name": "Python 3 (ipykernel)",
   "language": "python",
   "name": "python3"
  },
  "language_info": {
   "codemirror_mode": {
    "name": "ipython",
    "version": 3
   },
   "file_extension": ".py",
   "mimetype": "text/x-python",
   "name": "python",
   "nbconvert_exporter": "python",
   "pygments_lexer": "ipython3",
   "version": "3.12.4"
  }
 },
 "nbformat": 4,
 "nbformat_minor": 5
}
